{
 "cells": [
  {
   "cell_type": "markdown",
   "metadata": {},
   "source": [
    "emotion list is updated before the analysis"
   ]
  },
  {
   "cell_type": "code",
   "execution_count": 32,
   "metadata": {},
   "outputs": [
    {
     "name": "stdout",
     "output_type": "stream",
     "text": [
      "Requirement already satisfied: nltk in c:\\users\\tarun\\anaconda3\\envs\\tensorflowww\\lib\\site-packages (3.5)\n",
      "Requirement already satisfied: click in c:\\users\\tarun\\anaconda3\\envs\\tensorflowww\\lib\\site-packages (from nltk) (7.1.2)\n",
      "Requirement already satisfied: regex in c:\\users\\tarun\\anaconda3\\envs\\tensorflowww\\lib\\site-packages (from nltk) (2020.7.14)\n",
      "Requirement already satisfied: joblib in c:\\users\\tarun\\anaconda3\\envs\\tensorflowww\\lib\\site-packages (from nltk) (0.16.0)\n",
      "Requirement already satisfied: tqdm in c:\\users\\tarun\\anaconda3\\envs\\tensorflowww\\lib\\site-packages (from nltk) (4.48.2)\n"
     ]
    }
   ],
   "source": [
    "! pip install nltk"
   ]
  },
  {
   "cell_type": "code",
   "execution_count": 23,
   "metadata": {},
   "outputs": [
    {
     "name": "stdout",
     "output_type": "stream",
     "text": [
      "Requirement already satisfied: GetOldTweets3 in c:\\users\\tarun\\anaconda3\\envs\\tensorflowww\\lib\\site-packages (0.0.11)\n",
      "Requirement already satisfied: pyquery>=1.2.10 in c:\\users\\tarun\\anaconda3\\envs\\tensorflowww\\lib\\site-packages (from GetOldTweets3) (1.4.1)\n",
      "Requirement already satisfied: lxml>=3.5.0 in c:\\users\\tarun\\anaconda3\\envs\\tensorflowww\\lib\\site-packages (from GetOldTweets3) (4.5.2)\n",
      "Requirement already satisfied: cssselect>0.7.9 in c:\\users\\tarun\\anaconda3\\envs\\tensorflowww\\lib\\site-packages (from pyquery>=1.2.10->GetOldTweets3) (1.1.0)\n"
     ]
    }
   ],
   "source": [
    "! pip install GetOldTweets3"
   ]
  },
  {
   "cell_type": "code",
   "execution_count": 24,
   "metadata": {},
   "outputs": [],
   "source": [
    "import string\n",
    "from collections import Counter\n",
    "import matplotlib.pyplot as plt"
   ]
  },
  {
   "cell_type": "code",
   "execution_count": 25,
   "metadata": {},
   "outputs": [],
   "source": [
    "def get_tweets():\n",
    "    import GetOldTweets3 as got # library used to scrap the data from twitter \n",
    "    tweetCriteria = got.manager.TweetCriteria().setQuerySearch('Coronavirusvaccine') \\\n",
    "        .setSince(\"2020-05-01\") \\\n",
    "        .setUntil(\"2020-05-31\") \\\n",
    "        .setMaxTweets(100)\n",
    "        \n",
    "    tweets = got.manager.TweetManager.getTweets(tweetCriteria)\n",
    "    \n",
    "    text_tweets = [[tweet.text] for tweet in tweets]\n",
    "    return text_tweets\n",
    "         \n",
    "    "
   ]
  },
  {
   "cell_type": "code",
   "execution_count": 26,
   "metadata": {},
   "outputs": [],
   "source": [
    "\n",
    "text = \"\"\n",
    "\n",
    "text_tweets = get_tweets()\n",
    "length = len(text_tweets)\n",
    "\n",
    "for i in range(0 , length):\n",
    "    text  = text_tweets[i][0] + \" \" + text\n",
    "    \n",
    "# converting to lower case\n",
    "lower_case = text.lower()\n",
    "\n",
    "# remove puctuation\n",
    "\n",
    "cleaned_text = lower_case.translate(str.maketrans('', '', string.punctuation))\n",
    "\n",
    "# splitting text into words\n",
    "\n",
    "tokenized_words = cleaned_text.split()"
   ]
  },
  {
   "cell_type": "code",
   "execution_count": 27,
   "metadata": {},
   "outputs": [
    {
     "data": {
      "text/plain": [
       "[['The reason they\\'re not adjusting the nubers on CV deaths & the reason they have a \"liberal approach to mortality\" as Dr Birx said is because the state can force you to get a #vaccine in a public health emergency https://en.m.wikipedia.org/wiki/Jacobson_v._Massachusetts #coronavirus #coronavirusvaccine #warpspeed'],\n",
       " ['प्रधानमंत्री फसल बीमा योजना किसानों को आपदा से हुए नुकसान से राहत दिलाने वाली योजना है। इसके अंतर्गत न्यूनतम प्रीमियम देकर, किसान बुआई से कटाई तक प्राकृतिक आपदाओं से हुए नुकसान का उचित भुगतान पा सकता है। और जानिए: http://www.pmfby.gov.in #PMKisan #AatmaNirbharKrishi'],\n",
       " ['The chip sector is breaking out, with or without a #CoronaVirusVaccine. $NVDA is trading near its all-time high. This is an opinion, not a BUY/SELL recommendation. #SP500 $SMH $SOXX $INTC $AMD $QCOM #chipstock #XLK #NASDAQ $SPY $SPX #DJIA $DIA #DOW #NASDAQ #COVID19'],\n",
       " [\".@OxfordVacGroup changed from using a saline solution (placebo) to a meningitis vaccine during their research/'science'. Any opinion on this Dr @chrismartenson? Sounds like scientific malfeasance to me. Let them have #Hydroxychloroquine (with zinc) early on. #CoronavirusVaccine \"],\n",
       " ['Coronavirus vaccine could be ready by October, claims Pfizer CEO Global pharmaceutical major Pfizer believes that a vaccine to prevent COVID-19 could be ready by the end of October https://www.qatarday.com/coronavirus/updates/coronavirus-vaccine-could-be-ready-by-october-claims-pfizer-ceo/74012 #coronavirus #vaccine #coronavirusvaccine #COVID19vaccine'],\n",
       " [\"#Pfizer has began human testing.. let's hope it all go well.. #coronavirusvaccine \"],\n",
       " ['COVID-19 vaccine could be ready by October, claims Pfizer CEO Pfizer is conducting clinical trials in the US and Europe for the BNT162 vaccine programme. #covid19 #coronavirusvaccine #Pfizer #COVIDpandemic #COVID19Pakistan'],\n",
       " ['Of course. #remdesivir #coronavirusvaccine https://www.washingtonpost.com/health/2020/05/28/remdesivir-coronavirus-trump/'],\n",
       " ['Coronavirus vaccine in works at UW-Madison Read More: http://tinyurl.com/y7o4q44r #bio #channel #CoronavirusVaccine #covid-19 #development #eric #flu #Hamilton #Madison #Milwaukee #News #Researchers #tech #testing #university #vaccine #Virus #wisconsin #WISN12News'],\n",
       " ['The AFG #Homeopathic Dr claims 2 have treated over 7k paints of #COVIDー19. His treatment includes vaccines made of herbals only known 2him. AFG public health officials haven’t responded 2 his open call for challenge. His paitents include gov officials &amp; MPs. #coronavirusvaccine'],\n",
       " ['Bill Gates Crimes Against Humanity 2020 https://youtu.be/7rFQE5tyVBM via @YouTube #ArrestBillGates #ArrestBillGates2020 #patents #coronavirusvaccine'],\n",
       " ['করোনাভাইরাস ভ্যাকসিন অক্টোবরের শেষের মধ্যে প্রস্তুত হতে পারে বলে দাবি করেছেন ফাইজারের সিইও অ্যালবার্ট বাউরলার । #coronavirusvaccine #COVID19'],\n",
       " ['लोगों को जबरन कोरोना संक्रमित करना होगा, जानिए वैकसीन बना रहे वैज्ञानिकों ने ऐसा क्यों कहा #Scientists #CoronaVirusVaccine #COVID19'],\n",
       " ['Sourav Ganguly ने कोरोना वायरस को लेकर कही ये बात, इसके बाद सबकुछ पहले जैसा होगा #BCCIPresident #SouravGanguly #CricketNews #CoronaVirusVaccine #indiancricketers'],\n",
       " ['Coronavirus Vaccine Likely in 2020, But Production Only by 2021 End: Expert #COVID19 #NewDelhi #Coronavirusvaccine #Coronavirus'],\n",
       " ['அக்டோபர் மாதத்திற்குள் தடுப்பூசி தயாராக இருக்கும்..!! மருந்து கண்டுபிடிப்பில் இந்தியா-அமெரிக்கா போட்டி #Coronavirusvaccine #CoronavirusPandemic'],\n",
       " ['#coronavirusvaccine #goodnews #progress'],\n",
       " ['There are people who have questions about #vaccines who are just being worried parents. We have already seen the death caused by not having only ONE vaccine. Please be respectful and HELP someone make the right choice, for them and for all. #VaccinesWork #coronavirusvaccine https://twitter.com/nytimes/status/1266700907837784064'],\n",
       " ['கொரோனா தடுப்பூசி பரிசோதனை 95% வெற்றி..?? சீன ஆராய்ச்சியாளர்கள் நம்பிக்கை..!! #coronavirusvaccine #CoronavirusPandemic'],\n",
       " ['Coronavirus Vaccine बनाने में अब एक और कंपनी ने जगाई दुनिया की उम्मीदें, अक्टूबर के अंत तक हो सकती है तैयार #coronavirusvaccine #COVID19vaccine #COVID19 #AatmaNirbharDesh #Lockdown-4 #TheAawazAgainstCorona'],\n",
       " ['मॉस्को जाने वाला एयर इंडिया विमान आधे रास्ते से लौटा दिल्ली, जानें क्यों #CoronavirusOutbreak #CoronavirusLockdown #CoronavirusPandemic #CoronaVirusUpdates #coronavirusvaccine #Delhi @airindiain #AirIndia #Moscow'],\n",
       " ['‘ #Pfizer plans to test a #CoronavirusVaccine in thousands of people by September CEO Albert Bourla said that if a vaccine proves to be safe, the company “will be able to deliver millions of doses in the October time frame.” ‘ '],\n",
       " ['प्रधानमंत्री फसल बीमा योजना किसानों को आपदा से हुए नुकसान से राहत दिलाने वाली योजना है। इसके अंतर्गत न्यूनतम प्रीमियम देकर, किसान बुआई से कटाई तक प्राकृतिक आपदाओं से हुए नुकसान का उचित भुगतान पा सकता है। और जानिए: http://www.pmfby.gov.in #PMKisan #AatmaNirbharKrishi'],\n",
       " ['ऐसे बन रही CORONAVIRUS Vaccine | How COVID-19 Vaccines Are Made | Why 21-Day Lockdown in INDIA? Read More: http://tinyurl.com/yb63krtw #21dayslockdown #coronainhindi #coronavaccinedate #coronavirus #coronavirusvaccine #coronavirus #covid-19'],\n",
       " ['Coronavirus Vaccine बनाने में अब एक और कंपनी ने जगाई दुनिया की उम्मीदें, अक्टूबर के अंत तक हो सकती है तैयार #coronavirusvaccine #COVID19vaccine #COVID19'],\n",
       " ['Global pharmaceutical major Pfizer believes that Covid-19 vaccine could be ready by the end of October. @pfizer #Pfizer #Coronavirus #Pandemic #Vaccine #CoronavirusVaccine https://www.newsgram.com/vaccine-covid-19-october-pfizer-ceo/'],\n",
       " ['Donald Trump&#39;s Best Coronavirus Reactions You Might Have Missed Read More: http://tinyurl.com/y96bbp9p #coronavirus #coronavirus #coronavirusnews #coronaviruspandemic #coronavirustrump #coronavirusupdate #coronavirususreaction #CoronavirusVaccine #covid-19 #covid-19USA'],\n",
       " ['Will America Actually Go Get a Coronavirus Vaccine? | LX Read More: http://tinyurl.com/ya85ugah #coronavirus #coronavirus2020 #CoronavirusVaccine #covid-19USA #covid-19vaccine #covid19 #localx #lx #NBC #nbclx #nbcownedstations #nbclx #News #noahpransky #vaccine'],\n",
       " ['#coronavirusvaccine #naturalhealth #meditation'],\n",
       " ['COVID-19 Vaccine Could be Ready by October, Claims Pfizer CEO #Coronavirus #coronavirus #COVID_19 #CoronavirusVaccine @pfizer'],\n",
       " ['#Submitabstracts #callforpapers #manuscripts #voluntarybenefits #voluntarypublish #fulllengthArticles #volumes #issues #covidー19vaccine #coronavirusvaccine #Anyabstractsubmission Please contact me for more details E: ana.hrodebert@gmail.com'],\n",
       " ['ऑक्सफर्ड के बाद अब इस कंपनी का दावा अक्टूबर में आ सकती है कोरोना वैक्सीन. https://hindi.asiavillenews.com/article/coronavirus-vaccine-update-pfizer-ceo-claims-covid-19-vaccine-could-be-ready-by-october-end-45888 #coronavirusvaccine #coronavirus #CoronavirusOutbreak'],\n",
       " ['The race to make a #Covid19 vaccine in India: Companies in India are using diverse technologies to develop a #CoronavirusVaccine, but even as they race against time, the road to an efficacious solution is neither straight nor short https://www.forbesindia.com/article/coronavirus/the-race-to-make-a-covid19-vaccine-in-india/59547/1 #CoronavirusUpdates'],\n",
       " ['@JasonBarrGrant You think there’s rioting in the streets now?! That’s nothing compared to even trying to MANDATE VACCINES #riots #coronavirusvaccine'],\n",
       " ['US #antivaxxers aim to spread fear over future #coronavirusvaccine Anti-vaxxers’ influence and power could affect Americans’ willingness to take a #Covid19vaccine, experts warn #health #ConspiracyTheories'],\n",
       " ['Will you take the vaccine when it arrives? #COVID19 #coronavirus #coronavirusvaccine'],\n",
       " ['Solid short term bottom for $MRNA $ino $nvax. Now moving to upper range of the trend. #CoronaVirusVaccine &amp; #Grocery #Supermarkets are back InPlay until there is more visibility on vaccine &amp; #civid19 antivirals $rgen $srne $enlv $ibb Some picked up demand @#HomeImprovement $HD'],\n",
       " ['WHO, 37 countries launch alliance to share tools to battle COVID-19 #Covid19 #Coronavirus #WHO #Vaccaine #coronavirusvaccine #CoronavirusCrisis https://www.qatarday.com/coronavirus/updates/who-37-countries-launch-alliance-to-share-tools-to-battle-covid-19/73978'],\n",
       " ['Insightful outlook on the state of digital publishing in #2020, especially with a stable #coronavirusvaccine not yet here.'],\n",
       " ['ANALYSIS: George Floyd was deliberately murdered, right on schedule to unleash race riots across America to cause even more chaos | #JoeBiden #blackcommunity #Democrats #blackvote #blackAmericans #media #leftwing #coronavirusvaccine #blackpeople #massgenocide #globalists'],\n",
       " ['#coronavirussuisse #coronavirussemana #Coronavirustoronto #coronavirustx #CoronaVirusTelangana #coronavirusturkey #coronavirustn #coronavirustaskforce #CoronavirusTracker #coronavirusuk #coronavirusu #CoronaVirusUpdatesireland #coronavirusvaccine #coronaviruswashington'],\n",
       " ['why should we help China be IN CHARGE of distributing the #CoronaVirusVaccine to needy countries? we can DO THAT OURSELVES &amp; develop POSITIVE international alliances accordingly ... instead of HELPING CHina do that to OUR DETRIMENT ... that is something STUPID #JoeBiden would do'],\n",
       " ['#Chinese firm #Sinovac claims #Coronavirusvaccine ‘99% likely to work and can be given to 100 million people’ https://bit.ly/36JSj8Z'],\n",
       " ['प्रधानमंत्री फसल बीमा योजना किसानों को आपदा से हुए नुकसान से राहत दिलाने वाली योजना है। इसके अंतर्गत न्यूनतम प्रीमियम देकर, किसान बुआई से कटाई तक प्राकृतिक आपदाओं से हुए नुकसान का उचित भुगतान पा सकता है। और जानिए: http://www.pmfby.gov.in #PMKisan #AatmaNirbharKrishi'],\n",
       " ['Now time #ManhattanProject like #WW2 #coronavirusWar need #$€£¥ Need #coronavirusVaccine #antivirals #trillions now !! #killCorona'],\n",
       " ['Coronavirus Vaccine Found | Professor Wants It Test First To Front Line Workers African Read More: http://tinyurl.com/yafxmenc #breakingnews #coronavirus #CoronavirusExplained #coronavirusnews #coronavirusoutbreak #CoronavirusVaccine #coronavirusvaccinechina'],\n",
       " [\"I'm here with you. The last flu shot I had, made my arm hot, red, and swelled up for 8 days. I'll never again have any thing to do with any kind of flu shot. So, no way in hell I'm taking the #coronavirusvaccine !\"],\n",
       " ['Increased Risk of Noninfluenza Respiratory Virus Infections Associated With Receipt of Inactivated Influenza Vaccine https://www.researchgate.net/publication/221709759_Increased_Risk_of_Noninfluenza_Respiratory_Virus_Infections_Associated_With_Receipt_of_Inactivated_Influenza_Vaccine @DrButtar #CoronaVirusVaccine'],\n",
       " ['Don’t \\u2066@Twitter\\u2069 let lies threaten public health! “US anti-vaxxers aim to spread fear over future coronavirus vaccine” #coronavirusvaccine '],\n",
       " ['#Corona #coronavirusuk #coronavirus #Covid19UK #COVID19 #Covid_19 #Covid #COVID__19 #Covid #COVIDー19 #coronavaccine #coronavirusvaccine #COVIDVACCINE #COVID19vaccine #COVIDー19vaccine #Covid_19vaccine #COVID__19vaccine #99percent'],\n",
       " ['\"If things go well, and the stars are aligned, we will have enough evidence of safety and efficacy so that we can...have a vaccine around the end of October,\" Pfizer CEO Albert Bourla was reported by the Times of Israel as saying. #coronavirusvaccine '],\n",
       " ['Hilarious. Good morning, indeed. #Minneapolisprotests #coronavirusvaccine #TwitterCensorship #Trump #NYTimes'],\n",
       " ['Head of #Pfizer #pharmaceuticals says #CoronaVirusVaccine could be ready by October https://www.timesofisrael.com/head-of-pfizer-pharmaceuticals-says-vaccine-could-be-ready-by-october/ $PFE $SNY $AZN $JNJ $MRK $MRNA $NVAX $INO $IBB $SPY $DIA $DJI $SPX $QQQ $IXIC $VXX $VIIX $TLT $IEF $TYX $TNX $GDX $GLD'],\n",
       " ['Coronavirus: 99% chance that COVID-19 vaccine will work, says Chinese firm #World #CoronaVirus #COVID19 #Health #StaySafe #StayAlert #ControlTheVirus #SaveLives #DontBeAFool #ThinkOfOthers #SocialDistancing #Lockdown #CoronaVirusVaccine https://news.sky.com/story/coronavirus-99-chance-that-covid-19-vaccine-will-work-says-chinese-firm-11996787'],\n",
       " ['#Novartis $NVS will start making #coronavirusvaccine this month... https://nypost.com/2020/05/29/novartis-to-start-making-coronavirus-vaccine-this-month/?utm_campaign=iphone_nyp&amp;utm_source=twitter_app $spy $spx $dia $dji $vxx $viix'],\n",
       " ['$CRM Salesforce cut its annual profit and revenue forecast, due in part to allowing clients to defer payments as well as paying one-time commissions to its sales team. $ND_F $SPY #economy #coronavirusvaccine #verabands @NINJATRADER @NTEcosystem'],\n",
       " ['$COST Costco reported quarterly profit of $1.89 per share, 6 cents below estimates, though revenue was slightly above consensus $SPY #coronavirusvaccine #verabands @NINJATRADER @NTEcosystem'],\n",
       " ['$ND_F $$NASDAQ $COMPQ $SPY Stock futures fell slightly on Friday morning as traders awaited a news conference from President Donald Trump regarding China #economy #coronavirusvaccine #verabands @NINJATRADER @NTEcosystem'],\n",
       " ['Coronavirus vaccine latest|Vaccine shows immune response in tests on mice|US Scientists Read More: http://tinyurl.com/y7gees89 #coronavirus #coronavirusdrug #coronavirusoutbreak #coronavirusupdate #CoronavirusVaccine #coronavirusvaccineaustralia #coronavirusvaccinebbc'],\n",
       " ['#coronavirussuisse #coronavirussemana #Coronavirustoronto #coronavirustx #CoronaVirusTelangana #coronavirusturkey #coronavirustn #coronavirustaskforce #CoronavirusTracker #coronavirusuk #coronavirusu #CoronaVirusUpdatesireland #coronavirusvaccine #coronaviruswashington'],\n",
       " ['Coronavirus vaccine: Pfizer CEO claims COVID-19 medicine could be ready by October-end #Coronavirusvaccine #COVID19 #Pfizer https://www.businesstoday.in/sectors/pharma/coronavirus-vaccine-pfizer-ceo-claims-covid-19-medicine-ready-by-october-end-2020-astrazeneca-oxford-university/story/405346.html'],\n",
       " ['Pharma leaders warn vaccine manufacturing doesn’t turn on a dime https://www.biocentury.com/article/305308 #coronavirus #coronavirusvaccine #mycompany'],\n",
       " ['I’m STILL related but unrelated news!! #COVID19 #coronavirus #coronavirusvaccine '],\n",
       " ['कब आएगा कोरोनावायरस वैक्सीन? When Will Coronavirus Vaccine Come? Read More: http://tinyurl.com/yahrh9pn #corona #coronaviruskidawa #coronaviruskivaccine #coronavirusseshihoneupaay #coronavirus #CoronavirusVaccine'],\n",
       " ['प्रधानमंत्री फसल बीमा योजना किसानों को आपदा से हुए नुकसान से राहत दिलाने वाली योजना है। इसके अंतर्गत न्यूनतम प्रीमियम देकर, किसान बुआई से कटाई तक प्राकृतिक आपदाओं से हुए नुकसान का उचित भुगतान पा सकता है। और जानिए: http://www.pmfby.gov.in #PMKisan #AatmaNirbharKrishi'],\n",
       " ['1 miljard läkemedelsdoser ska förbättra immunförsvarets förutsättningar vid ett coronavirus-vaccin. @GSK #coronavirus #coronavirusvaccine '],\n",
       " ['Have u got a #coronavirusvaccine inside your pocket and if not then shut up.'],\n",
       " ['Our CEO, Javier García, was interviewed by @diariovasco: \"If it works, we will produce millions and millions of doses\". #AAVCovid #CoronavirusVaccine '],\n",
       " [\"Pharma chiefs say #coronavirusvaccine could be ready this year, but challenges 'daunting'!! #Pharmaceutical company executives said Thursday that one or several #COVID19 #vaccines could begin rolling out before 2021. Share your researches at #Vaccinerd2020 https://www.meetingsint.com/conferences/vaccineresearch\"],\n",
       " ['Military Source Exposes Shocking TRUTH About This Deadly Pandemic And The \"1 Thing\" You Must Do Before It\\'s TOO LATE https://lnkd.in/g4_y6mG? #covid19 #covid #coronavirusus #coronavirusvaccine #virusprotection #VirusCorona'],\n",
       " ['The ‘biggest challenge’ won’t come until after a #coronavirus vaccine is found!! Join with us at #Vaccinerd2020 and share about your researches Connect with us on Twitter @vaccine_rd WhatsApp: +65 3158 1626 https://www.meetingsint.com/conferences/vaccineresearch #coronavirusvaccine #drugmakers #vaccine'],\n",
       " ['Hyderabad: The CCMB has successfully cultured the Coronavirus from the samples collected from the Covid-19 patients which will enable the researchers to work towards vaccine development and testing the potential COVID-19 drugs. #CCMB #CoronavirusVaccine #Covid19 #MangoNews'],\n",
       " ['Coronavirus को कड़ी टक्कर देने की पूरी तैयारी, देश में एक नहीं 6 वैक्सीन की पहचान #CoronavirusVaccine #COVID19 #CoronaVaccine'],\n",
       " ['Coronavirus Vaccine in Tamil | Rajkumar.M Read More: http://tinyurl.com/y9chselr #coronavirusexplainedintamil #CoronavirusVaccine #coronavirusvaccineintamil #rajkumar.m'],\n",
       " ['Could COVID-19 disappear before a vaccine is made? #Covid19 #CoronavirusVaccine #vaccine #COVID19 #COVID19Update #CoronavirusCrisis #CoronavirusOutbreak #coronavirus'],\n",
       " [\"“15 billion doses would be needed to halt the pandemic.” Pharma chiefs see #CoronavirusVaccine by yearend, but challenges 'daunting' \"],\n",
       " ['A novel #coronavirusvaccine being developed in #India will likely begin to be tested in people in October, K. VijayRaghavan, Principal Scientific Adviser to the government, said at a press briefing on Thursday. #CoronavirusOutbreak'],\n",
       " ['It bears repeating. (Thx @USGAO) The Reward and Risk of Expediting #COVID19 Testing and Vaccine Development https://blog.gao.gov/2020/05/28/the-reward-and-risk-of-expediting-covid-19-testing-and-vaccine-development/ #CovidTesting #falsenegative #falsenegatives #COVID19vaccine #coronavirus #coronavirusvaccine '],\n",
       " ['Pharma chiefs see COVID-19 vaccine by year-end, but challenges ‘daunting’ #COVID19 #Covid_19 #COVID19outbreak #COVID19Pandemic #coronavirus #CoronavirusPandemic #COVID19vaccine #coronavirusvaccine '],\n",
       " ['GlaxoSmithKline to produce 1 billion doses of Covid-19 vaccine booster next year #COVID19 #Covid_19 #COVID19outbreak #COVID19Pandemic #coronavirus #CoronavirusPandemic #COVID19vaccine #coronavirusvaccine '],\n",
       " [\"Column: Developing a coronavirus vaccine should not be rushed. Here's why https://www.latimes.com/business/story/2020-05-28/coronavirus-vaccine-development-timeline #coronavirusvaccine\"],\n",
       " ['Los Angeles Times - Hiltzik: Dont rush developing a coronavirus vaccine #coronavirusvaccine #dontrush #LosAngelesTimes - https://www.latimes.com/business/story/2020-05-28/coronavirus-vaccine-development-timeline [http://nippynews.asia]'],\n",
       " ['Los Angeles Times - Hiltzik: Developing a coronavirus vaccine should not be rushed. Heres why #coronavirusvaccine #LosAngelesTimes - https://www.latimes.com/business/story/2020-05-28/coronavirus-vaccine-development-timeline [http://nippynews.asia]'],\n",
       " ['Coming soon in your #coronavirusvaccine '],\n",
       " ['#AstraZeneca picks #OxfordBiomedica to make potential #coronavirusvaccine '],\n",
       " ['प्रधानमंत्री फसल बीमा योजना के शुरूआत के पहले तीन सालों में किसानों ने 13000 करोड़ रूपए का प्रीमियम भरा, वहीं किसानों को कुल 60000 करोड़ का भुगतान प्राप्त हुआ। संपर्क करें क्राप इन्श्योरेंस एप्प पर : http://bit.ly/3g3195R #PMKisan #AatmaNirbharKrishi'],\n",
       " ['@Novavax begins human testing of #CoronavirusVaccine candidate https://hubs.ly/H0qT3650 @MSPBJnews @perky_r'],\n",
       " ['Coronavirus Vaccine News 2020? COVID 19 Vaccine Israel in 90 Days | Mr. Peace & Liberty Read More: http://tinyurl.com/y7rjfcpn #cbnnews.com #cbnnewsyoutube #chimericsolubleprotein #coronavirus #coronavirusimmunity #coronavirusoutbreak #CoronavirusVaccine '],\n",
       " ['#coronavirusvaccine Principal Scientific Adviser on Corona said - 30 groups of the country are working to make Corona vaccine, this is very risky work'],\n",
       " ['Thank you @IIB for highlighting our efforts in the fight against #COVID19. \"Now more than ever, people are recognizing the importance of medical research.” https://www.insideindianabusiness.com/story/42183842/b2s-paves-the-way-for-covid19-vaccine #coronavirusvaccine'],\n",
       " [\"Most #Republicans won't get #coronavirusvaccine, still don't think it's worse than the regular flu \"],\n",
       " ['#coronavirus #CoronavirusPandemic #coronavirusvaccine #CoronaOutbreak #CoronavirusUSA #COVID19 #COVID19Quarantine #COVID #COVID2019 #pandemic #USA #usaCoronavirus #NewYork #newyorkcity #NYC #facemask #faceshield #facecoverings #SocialDistancing #Quarantine #reopening #lockdown'],\n",
       " ['Important info for HCQ timeline over the past decades. #coronavirusvaccine #HCQworks'],\n",
       " ['GSK to produce 1 billion doses of Covid-19 vaccine booster next year #GSK #coronavirusvaccine #coronavirus'],\n",
       " ['When can we expect a #coronavirusvaccine? Continue reading below for details on the #vaccines undergoing testing and when we can expect to see one in the future.'],\n",
       " [\"'HCQ should be used as per guidelines, its benefits outweigh risks'...Indian Govt. More controlled study of this treatment drug is needed and simply not oppose it because @realDonaldTrump promoted it. https://timesofindia.indiatimes.com/india/coronavirus-india-updates-live-total-covid-19-cases-in-india-rises-to-158333/liveblog/76019791.cms #coronavirus #coronavirusvaccine @narendramodi\"],\n",
       " ['Coronavirus vaccine 1 ? Griffith researchers begin development for potential COVID 19 Read More: http://tinyurl.com/yda4njyq #coronanewlivenews #coronavirusnews #coronavirusoutbreak #CoronavirusVaccine #coronavirusvaccineworkornot #covidvaccineresearchnews'],\n",
       " ['Nearly 30 groups in #India striving to develop #CoronavirusVaccine; updated #CoronaBulletin on May 28'],\n",
       " ['Nearly 30 groups in #India striving to develop #CoronavirusVaccine; updated #CoronaBulletin on May 28'],\n",
       " ['$AAL American Airlines plans to cut 30% of its management and support staff, a reduction of about 5,000 jobs, because of the toll coronavirus is taking on the business. $ND_F $SPY #economy #coronavirusvaccine #verabands @NINJATRADER @NTEcosystem']]"
      ]
     },
     "execution_count": 27,
     "metadata": {},
     "output_type": "execute_result"
    }
   ],
   "source": [
    "text_tweets"
   ]
  },
  {
   "cell_type": "code",
   "execution_count": 28,
   "metadata": {},
   "outputs": [],
   "source": [
    "from nltk.corpus import stopwords"
   ]
  },
  {
   "cell_type": "code",
   "execution_count": 29,
   "metadata": {},
   "outputs": [
    {
     "name": "stderr",
     "output_type": "stream",
     "text": [
      "[nltk_data] Downloading package stopwords to\n",
      "[nltk_data]     C:\\Users\\tarun\\AppData\\Roaming\\nltk_data...\n",
      "[nltk_data]   Package stopwords is already up-to-date!\n"
     ]
    }
   ],
   "source": [
    "import nltk\n",
    "nltk.download('stopwords')\n",
    "final_words = []\n",
    "\n",
    "for word in tokenized_words:\n",
    "    if word not in stopwords.words('english'):\n",
    "        final_words.append(word)"
   ]
  },
  {
   "cell_type": "code",
   "execution_count": 30,
   "metadata": {},
   "outputs": [
    {
     "name": "stdout",
     "output_type": "stream",
     "text": [
      "Counter({' happy': 2, ' powerless': 1, ' entitled': 1, ' attracted': 1, ' codependent': 1, ' fearful': 1})\n"
     ]
    }
   ],
   "source": [
    "emotion_list = []\n",
    "with open('emotions.txt', 'r' ) as file:\n",
    "    for line in file:\n",
    "        clear_lines = line.replace('\\n', '').replace(',','').replace(\"'\", '').strip()\n",
    "        word , emotion = clear_lines.split(':')\n",
    "        if word in final_words:\n",
    "            emotion_list.append(emotion)\n",
    "            \n",
    "w = Counter(emotion_list)\n",
    "print(w)\n",
    "        "
   ]
  },
  {
   "cell_type": "code",
   "execution_count": 31,
   "metadata": {},
   "outputs": [
    {
     "data": {
      "image/png": "[encoded data removed]",
      "text/plain": [
       "<Figure size 432x288 with 1 Axes>"
      ]
     },
     "metadata": {
      "needs_background": "light"
     },
     "output_type": "display_data"
    }
   ],
   "source": [
    "fig , ax1 = plt.subplots()\n",
    "ax1.bar(w.keys(), w.values())\n",
    "fig.autofmt_xdate()\n",
    "plt.savefig('graph.png')\n",
    "plt.show()"
   ]
  },
  {
   "cell_type": "code",
   "execution_count": null,
   "metadata": {},
   "outputs": [],
   "source": []
  }
 ],
 "metadata": {
  "kernelspec": {
   "display_name": "Python 3",
   "language": "python",
   "name": "python3"
  },
  "language_info": {
   "codemirror_mode": {
    "name": "ipython",
    "version": 3
   },
   "file_extension": ".py",
   "mimetype": "text/x-python",
   "name": "python",
   "nbconvert_exporter": "python",
   "pygments_lexer": "ipython3",
   "version": "3.6.10"
  }
 },
 "nbformat": 4,
 "nbformat_minor": 4
}
