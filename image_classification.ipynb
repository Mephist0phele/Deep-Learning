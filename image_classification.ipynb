{
  "nbformat": 4,
  "nbformat_minor": 0,
  "metadata": {
    "colab": {
      "name": "image classification",
      "provenance": [],
      "collapsed_sections": []
    },
    "kernelspec": {
      "name": "python3",
      "display_name": "Python 3"
    },
    "accelerator": "GPU"
  },
  "cells": [
    {
      "cell_type": "code",
      "metadata": {
        "id": "3cgOUHpJ_Ecq",
        "colab_type": "code",
        "colab": {}
      },
      "source": [
        "import pandas as pd\n",
        "import numpy as np"
      ],
      "execution_count": 9,
      "outputs": []
    },
    {
      "cell_type": "code",
      "metadata": {
        "id": "-fHlj3r9_2xE",
        "colab_type": "code",
        "colab": {
          "base_uri": "https://localhost:8080/",
          "height": 34
        },
        "outputId": "1c22ed31-bd7c-4d04-e850-8be5ccc24a71"
      },
      "source": [
        "from keras.preprocessing.image import ImageDataGenerator\n",
        "from keras.models import Sequential\n",
        "\n",
        "import tensorflow as tf\n",
        "from tensorflow import keras\n",
        "import numpy as np\n",
        "from keras.models import Sequential\n",
        "from keras.layers.convolutional import Convolution2D, MaxPooling2D\n",
        "from keras.layers import Activation, Flatten, Dense, Dropout\n",
        "from keras.utils import np_utils\n",
        "from keras.layers import Conv2D, MaxPooling2D\n",
        "# TensorFlow and tf.keras\n",
        "import tensorflow as tf\n",
        "from tensorflow import keras\n",
        "\n",
        "# Helper libraries\n",
        "import numpy as np\n",
        "import matplotlib.pyplot as plt\n",
        "\n",
        "print(tf.__version__)"
      ],
      "execution_count": 10,
      "outputs": [
        {
          "output_type": "stream",
          "text": [
            "2.2.0\n"
          ],
          "name": "stdout"
        }
      ]
    },
    {
      "cell_type": "code",
      "metadata": {
        "id": "BDaSYZeiJhw_",
        "colab_type": "code",
        "colab": {
          "base_uri": "https://localhost:8080/",
          "height": 34
        },
        "outputId": "6e8d8beb-8acc-4f04-b365-2ae3f12265dd"
      },
      "source": [
        "from zipfile import ZipFile\n",
        "filename= \"/content/DATASET.zip\"\n",
        "\n",
        "with ZipFile(filename,'r') as zip:\n",
        "  zip.extractall()\n",
        "  print('Done')\n"
      ],
      "execution_count": 11,
      "outputs": [
        {
          "output_type": "stream",
          "text": [
            "Done\n"
          ],
          "name": "stdout"
        }
      ]
    },
    {
      "cell_type": "code",
      "metadata": {
        "id": "Huf9hu5z46M5",
        "colab_type": "code",
        "colab": {}
      },
      "source": [
        "img_width=150\n",
        "img_height=150"
      ],
      "execution_count": 12,
      "outputs": []
    },
    {
      "cell_type": "code",
      "metadata": {
        "id": "g_7Qw895NToT",
        "colab_type": "code",
        "colab": {}
      },
      "source": [
        "train=\"/content/DATASET/Train\""
      ],
      "execution_count": 13,
      "outputs": []
    },
    {
      "cell_type": "code",
      "metadata": {
        "id": "KFMXEPB4zjdS",
        "colab_type": "code",
        "colab": {}
      },
      "source": [
        "test=\"/content/DATASET/Test\""
      ],
      "execution_count": 14,
      "outputs": []
    },
    {
      "cell_type": "code",
      "metadata": {
        "id": "sl-cY8w7znka",
        "colab_type": "code",
        "colab": {}
      },
      "source": [
        "train_sample=100\n",
        "test_sample=50\n",
        "epochs=15\n",
        "batch_size=10"
      ],
      "execution_count": 15,
      "outputs": []
    },
    {
      "cell_type": "code",
      "metadata": {
        "id": "NzeER12pG9Qu",
        "colab_type": "code",
        "colab": {}
      },
      "source": [
        "from keras import backend as K\n",
        "if K.image_data_format() == 'channels_first':\n",
        "  input_shape = (3, img_width, img_height)\n",
        "else:\n",
        "  input_shape = ( img_width, img_height,3)\n",
        "\n"
      ],
      "execution_count": 16,
      "outputs": []
    },
    {
      "cell_type": "code",
      "metadata": {
        "id": "nALp9Pkg3hO7",
        "colab_type": "code",
        "colab": {}
      },
      "source": [
        "train_datagen=ImageDataGenerator(\n",
        "     rescale=1./255,\n",
        "     shear_range=0.2,\n",
        "     zoom_range=0.2,\n",
        "     horizontal_flip=True\n",
        "\n",
        ")"
      ],
      "execution_count": 17,
      "outputs": []
    },
    {
      "cell_type": "code",
      "metadata": {
        "id": "YdB9sXr18Ptk",
        "colab_type": "code",
        "colab": {}
      },
      "source": [
        "test_datagen=ImageDataGenerator(\n",
        "    rescale=1./255)"
      ],
      "execution_count": 18,
      "outputs": []
    },
    {
      "cell_type": "code",
      "metadata": {
        "id": "edEe8iQL-r93",
        "colab_type": "code",
        "colab": {
          "base_uri": "https://localhost:8080/",
          "height": 34
        },
        "outputId": "69c75f93-e588-43cc-da16-5df334ba6d9c"
      },
      "source": [
        "train_generator = train_datagen.flow_from_directory(\n",
        "    train,\n",
        "    target_size=(img_width,img_height),\n",
        "    batch_size=batch_size,\n",
        "    class_mode='binary'\n",
        "    \n",
        ")"
      ],
      "execution_count": 19,
      "outputs": [
        {
          "output_type": "stream",
          "text": [
            "Found 200 images belonging to 2 classes.\n"
          ],
          "name": "stdout"
        }
      ]
    },
    {
      "cell_type": "code",
      "metadata": {
        "id": "Z4GthTIT-udT",
        "colab_type": "code",
        "colab": {
          "base_uri": "https://localhost:8080/",
          "height": 34
        },
        "outputId": "b5fccdaf-5bc3-4e6c-994d-3215cfee286d"
      },
      "source": [
        "test_generator = test_datagen.flow_from_directory(\n",
        "    test,\n",
        "    target_size=(img_width,img_height),\n",
        "    batch_size=batch_size,\n",
        "    class_mode='binary')"
      ],
      "execution_count": 20,
      "outputs": [
        {
          "output_type": "stream",
          "text": [
            "Found 200 images belonging to 2 classes.\n"
          ],
          "name": "stdout"
        }
      ]
    },
    {
      "cell_type": "code",
      "metadata": {
        "id": "pgT9wpMxatOz",
        "colab_type": "code",
        "colab": {
          "base_uri": "https://localhost:8080/",
          "height": 857
        },
        "outputId": "198dac44-747d-4116-bee0-a99ef3324062"
      },
      "source": [
        "model = Sequential()\n",
        "model.add(Conv2D(32, kernel_size=(3, 3),input_shape=input_shape))\n",
        "model.add( Activation('relu'))\n",
        "model.add(MaxPooling2D(pool_size=(2, 2)))\n",
        "\n",
        "model.summary()\n",
        "\n",
        "model.add(Conv2D(64, kernel_size=(3, 3),input_shape=input_shape))\n",
        "model.add(Activation('relu'))\n",
        "model.add(MaxPooling2D(pool_size=(2, 2)))\n",
        "\n",
        "\n",
        "model.add(Conv2D(64, kernel_size=(3, 3),input_shape=input_shape))\n",
        "model.add(Activation('relu'))\n",
        "model.add(MaxPooling2D(pool_size=(2, 2)))\n",
        "\n",
        "\n",
        "\n",
        "model.add(Flatten())\n",
        "model.add(Dense(64))\n",
        "model.add(Activation('relu'))\n",
        "#model.add(Dropout(0.5))\n",
        "model.add(Dense(1))\n",
        "model.add(Activation('sigmoid'))\n",
        "\n",
        "model.summary()\n",
        "\n",
        "model.compile(loss='binary_crossentropy',\n",
        "              optimizer='rmsprop',\n",
        "              metrics=['accuracy'])\n"
      ],
      "execution_count": 21,
      "outputs": [
        {
          "output_type": "stream",
          "text": [
            "Model: \"sequential_1\"\n",
            "_________________________________________________________________\n",
            "Layer (type)                 Output Shape              Param #   \n",
            "=================================================================\n",
            "conv2d_1 (Conv2D)            (None, 148, 148, 32)      896       \n",
            "_________________________________________________________________\n",
            "activation_1 (Activation)    (None, 148, 148, 32)      0         \n",
            "_________________________________________________________________\n",
            "max_pooling2d_1 (MaxPooling2 (None, 74, 74, 32)        0         \n",
            "=================================================================\n",
            "Total params: 896\n",
            "Trainable params: 896\n",
            "Non-trainable params: 0\n",
            "_________________________________________________________________\n",
            "Model: \"sequential_1\"\n",
            "_________________________________________________________________\n",
            "Layer (type)                 Output Shape              Param #   \n",
            "=================================================================\n",
            "conv2d_1 (Conv2D)            (None, 148, 148, 32)      896       \n",
            "_________________________________________________________________\n",
            "activation_1 (Activation)    (None, 148, 148, 32)      0         \n",
            "_________________________________________________________________\n",
            "max_pooling2d_1 (MaxPooling2 (None, 74, 74, 32)        0         \n",
            "_________________________________________________________________\n",
            "conv2d_2 (Conv2D)            (None, 72, 72, 64)        18496     \n",
            "_________________________________________________________________\n",
            "activation_2 (Activation)    (None, 72, 72, 64)        0         \n",
            "_________________________________________________________________\n",
            "max_pooling2d_2 (MaxPooling2 (None, 36, 36, 64)        0         \n",
            "_________________________________________________________________\n",
            "conv2d_3 (Conv2D)            (None, 34, 34, 64)        36928     \n",
            "_________________________________________________________________\n",
            "activation_3 (Activation)    (None, 34, 34, 64)        0         \n",
            "_________________________________________________________________\n",
            "max_pooling2d_3 (MaxPooling2 (None, 17, 17, 64)        0         \n",
            "_________________________________________________________________\n",
            "flatten_1 (Flatten)          (None, 18496)             0         \n",
            "_________________________________________________________________\n",
            "dense_1 (Dense)              (None, 64)                1183808   \n",
            "_________________________________________________________________\n",
            "activation_4 (Activation)    (None, 64)                0         \n",
            "_________________________________________________________________\n",
            "dense_2 (Dense)              (None, 1)                 65        \n",
            "_________________________________________________________________\n",
            "activation_5 (Activation)    (None, 1)                 0         \n",
            "=================================================================\n",
            "Total params: 1,240,193\n",
            "Trainable params: 1,240,193\n",
            "Non-trainable params: 0\n",
            "_________________________________________________________________\n"
          ],
          "name": "stdout"
        }
      ]
    },
    {
      "cell_type": "code",
      "metadata": {
        "id": "D_zEJSN16lxW",
        "colab_type": "code",
        "colab": {
          "base_uri": "https://localhost:8080/",
          "height": 521
        },
        "outputId": "a9203455-8ff5-42c2-994a-6a97a3194140"
      },
      "source": [
        "history=model.fit_generator(\n",
        "    train_generator,\n",
        "    steps_per_epoch=train_sample,\n",
        "    epochs=epochs,\n",
        "    validation_data=test_generator,\n",
        "    validation_steps=test_sample\n",
        ")"
      ],
      "execution_count": 22,
      "outputs": [
        {
          "output_type": "stream",
          "text": [
            "Epoch 1/15\n",
            "100/100 [==============================] - 20s 198ms/step - loss: 0.6854 - accuracy: 0.6190 - val_loss: 0.4759 - val_accuracy: 0.7680\n",
            "Epoch 2/15\n",
            "100/100 [==============================] - 14s 139ms/step - loss: 0.4699 - accuracy: 0.7990 - val_loss: 0.5555 - val_accuracy: 0.8660\n",
            "Epoch 3/15\n",
            "100/100 [==============================] - 14s 139ms/step - loss: 0.4000 - accuracy: 0.8390 - val_loss: 0.0739 - val_accuracy: 0.9080\n",
            "Epoch 4/15\n",
            "100/100 [==============================] - 14s 139ms/step - loss: 0.3166 - accuracy: 0.8690 - val_loss: 0.0709 - val_accuracy: 0.8580\n",
            "Epoch 5/15\n",
            "100/100 [==============================] - 14s 137ms/step - loss: 0.2730 - accuracy: 0.8870 - val_loss: 0.0095 - val_accuracy: 0.9620\n",
            "Epoch 6/15\n",
            "100/100 [==============================] - 14s 137ms/step - loss: 0.2502 - accuracy: 0.9120 - val_loss: 0.0300 - val_accuracy: 0.9640\n",
            "Epoch 7/15\n",
            "100/100 [==============================] - 14s 137ms/step - loss: 0.1843 - accuracy: 0.9360 - val_loss: 0.1093 - val_accuracy: 0.9660\n",
            "Epoch 8/15\n",
            "100/100 [==============================] - 14s 138ms/step - loss: 0.1636 - accuracy: 0.9420 - val_loss: 0.0070 - val_accuracy: 0.9900\n",
            "Epoch 9/15\n",
            "100/100 [==============================] - 14s 139ms/step - loss: 0.1534 - accuracy: 0.9490 - val_loss: 0.0019 - val_accuracy: 0.9840\n",
            "Epoch 10/15\n",
            "100/100 [==============================] - 14s 138ms/step - loss: 0.1414 - accuracy: 0.9490 - val_loss: 0.0060 - val_accuracy: 0.9900\n",
            "Epoch 11/15\n",
            "100/100 [==============================] - 14s 138ms/step - loss: 0.0877 - accuracy: 0.9640 - val_loss: 0.2689 - val_accuracy: 0.9020\n",
            "Epoch 12/15\n",
            "100/100 [==============================] - 14s 139ms/step - loss: 0.0864 - accuracy: 0.9690 - val_loss: 0.1535 - val_accuracy: 0.9840\n",
            "Epoch 13/15\n",
            "100/100 [==============================] - 14s 139ms/step - loss: 0.1019 - accuracy: 0.9690 - val_loss: 0.0138 - val_accuracy: 0.9940\n",
            "Epoch 14/15\n",
            "100/100 [==============================] - 14s 139ms/step - loss: 0.1358 - accuracy: 0.9670 - val_loss: 0.1585 - val_accuracy: 0.9940\n",
            "Epoch 15/15\n",
            "100/100 [==============================] - 14s 140ms/step - loss: 0.0849 - accuracy: 0.9780 - val_loss: 0.1228 - val_accuracy: 0.9800\n"
          ],
          "name": "stdout"
        }
      ]
    },
    {
      "cell_type": "code",
      "metadata": {
        "id": "gQZ7DGovAxfw",
        "colab_type": "code",
        "colab": {
          "base_uri": "https://localhost:8080/",
          "height": 1000
        },
        "outputId": "e2c14c1d-bae3-45a9-a03d-e14f18f708ad"
      },
      "source": [
        "history.history"
      ],
      "execution_count": 23,
      "outputs": [
        {
          "output_type": "execute_result",
          "data": {
            "text/plain": [
              "{'accuracy': [0.619,\n",
              "  0.799,\n",
              "  0.839,\n",
              "  0.869,\n",
              "  0.887,\n",
              "  0.912,\n",
              "  0.936,\n",
              "  0.942,\n",
              "  0.949,\n",
              "  0.949,\n",
              "  0.964,\n",
              "  0.969,\n",
              "  0.969,\n",
              "  0.967,\n",
              "  0.978],\n",
              " 'loss': [0.6853598210215569,\n",
              "  0.4699398954212666,\n",
              "  0.39996033761650324,\n",
              "  0.31661386765539645,\n",
              "  0.27298423198983074,\n",
              "  0.2502027224749327,\n",
              "  0.18431234491057694,\n",
              "  0.16364575639367104,\n",
              "  0.15335177607135847,\n",
              "  0.14140969616244548,\n",
              "  0.08765053297101985,\n",
              "  0.08639574725664716,\n",
              "  0.10187803157132294,\n",
              "  0.13577880813470983,\n",
              "  0.08488011366953288],\n",
              " 'val_accuracy': [0.7680000066757202,\n",
              "  0.8659999966621399,\n",
              "  0.9079999923706055,\n",
              "  0.8579999804496765,\n",
              "  0.9620000123977661,\n",
              "  0.9639999866485596,\n",
              "  0.9660000205039978,\n",
              "  0.9900000095367432,\n",
              "  0.984000027179718,\n",
              "  0.9900000095367432,\n",
              "  0.9020000100135803,\n",
              "  0.984000027179718,\n",
              "  0.9940000176429749,\n",
              "  0.9940000176429749,\n",
              "  0.9800000190734863],\n",
              " 'val_loss': [0.47585010528564453,\n",
              "  0.5554524064064026,\n",
              "  0.07393606752157211,\n",
              "  0.07090643048286438,\n",
              "  0.009536183439195156,\n",
              "  0.0299619622528553,\n",
              "  0.10928185284137726,\n",
              "  0.006970136426389217,\n",
              "  0.0018961022142320871,\n",
              "  0.005966945085674524,\n",
              "  0.26887211203575134,\n",
              "  0.153532937169075,\n",
              "  0.013802001252770424,\n",
              "  0.1584790199995041,\n",
              "  0.12284717708826065]}"
            ]
          },
          "metadata": {
            "tags": []
          },
          "execution_count": 23
        }
      ]
    },
    {
      "cell_type": "code",
      "metadata": {
        "id": "Df1yJa3-03x9",
        "colab_type": "code",
        "colab": {}
      },
      "source": [
        ""
      ],
      "execution_count": 39,
      "outputs": []
    },
    {
      "cell_type": "code",
      "metadata": {
        "id": "iPvQfLuTaXp4",
        "colab_type": "code",
        "colab": {
          "base_uri": "https://localhost:8080/",
          "height": 279
        },
        "outputId": "15f5b3ed-c39d-4e02-b189-ff913ae526da"
      },
      "source": [
        "import matplotlib.pyplot as plt\n",
        "\n",
        "history_dict=history.history\n",
        "\n",
        "loss_values=history_dict[\"loss\"]\n",
        "val_loss_value=history_dict[\"val_loss\"]\n",
        "epochs=range(1, len(loss_values) +1)\n",
        "\n",
        "\n",
        "line1=plt.plot(epochs , val_loss_value , label='validation\\Test Loss')\n",
        "line2=plt.plot(epochs , loss_values, label='Training Loss')\n",
        "plt.setp(line1 ,linewidth=2.0 ,marker='+',markersize=10.0)\n",
        "plt.setp(line1 ,linewidth=2.0, marker='4', markersize=10.0)\n",
        "plt.xlabel('Epochs')\n",
        "plt.ylabel('Loss')\n",
        "plt.grid(\"True\")\n",
        "plt.legend()\n",
        "plt.show()"
      ],
      "execution_count": 24,
      "outputs": [
        {
          "output_type": "display_data",
          "data": {
            "image/png": "[encoded data removed]",
            "text/plain": [
              "<Figure size 432x288 with 1 Axes>"
            ]
          },
          "metadata": {
            "tags": [],
            "needs_background": "light"
          }
        }
      ]
    },
    {
      "cell_type": "code",
      "metadata": {
        "id": "a5OX31O0G6qO",
        "colab_type": "code",
        "colab": {
          "base_uri": "https://localhost:8080/",
          "height": 279
        },
        "outputId": "ffbe92dc-0bf9-420e-89f3-ad4f1e9b5fe5"
      },
      "source": [
        "import matplotlib.pyplot as plt\n",
        "\n",
        "history_dict=history.history\n",
        "\n",
        "acc_values=history_dict[\"accuracy\"]\n",
        "val_acc_value=history_dict[\"val_accuracy\"]\n",
        "epochs=range(1, len(acc_values) +1)\n",
        "\n",
        "\n",
        "line1=plt.plot(epochs , val_acc_value , label='validation\\Test Accuracy')\n",
        "line2=plt.plot(epochs , acc_values, label='Training Accuracy')\n",
        "plt.setp(line1 ,linewidth=2.0 ,marker='+',markersize=10.0)\n",
        "plt.setp(line1 ,linewidth=2.0, marker='4', markersize=10.0)\n",
        "plt.xlabel('Epochs')\n",
        "plt.ylabel('Accuracy')\n",
        "plt.grid(\"True\")\n",
        "plt.legend()\n",
        "plt.show()"
      ],
      "execution_count": 25,
      "outputs": [
        {
          "output_type": "display_data",
          "data": {
            "image/png": "[encoded data removed]",
            "text/plain": [
              "<Figure size 432x288 with 1 Axes>"
            ]
          },
          "metadata": {
            "tags": [],
            "needs_background": "light"
          }
        }
      ]
    },
    {
      "cell_type": "markdown",
      "metadata": {
        "id": "N7sCKDGgxStm",
        "colab_type": "text"
      },
      "source": [
        "Checking one image from validation folder that model had learn or not"
      ]
    },
    {
      "cell_type": "code",
      "metadata": {
        "id": "4TF85mJfwJ3a",
        "colab_type": "code",
        "colab": {}
      },
      "source": [
        "model.save(\"jeans_traouser_cnn.h5\")"
      ],
      "execution_count": 26,
      "outputs": []
    },
    {
      "cell_type": "code",
      "metadata": {
        "id": "CjhKK47bzqbI",
        "colab_type": "code",
        "colab": {
          "base_uri": "https://localhost:8080/",
          "height": 35
        },
        "outputId": "c1227ffd-f35e-49e4-d4c0-c2476db485c4"
      },
      "source": [
        "import cv2\n",
        "cv2.__version__"
      ],
      "execution_count": 36,
      "outputs": [
        {
          "output_type": "execute_result",
          "data": {
            "application/vnd.google.colaboratory.intrinsic": {
              "type": "string"
            },
            "text/plain": [
              "'4.1.2'"
            ]
          },
          "metadata": {
            "tags": []
          },
          "execution_count": 36
        }
      ]
    },
    {
      "cell_type": "code",
      "metadata": {
        "id": "Mb8SJkvk-PQz",
        "colab_type": "code",
        "colab": {}
      },
      "source": [
        "from keras.models import  load_model\n",
        "\n",
        "classifier= load_model(\"jeans_traouser_cnn.h5\")"
      ],
      "execution_count": 37,
      "outputs": []
    },
    {
      "cell_type": "code",
      "metadata": {
        "id": "TB5U3cywrC4F",
        "colab_type": "code",
        "colab": {}
      },
      "source": [
        "import cv2\n",
        "import numpy as np\n",
        "\n",
        "def draw_test(name,pred , input_im):\n",
        "  BLACK = [0,0,0]\n",
        "  expand_image= cv2.copymakeBorder(input_im , 0,0,0, imageL.shape[0] , cv2.BORDER_CONSTANT,value=BLACK)\n",
        "  expand_image= CV2.cvtcolor(expand_image , cv2.COLOR_GRAY2BGR)\n",
        "  cv2.puttext(expand_image , str(pred) , (150,70) , cv2.FONT_HERSHEY_COMPLEX_SMALL ,4 , (0,255,0), 2)\n",
        "  Cv2.imshow(name , expand_image)\n",
        "\n",
        "\n",
        "\n",
        "\n",
        "  for i in range(0,10):\n",
        "    rand=np.random.randint(0,len(test_generator))\n",
        "    input_im= test_generator[rand]\n",
        "\n",
        "\n",
        "    imageL=cv2.resize(input_im , None , fx=4 , fy=4 , interpolation = cv2.INTER_CUBIC)\n",
        "    input_im = input_im.reshape(1,28,28,1)\n",
        "\n",
        "\n",
        "    res = str(classifier.predict_classes(input_im , 1, verbose=0)[0])\n",
        "\n",
        "    draw_test(\"prediction\", res , imageL)\n",
        "    cv2.waitkey(0)\n",
        "\n",
        "cv2.destroyAllWindows()"
      ],
      "execution_count": 38,
      "outputs": []
    },
    {
      "cell_type": "code",
      "metadata": {
        "id": "Tomkw4hBzM_b",
        "colab_type": "code",
        "colab": {}
      },
      "source": [
        ""
      ],
      "execution_count": null,
      "outputs": []
    }
  ]
}