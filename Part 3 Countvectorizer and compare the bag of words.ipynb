{
 "cells": [
  {
   "cell_type": "markdown",
   "metadata": {},
   "source": [
    "BAG OF WORDS"
   ]
  },
  {
   "cell_type": "code",
   "execution_count": 15,
   "metadata": {},
   "outputs": [
    {
     "name": "stdout",
     "output_type": "stream",
     "text": [
      "bag of words : ['an', 'and', 'called', 'communicate', 'in', 'is', 'messages', 'networking', 'news', 'online', 'people', 'short', 'site', 'social', 'tweets', 'twitter', 'where']\n"
     ]
    }
   ],
   "source": [
    "from sklearn.feature_extraction.text import CountVectorizer \n",
    "\n",
    "from nltk.corpus import stopwords\n",
    "import pandas as pd\n",
    "\n",
    "# Single document (',' seperates each document)\n",
    "# using  a twitter definition\n",
    "BOW_A = [\" Twitter is an online news and social networking site where people communicate in short messages called tweets\"]\n",
    "\n",
    "# This step will convert text into tokens \n",
    "Count = CountVectorizer()\n",
    "\n",
    "Count.fit_transform(BOW_A)\n",
    "print(\"bag of words :\",Count.get_feature_names())"
   ]
  },
  {
   "cell_type": "code",
   "execution_count": 16,
   "metadata": {},
   "outputs": [
    {
     "data": {
      "text/plain": [
       "{'twitter': 15,\n",
       " 'is': 5,\n",
       " 'an': 0,\n",
       " 'online': 9,\n",
       " 'news': 8,\n",
       " 'and': 1,\n",
       " 'social': 13,\n",
       " 'networking': 7,\n",
       " 'site': 12,\n",
       " 'where': 16,\n",
       " 'people': 10,\n",
       " 'communicate': 3,\n",
       " 'in': 4,\n",
       " 'short': 11,\n",
       " 'messages': 6,\n",
       " 'called': 2,\n",
       " 'tweets': 14}"
      ]
     },
     "execution_count": 16,
     "metadata": {},
     "output_type": "execute_result"
    }
   ],
   "source": [
    "Count.vocabulary_"
   ]
  },
  {
   "cell_type": "code",
   "execution_count": 17,
   "metadata": {},
   "outputs": [
    {
     "data": {
      "text/plain": [
       "CountVectorizer()"
      ]
     },
     "execution_count": 17,
     "metadata": {},
     "output_type": "execute_result"
    }
   ],
   "source": [
    "\n",
    "countvect = CountVectorizer()\n",
    "\n",
    "countvect.fit(BOW_A)"
   ]
  },
  {
   "cell_type": "code",
   "execution_count": 18,
   "metadata": {},
   "outputs": [
    {
     "name": "stdout",
     "output_type": "stream",
     "text": [
      "Text Present at  [[0 0 1 0 0 1 0 1 0 0 0 1 0 1 1 1 0]]\n",
      "original indexes ['an', 'and', 'called', 'communicate', 'in', 'is', 'messages', 'networking', 'news', 'online', 'people', 'short', 'site', 'social', 'tweets', 'twitter', 'where']\n"
     ]
    }
   ],
   "source": [
    "# another twitter definition\n",
    "BOW_B = [\"Twitter is a free social networking microblogging service that allows registered members to broadcast short posts called tweets\"]\n",
    "\n",
    "c_new_vect = countvect.transform(BOW_B)\n",
    "\n",
    "print (\"Text Present at \",c_new_vect.toarray())\n",
    "\n",
    "# Compare with the indexes\n",
    "print (\"original indexes\", Count.get_feature_names() )"
   ]
  },
  {
   "cell_type": "code",
   "execution_count": null,
   "metadata": {},
   "outputs": [],
   "source": []
  }
 ],
 "metadata": {
  "kernelspec": {
   "display_name": "Python 3",
   "language": "python",
   "name": "python3"
  },
  "language_info": {
   "codemirror_mode": {
    "name": "ipython",
    "version": 3
   },
   "file_extension": ".py",
   "mimetype": "text/x-python",
   "name": "python",
   "nbconvert_exporter": "python",
   "pygments_lexer": "ipython3",
   "version": "3.6.10"
  }
 },
 "nbformat": 4,
 "nbformat_minor": 4
}
