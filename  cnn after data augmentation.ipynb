{
 "cells": [
  {
   "cell_type": "code",
   "execution_count": 23,
   "metadata": {},
   "outputs": [],
   "source": [
    "import pandas as pd\n",
    "import numpy as np"
   ]
  },
  {
   "cell_type": "code",
   "execution_count": 24,
   "metadata": {},
   "outputs": [
    {
     "name": "stdout",
     "output_type": "stream",
     "text": [
      "2.1.0\n"
     ]
    }
   ],
   "source": [
    "from keras.preprocessing.image import ImageDataGenerator\n",
    "from keras.models import Sequential\n",
    "\n",
    "import tensorflow as tf\n",
    "from tensorflow import keras\n",
    "import numpy as np\n",
    "from keras.models import Sequential\n",
    "from keras.layers.convolutional import Convolution2D, MaxPooling2D\n",
    "from keras.layers import Activation, Flatten, Dense, Dropout\n",
    "from keras.utils import np_utils\n",
    "from keras.layers import Conv2D, MaxPooling2D\n",
    "# TensorFlow and tf.keras\n",
    "import tensorflow as tf\n",
    "from tensorflow import keras\n",
    "\n",
    "# Helper libraries\n",
    "import numpy as np\n",
    "import matplotlib.pyplot as plt\n",
    "\n",
    "print(tf.__version__)\n",
    "import cv2"
   ]
  },
  {
   "cell_type": "code",
   "execution_count": 25,
   "metadata": {},
   "outputs": [],
   "source": [
    "import os"
   ]
  },
  {
   "cell_type": "code",
   "execution_count": 26,
   "metadata": {},
   "outputs": [],
   "source": [
    "img_width=150\n",
    "img_height=150"
   ]
  },
  {
   "cell_type": "code",
   "execution_count": 27,
   "metadata": {},
   "outputs": [],
   "source": [
    "train  =   (r'C:\\Users\\tarun\\Downloads\\Data Augmented folder\\Train')"
   ]
  },
  {
   "cell_type": "code",
   "execution_count": 28,
   "metadata": {},
   "outputs": [],
   "source": [
    "test   =   (r'C:\\Users\\tarun\\Downloads\\Data Augmented folder\\Test')"
   ]
  },
  {
   "cell_type": "code",
   "execution_count": 29,
   "metadata": {},
   "outputs": [],
   "source": [
    "train_sample=100\n",
    "test_sample=50\n",
    "epochs=15\n",
    "batch_size=20"
   ]
  },
  {
   "cell_type": "code",
   "execution_count": 30,
   "metadata": {},
   "outputs": [],
   "source": [
    "from keras import backend as K\n",
    "if K.image_data_format() == 'channels_first':\n",
    "  input_shape = (3, img_width, img_height)\n",
    "else:\n",
    "  input_shape = ( img_width, img_height,3)\n"
   ]
  },
  {
   "cell_type": "code",
   "execution_count": 31,
   "metadata": {},
   "outputs": [],
   "source": [
    "train_datagen=ImageDataGenerator(\n",
    "     rescale=1./255,\n",
    "     shear_range=0.2,\n",
    "     zoom_range=0.2,\n",
    "     horizontal_flip=True\n",
    "\n",
    ")"
   ]
  },
  {
   "cell_type": "code",
   "execution_count": 32,
   "metadata": {},
   "outputs": [],
   "source": [
    "test_datagen=ImageDataGenerator(\n",
    "    rescale=1./255)"
   ]
  },
  {
   "cell_type": "code",
   "execution_count": 33,
   "metadata": {},
   "outputs": [
    {
     "name": "stdout",
     "output_type": "stream",
     "text": [
      "Found 1200 images belonging to 2 classes.\n"
     ]
    }
   ],
   "source": [
    "train_generator = train_datagen.flow_from_directory(\n",
    "    train,\n",
    "    target_size=(img_width,img_height),\n",
    "    batch_size=batch_size,\n",
    "    class_mode='binary'\n",
    "    \n",
    ")"
   ]
  },
  {
   "cell_type": "code",
   "execution_count": 34,
   "metadata": {},
   "outputs": [
    {
     "name": "stdout",
     "output_type": "stream",
     "text": [
      "Found 200 images belonging to 2 classes.\n"
     ]
    }
   ],
   "source": [
    "test_generator = test_datagen.flow_from_directory(\n",
    "    test,\n",
    "    target_size=(img_width,img_height),\n",
    "    batch_size=batch_size,\n",
    "    class_mode='binary')"
   ]
  },
  {
   "cell_type": "code",
   "execution_count": 35,
   "metadata": {},
   "outputs": [
    {
     "name": "stdout",
     "output_type": "stream",
     "text": [
      "Model: \"sequential_2\"\n",
      "_________________________________________________________________\n",
      "Layer (type)                 Output Shape              Param #   \n",
      "=================================================================\n",
      "conv2d_4 (Conv2D)            (None, 148, 148, 32)      896       \n",
      "_________________________________________________________________\n",
      "activation_6 (Activation)    (None, 148, 148, 32)      0         \n",
      "_________________________________________________________________\n",
      "max_pooling2d_4 (MaxPooling2 (None, 74, 74, 32)        0         \n",
      "=================================================================\n",
      "Total params: 896\n",
      "Trainable params: 896\n",
      "Non-trainable params: 0\n",
      "_________________________________________________________________\n",
      "Model: \"sequential_2\"\n",
      "_________________________________________________________________\n",
      "Layer (type)                 Output Shape              Param #   \n",
      "=================================================================\n",
      "conv2d_4 (Conv2D)            (None, 148, 148, 32)      896       \n",
      "_________________________________________________________________\n",
      "activation_6 (Activation)    (None, 148, 148, 32)      0         \n",
      "_________________________________________________________________\n",
      "max_pooling2d_4 (MaxPooling2 (None, 74, 74, 32)        0         \n",
      "_________________________________________________________________\n",
      "conv2d_5 (Conv2D)            (None, 72, 72, 64)        18496     \n",
      "_________________________________________________________________\n",
      "activation_7 (Activation)    (None, 72, 72, 64)        0         \n",
      "_________________________________________________________________\n",
      "max_pooling2d_5 (MaxPooling2 (None, 36, 36, 64)        0         \n",
      "_________________________________________________________________\n",
      "conv2d_6 (Conv2D)            (None, 34, 34, 64)        36928     \n",
      "_________________________________________________________________\n",
      "activation_8 (Activation)    (None, 34, 34, 64)        0         \n",
      "_________________________________________________________________\n",
      "max_pooling2d_6 (MaxPooling2 (None, 17, 17, 64)        0         \n",
      "_________________________________________________________________\n",
      "flatten_2 (Flatten)          (None, 18496)             0         \n",
      "_________________________________________________________________\n",
      "dense_3 (Dense)              (None, 64)                1183808   \n",
      "_________________________________________________________________\n",
      "activation_9 (Activation)    (None, 64)                0         \n",
      "_________________________________________________________________\n",
      "dense_4 (Dense)              (None, 1)                 65        \n",
      "_________________________________________________________________\n",
      "activation_10 (Activation)   (None, 1)                 0         \n",
      "=================================================================\n",
      "Total params: 1,240,193\n",
      "Trainable params: 1,240,193\n",
      "Non-trainable params: 0\n",
      "_________________________________________________________________\n"
     ]
    }
   ],
   "source": [
    "model = Sequential()\n",
    "model.add(Conv2D(32, kernel_size=(3, 3),input_shape=input_shape))\n",
    "model.add( Activation('relu'))\n",
    "model.add(MaxPooling2D(pool_size=(2, 2)))\n",
    "\n",
    "model.summary()\n",
    "\n",
    "model.add(Conv2D(64, kernel_size=(3, 3),input_shape=input_shape))\n",
    "model.add(Activation('relu'))\n",
    "model.add(MaxPooling2D(pool_size=(2, 2)))\n",
    "\n",
    "\n",
    "model.add(Conv2D(64, kernel_size=(3, 3),input_shape=input_shape))\n",
    "model.add(Activation('relu'))\n",
    "model.add(MaxPooling2D(pool_size=(2, 2)))\n",
    "\n",
    "\n",
    "\n",
    "model.add(Flatten())\n",
    "model.add(Dense(64))\n",
    "model.add(Activation('relu'))\n",
    "#model.add(Dropout(0.5))\n",
    "model.add(Dense(1))\n",
    "model.add(Activation('sigmoid'))\n",
    "\n",
    "model.summary()\n",
    "\n",
    "model.compile(loss='binary_crossentropy',\n",
    "              optimizer='rmsprop',\n",
    "              metrics=['accuracy'])\n"
   ]
  },
  {
   "cell_type": "code",
   "execution_count": 36,
   "metadata": {},
   "outputs": [],
   "source": [
    "from PIL import Image\n",
    "from IPython.display import display\n",
    "from PIL import Image"
   ]
  },
  {
   "cell_type": "code",
   "execution_count": 37,
   "metadata": {},
   "outputs": [
    {
     "name": "stdout",
     "output_type": "stream",
     "text": [
      "Epoch 1/15\n",
      "100/100 [==============================] - 55s 551ms/step - loss: 0.7303 - accuracy: 0.5000 - val_loss: 0.6946 - val_accuracy: 0.5050\n",
      "Epoch 2/15\n",
      "100/100 [==============================] - 56s 555ms/step - loss: 0.6941 - accuracy: 0.5005 - val_loss: 0.6967 - val_accuracy: 0.5000\n",
      "Epoch 3/15\n",
      "100/100 [==============================] - 54s 540ms/step - loss: 0.6942 - accuracy: 0.5030 - val_loss: 0.7037 - val_accuracy: 0.5000\n",
      "Epoch 4/15\n",
      "100/100 [==============================] - 54s 542ms/step - loss: 0.6945 - accuracy: 0.5115 - val_loss: 0.6934 - val_accuracy: 0.5700\n",
      "Epoch 5/15\n",
      "100/100 [==============================] - 59s 589ms/step - loss: 0.6947 - accuracy: 0.5050 - val_loss: 0.6715 - val_accuracy: 0.5650\n",
      "Epoch 6/15\n",
      "100/100 [==============================] - 59s 588ms/step - loss: 0.6918 - accuracy: 0.5145 - val_loss: 0.6742 - val_accuracy: 0.6350\n",
      "Epoch 7/15\n",
      "100/100 [==============================] - 57s 570ms/step - loss: 0.6892 - accuracy: 0.5280 - val_loss: 0.6504 - val_accuracy: 0.5450\n",
      "Epoch 8/15\n",
      "100/100 [==============================] - 58s 576ms/step - loss: 0.6933 - accuracy: 0.5305 - val_loss: 0.6214 - val_accuracy: 0.7450\n",
      "Epoch 9/15\n",
      "100/100 [==============================] - 57s 572ms/step - loss: 0.6861 - accuracy: 0.5305 - val_loss: 0.6250 - val_accuracy: 0.7000\n",
      "Epoch 10/15\n",
      "100/100 [==============================] - 57s 566ms/step - loss: 0.6840 - accuracy: 0.5180 - val_loss: 0.5464 - val_accuracy: 0.7200\n",
      "Epoch 11/15\n",
      "100/100 [==============================] - 59s 585ms/step - loss: 0.6824 - accuracy: 0.5360 - val_loss: 0.5180 - val_accuracy: 0.7750\n",
      "Epoch 12/15\n",
      "100/100 [==============================] - 57s 569ms/step - loss: 0.6854 - accuracy: 0.5345 - val_loss: 0.4846 - val_accuracy: 0.8450\n",
      "Epoch 13/15\n",
      "100/100 [==============================] - 57s 568ms/step - loss: 0.6815 - accuracy: 0.5330 - val_loss: 0.5704 - val_accuracy: 0.8000\n",
      "Epoch 14/15\n",
      "100/100 [==============================] - 58s 575ms/step - loss: 0.6753 - accuracy: 0.5380 - val_loss: 0.4660 - val_accuracy: 0.7850\n",
      "Epoch 15/15\n",
      "100/100 [==============================] - 58s 580ms/step - loss: 0.6842 - accuracy: 0.5305 - val_loss: 0.5972 - val_accuracy: 0.8250\n"
     ]
    }
   ],
   "source": [
    "\n",
    "history=model.fit_generator(\n",
    "    train_generator,\n",
    "    steps_per_epoch=train_sample,\n",
    "    epochs=epochs,\n",
    "    validation_data=test_generator,\n",
    "    validation_steps=test_sample\n",
    ")"
   ]
  },
  {
   "cell_type": "code",
   "execution_count": 38,
   "metadata": {},
   "outputs": [
    {
     "data": {
      "text/plain": [
       "{'val_loss': [0.6945962309837341,\n",
       "  0.696675181388855,\n",
       "  0.7037103772163391,\n",
       "  0.6933948397636414,\n",
       "  0.6714994311332703,\n",
       "  0.6741604804992676,\n",
       "  0.6503514051437378,\n",
       "  0.6213948130607605,\n",
       "  0.6249932646751404,\n",
       "  0.5464082956314087,\n",
       "  0.5180321931838989,\n",
       "  0.4845708906650543,\n",
       "  0.5704265832901001,\n",
       "  0.46597737073898315,\n",
       "  0.5971649289131165],\n",
       " 'val_accuracy': [0.5049999952316284,\n",
       "  0.5,\n",
       "  0.5,\n",
       "  0.5699999928474426,\n",
       "  0.5649999976158142,\n",
       "  0.6349999904632568,\n",
       "  0.5450000166893005,\n",
       "  0.7450000047683716,\n",
       "  0.699999988079071,\n",
       "  0.7200000286102295,\n",
       "  0.7749999761581421,\n",
       "  0.8450000286102295,\n",
       "  0.800000011920929,\n",
       "  0.7850000262260437,\n",
       "  0.824999988079071],\n",
       " 'loss': [0.7302560669183731,\n",
       "  0.6941168934106827,\n",
       "  0.6941658437252045,\n",
       "  0.6945099359750748,\n",
       "  0.6947467970848084,\n",
       "  0.6918321418762207,\n",
       "  0.6891997927427291,\n",
       "  0.6932806575298309,\n",
       "  0.6861381661891938,\n",
       "  0.6839920371770859,\n",
       "  0.6824378848075867,\n",
       "  0.6853545033931732,\n",
       "  0.6814607751369476,\n",
       "  0.6753086113929748,\n",
       "  0.6842213469743729],\n",
       " 'accuracy': [0.5,\n",
       "  0.5005,\n",
       "  0.503,\n",
       "  0.5115,\n",
       "  0.505,\n",
       "  0.5145,\n",
       "  0.528,\n",
       "  0.5305,\n",
       "  0.5305,\n",
       "  0.518,\n",
       "  0.536,\n",
       "  0.5345,\n",
       "  0.533,\n",
       "  0.538,\n",
       "  0.5305]}"
      ]
     },
     "execution_count": 38,
     "metadata": {},
     "output_type": "execute_result"
    }
   ],
   "source": [
    "history.history    "
   ]
  },
  {
   "cell_type": "code",
   "execution_count": 39,
   "metadata": {},
   "outputs": [
    {
     "data": {
      "image/png": "[encoded data removed]",
      "text/plain": [
       "<Figure size 432x288 with 1 Axes>"
      ]
     },
     "metadata": {
      "needs_background": "light"
     },
     "output_type": "display_data"
    }
   ],
   "source": [
    "import matplotlib.pyplot as plt\n",
    "\n",
    "history_dict=history.history\n",
    "\n",
    "loss_values=history_dict[\"loss\"]\n",
    "val_loss_value=history_dict[\"val_loss\"]\n",
    "epochs=range(1, len(loss_values) +1)\n",
    "\n",
    "\n",
    "line1=plt.plot(epochs , val_loss_value , label='validation\\Test Loss')\n",
    "line2=plt.plot(epochs , loss_values, label='Training Loss')\n",
    "plt.setp(line1 ,linewidth=2.0 ,marker='+',markersize=10.0)\n",
    "plt.setp(line1 ,linewidth=2.0, marker='4', markersize=10.0)\n",
    "plt.xlabel('Epochs')\n",
    "plt.ylabel('Loss')\n",
    "plt.grid(\"True\")\n",
    "plt.legend()\n",
    "plt.show()"
   ]
  },
  {
   "cell_type": "code",
   "execution_count": 40,
   "metadata": {},
   "outputs": [
    {
     "data": {
      "image/png": "[encoded data removed]",
      "text/plain": [
       "<Figure size 432x288 with 1 Axes>"
      ]
     },
     "metadata": {
      "needs_background": "light"
     },
     "output_type": "display_data"
    }
   ],
   "source": [
    "import matplotlib.pyplot as plt\n",
    "\n",
    "history_dict=history.history\n",
    "\n",
    "acc_values=history_dict[\"accuracy\"]\n",
    "val_acc_value=history_dict[\"val_accuracy\"]\n",
    "epochs=range(1, len(acc_values) +1)\n",
    "\n",
    "\n",
    "line1=plt.plot(epochs , val_acc_value , label='validation\\Test Accuracy')\n",
    "line2=plt.plot(epochs , acc_values, label='Training Accuracy')\n",
    "plt.setp(line1 ,linewidth=2.0 ,marker='+',markersize=10.0)\n",
    "plt.setp(line1 ,linewidth=2.0, marker='4', markersize=10.0)\n",
    "plt.xlabel('Epochs')\n",
    "plt.ylabel('Accuracy')\n",
    "plt.grid(\"True\")\n",
    "plt.legend()\n",
    "plt.show()"
   ]
  },
  {
   "cell_type": "code",
   "execution_count": 41,
   "metadata": {},
   "outputs": [],
   "source": [
    "model.save(\"jeans_traouser_cnn.h5\")"
   ]
  },
  {
   "cell_type": "code",
   "execution_count": 42,
   "metadata": {},
   "outputs": [
    {
     "data": {
      "text/plain": [
       "'4.3.0'"
      ]
     },
     "execution_count": 42,
     "metadata": {},
     "output_type": "execute_result"
    }
   ],
   "source": [
    "import cv2\n",
    "cv2.__version__"
   ]
  },
  {
   "cell_type": "code",
   "execution_count": 43,
   "metadata": {},
   "outputs": [],
   "source": [
    "from keras.models import  load_model\n",
    "\n",
    "classifier= load_model(\"jeans_traouser_cnn.h5\")"
   ]
  },
  {
   "cell_type": "code",
   "execution_count": 44,
   "metadata": {},
   "outputs": [],
   "source": [
    "import cv2\n",
    "import numpy as np\n",
    "\n",
    "def draw_test(name,pred , input_im):\n",
    "  BLACK = [0,0,0]\n",
    "  expand_image= cv2.copymakeBorder(input_im , 0,0,0, imageL.shape[0] , cv2.BORDER_CONSTANT,value=BLACK)\n",
    "  expand_image= CV2.cvtcolor(expand_image , cv2.COLOR_GRAY2BGR)\n",
    "  cv2.puttext(expand_image , str(pred) , (150,70) , cv2.FONT_HERSHEY_COMPLEX_SMALL ,4 , (0,255,0), 2)\n",
    "  Cv2.imshow(name , expand_image)\n",
    "\n",
    "\n",
    "\n",
    "\n",
    "  for i in range(0,10):\n",
    "    rand=np.random.randint(0,len(test_generator))\n",
    "    input_im= test_generator[rand]\n",
    "\n",
    "\n",
    "    imageL=cv2.resize(input_im , None , fx=4 , fy=4 , interpolation = cv2.INTER_CUBIC)\n",
    "    input_im = input_im.reshape(1,28,28,1)\n",
    "\n",
    "\n",
    "    res = str(classifier.predict_classes(input_im , 1, verbose=0)[0])\n",
    "\n",
    "    draw_test(\"prediction\", res , imageL)\n",
    "    cv2.waitkey(0)\n",
    "\n",
    "cv2.destroyAllWindows()"
   ]
  },
  {
   "cell_type": "code",
   "execution_count": null,
   "metadata": {},
   "outputs": [],
   "source": []
  }
 ],
 "metadata": {
  "kernelspec": {
   "display_name": "Python 3",
   "language": "python",
   "name": "python3"
  },
  "language_info": {
   "codemirror_mode": {
    "name": "ipython",
    "version": 3
   },
   "file_extension": ".py",
   "mimetype": "text/x-python",
   "name": "python",
   "nbconvert_exporter": "python",
   "pygments_lexer": "ipython3",
   "version": "3.6.10"
  }
 },
 "nbformat": 4,
 "nbformat_minor": 4
}
