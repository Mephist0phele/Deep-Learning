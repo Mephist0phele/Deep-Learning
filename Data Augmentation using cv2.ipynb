{
 "cells": [
  {
   "cell_type": "code",
   "execution_count": 27,
   "metadata": {},
   "outputs": [
    {
     "name": "stdout",
     "output_type": "stream",
     "text": [
      "OpenCV version: 4.3.0\n"
     ]
    }
   ],
   "source": [
    "import cv2\n",
    "import os, os.path\n",
    " \n",
    "print (\"OpenCV version: \" + cv2.__version__)\n",
    " \n",
    "imageDir =  \"C:/Users/tarun/Downloads/New folder/Train/jeans\"           \n",
    "image_path_list = []\n",
    "valid_image_extensions = [ \".jpeg\"] \n",
    "valid_image_extensions = [item.lower() for item in valid_image_extensions]\n",
    " \n",
    "\n",
    "for file in os.listdir(imageDir):\n",
    "    extension = os.path.splitext(file)[1]\n",
    "    if extension.lower() not in valid_image_extensions:\n",
    "        continue\n",
    "    image_path_list.append(os.path.join(imageDir, file))"
   ]
  },
  {
   "cell_type": "code",
   "execution_count": 28,
   "metadata": {},
   "outputs": [
    {
     "data": {
      "text/plain": [
       "100"
      ]
     },
     "execution_count": 28,
     "metadata": {},
     "output_type": "execute_result"
    }
   ],
   "source": [
    "len(image_path_list)"
   ]
  },
  {
   "cell_type": "code",
   "execution_count": 29,
   "metadata": {},
   "outputs": [
    {
     "data": {
      "text/plain": [
       "['C:/Users/tarun/Downloads/New folder/Train/jeans\\\\img_0.jpeg',\n",
       " 'C:/Users/tarun/Downloads/New folder/Train/jeans\\\\img_1.jpeg',\n",
       " 'C:/Users/tarun/Downloads/New folder/Train/jeans\\\\img_10.jpeg',\n",
       " 'C:/Users/tarun/Downloads/New folder/Train/jeans\\\\img_11.jpeg',\n",
       " 'C:/Users/tarun/Downloads/New folder/Train/jeans\\\\img_12.jpeg',\n",
       " 'C:/Users/tarun/Downloads/New folder/Train/jeans\\\\img_13.jpeg',\n",
       " 'C:/Users/tarun/Downloads/New folder/Train/jeans\\\\img_14.jpeg',\n",
       " 'C:/Users/tarun/Downloads/New folder/Train/jeans\\\\img_15.jpeg',\n",
       " 'C:/Users/tarun/Downloads/New folder/Train/jeans\\\\img_16.jpeg',\n",
       " 'C:/Users/tarun/Downloads/New folder/Train/jeans\\\\img_17.jpeg',\n",
       " 'C:/Users/tarun/Downloads/New folder/Train/jeans\\\\img_18.jpeg',\n",
       " 'C:/Users/tarun/Downloads/New folder/Train/jeans\\\\img_19.jpeg',\n",
       " 'C:/Users/tarun/Downloads/New folder/Train/jeans\\\\img_2.jpeg',\n",
       " 'C:/Users/tarun/Downloads/New folder/Train/jeans\\\\img_3.jpeg',\n",
       " 'C:/Users/tarun/Downloads/New folder/Train/jeans\\\\img_4.jpeg',\n",
       " 'C:/Users/tarun/Downloads/New folder/Train/jeans\\\\img_5.jpeg',\n",
       " 'C:/Users/tarun/Downloads/New folder/Train/jeans\\\\img_6.jpeg',\n",
       " 'C:/Users/tarun/Downloads/New folder/Train/jeans\\\\img_7.jpeg',\n",
       " 'C:/Users/tarun/Downloads/New folder/Train/jeans\\\\img_8.jpeg',\n",
       " 'C:/Users/tarun/Downloads/New folder/Train/jeans\\\\img_9.jpeg',\n",
       " 'C:/Users/tarun/Downloads/New folder/Train/jeans\\\\img__0.jpeg',\n",
       " 'C:/Users/tarun/Downloads/New folder/Train/jeans\\\\img__1.jpeg',\n",
       " 'C:/Users/tarun/Downloads/New folder/Train/jeans\\\\img__10.jpeg',\n",
       " 'C:/Users/tarun/Downloads/New folder/Train/jeans\\\\img__11.jpeg',\n",
       " 'C:/Users/tarun/Downloads/New folder/Train/jeans\\\\img__12.jpeg',\n",
       " 'C:/Users/tarun/Downloads/New folder/Train/jeans\\\\img__13.jpeg',\n",
       " 'C:/Users/tarun/Downloads/New folder/Train/jeans\\\\img__14.jpeg',\n",
       " 'C:/Users/tarun/Downloads/New folder/Train/jeans\\\\img__15.jpeg',\n",
       " 'C:/Users/tarun/Downloads/New folder/Train/jeans\\\\img__16.jpeg',\n",
       " 'C:/Users/tarun/Downloads/New folder/Train/jeans\\\\img__17.jpeg',\n",
       " 'C:/Users/tarun/Downloads/New folder/Train/jeans\\\\img__18.jpeg',\n",
       " 'C:/Users/tarun/Downloads/New folder/Train/jeans\\\\img__19.jpeg',\n",
       " 'C:/Users/tarun/Downloads/New folder/Train/jeans\\\\img__2.jpeg',\n",
       " 'C:/Users/tarun/Downloads/New folder/Train/jeans\\\\img__20.jpeg',\n",
       " 'C:/Users/tarun/Downloads/New folder/Train/jeans\\\\img__21.jpeg',\n",
       " 'C:/Users/tarun/Downloads/New folder/Train/jeans\\\\img__22.jpeg',\n",
       " 'C:/Users/tarun/Downloads/New folder/Train/jeans\\\\img__23.jpeg',\n",
       " 'C:/Users/tarun/Downloads/New folder/Train/jeans\\\\img__24.jpeg',\n",
       " 'C:/Users/tarun/Downloads/New folder/Train/jeans\\\\img__25.jpeg',\n",
       " 'C:/Users/tarun/Downloads/New folder/Train/jeans\\\\img__26.jpeg',\n",
       " 'C:/Users/tarun/Downloads/New folder/Train/jeans\\\\img__27.jpeg',\n",
       " 'C:/Users/tarun/Downloads/New folder/Train/jeans\\\\img__28.jpeg',\n",
       " 'C:/Users/tarun/Downloads/New folder/Train/jeans\\\\img__29.jpeg',\n",
       " 'C:/Users/tarun/Downloads/New folder/Train/jeans\\\\img__3.jpeg',\n",
       " 'C:/Users/tarun/Downloads/New folder/Train/jeans\\\\img__30.jpeg',\n",
       " 'C:/Users/tarun/Downloads/New folder/Train/jeans\\\\img__31.jpeg',\n",
       " 'C:/Users/tarun/Downloads/New folder/Train/jeans\\\\img__32.jpeg',\n",
       " 'C:/Users/tarun/Downloads/New folder/Train/jeans\\\\img__33.jpeg',\n",
       " 'C:/Users/tarun/Downloads/New folder/Train/jeans\\\\img__34.jpeg',\n",
       " 'C:/Users/tarun/Downloads/New folder/Train/jeans\\\\img__35.jpeg',\n",
       " 'C:/Users/tarun/Downloads/New folder/Train/jeans\\\\img__36.jpeg',\n",
       " 'C:/Users/tarun/Downloads/New folder/Train/jeans\\\\img__37.jpeg',\n",
       " 'C:/Users/tarun/Downloads/New folder/Train/jeans\\\\img__38.jpeg',\n",
       " 'C:/Users/tarun/Downloads/New folder/Train/jeans\\\\img__39.jpeg',\n",
       " 'C:/Users/tarun/Downloads/New folder/Train/jeans\\\\img__4.jpeg',\n",
       " 'C:/Users/tarun/Downloads/New folder/Train/jeans\\\\img__5.jpeg',\n",
       " 'C:/Users/tarun/Downloads/New folder/Train/jeans\\\\img__6.jpeg',\n",
       " 'C:/Users/tarun/Downloads/New folder/Train/jeans\\\\img__7.jpeg',\n",
       " 'C:/Users/tarun/Downloads/New folder/Train/jeans\\\\img__8.jpeg',\n",
       " 'C:/Users/tarun/Downloads/New folder/Train/jeans\\\\img__9.jpeg',\n",
       " 'C:/Users/tarun/Downloads/New folder/Train/jeans\\\\img___0.jpeg',\n",
       " 'C:/Users/tarun/Downloads/New folder/Train/jeans\\\\img___1.jpeg',\n",
       " 'C:/Users/tarun/Downloads/New folder/Train/jeans\\\\img___10.jpeg',\n",
       " 'C:/Users/tarun/Downloads/New folder/Train/jeans\\\\img___11.jpeg',\n",
       " 'C:/Users/tarun/Downloads/New folder/Train/jeans\\\\img___12.jpeg',\n",
       " 'C:/Users/tarun/Downloads/New folder/Train/jeans\\\\img___13.jpeg',\n",
       " 'C:/Users/tarun/Downloads/New folder/Train/jeans\\\\img___14.jpeg',\n",
       " 'C:/Users/tarun/Downloads/New folder/Train/jeans\\\\img___15.jpeg',\n",
       " 'C:/Users/tarun/Downloads/New folder/Train/jeans\\\\img___16.jpeg',\n",
       " 'C:/Users/tarun/Downloads/New folder/Train/jeans\\\\img___17.jpeg',\n",
       " 'C:/Users/tarun/Downloads/New folder/Train/jeans\\\\img___18.jpeg',\n",
       " 'C:/Users/tarun/Downloads/New folder/Train/jeans\\\\img___19.jpeg',\n",
       " 'C:/Users/tarun/Downloads/New folder/Train/jeans\\\\img___2.jpeg',\n",
       " 'C:/Users/tarun/Downloads/New folder/Train/jeans\\\\img___20.jpeg',\n",
       " 'C:/Users/tarun/Downloads/New folder/Train/jeans\\\\img___21.jpeg',\n",
       " 'C:/Users/tarun/Downloads/New folder/Train/jeans\\\\img___22.jpeg',\n",
       " 'C:/Users/tarun/Downloads/New folder/Train/jeans\\\\img___23.jpeg',\n",
       " 'C:/Users/tarun/Downloads/New folder/Train/jeans\\\\img___24.jpeg',\n",
       " 'C:/Users/tarun/Downloads/New folder/Train/jeans\\\\img___25.jpeg',\n",
       " 'C:/Users/tarun/Downloads/New folder/Train/jeans\\\\img___26.jpeg',\n",
       " 'C:/Users/tarun/Downloads/New folder/Train/jeans\\\\img___27.jpeg',\n",
       " 'C:/Users/tarun/Downloads/New folder/Train/jeans\\\\img___28.jpeg',\n",
       " 'C:/Users/tarun/Downloads/New folder/Train/jeans\\\\img___29.jpeg',\n",
       " 'C:/Users/tarun/Downloads/New folder/Train/jeans\\\\img___3.jpeg',\n",
       " 'C:/Users/tarun/Downloads/New folder/Train/jeans\\\\img___30.jpeg',\n",
       " 'C:/Users/tarun/Downloads/New folder/Train/jeans\\\\img___31.jpeg',\n",
       " 'C:/Users/tarun/Downloads/New folder/Train/jeans\\\\img___32.jpeg',\n",
       " 'C:/Users/tarun/Downloads/New folder/Train/jeans\\\\img___33.jpeg',\n",
       " 'C:/Users/tarun/Downloads/New folder/Train/jeans\\\\img___34.jpeg',\n",
       " 'C:/Users/tarun/Downloads/New folder/Train/jeans\\\\img___35.jpeg',\n",
       " 'C:/Users/tarun/Downloads/New folder/Train/jeans\\\\img___36.jpeg',\n",
       " 'C:/Users/tarun/Downloads/New folder/Train/jeans\\\\img___37.jpeg',\n",
       " 'C:/Users/tarun/Downloads/New folder/Train/jeans\\\\img___38.jpeg',\n",
       " 'C:/Users/tarun/Downloads/New folder/Train/jeans\\\\img___39.jpeg',\n",
       " 'C:/Users/tarun/Downloads/New folder/Train/jeans\\\\img___4.jpeg',\n",
       " 'C:/Users/tarun/Downloads/New folder/Train/jeans\\\\img___5.jpeg',\n",
       " 'C:/Users/tarun/Downloads/New folder/Train/jeans\\\\img___6.jpeg',\n",
       " 'C:/Users/tarun/Downloads/New folder/Train/jeans\\\\img___7.jpeg',\n",
       " 'C:/Users/tarun/Downloads/New folder/Train/jeans\\\\img___8.jpeg',\n",
       " 'C:/Users/tarun/Downloads/New folder/Train/jeans\\\\img___9.jpeg']"
      ]
     },
     "execution_count": 29,
     "metadata": {},
     "output_type": "execute_result"
    }
   ],
   "source": [
    "image_path_list\n"
   ]
  },
  {
   "cell_type": "code",
   "execution_count": 31,
   "metadata": {},
   "outputs": [],
   "source": [
    "image_path = \"C:/Users/tarun/Downloads/New folder/Train/jeans\"\n",
    "import numpy as np\n",
    "\n",
    "for img in range(len(image_path_list)):\n",
    "    pic = image_path_list[img]\n",
    "    jeans_image = cv2.imread(os.path.join(image_path , pic ))\n",
    "    \n",
    "    # code for flip\n",
    "    \n",
    "    flipped = cv2.flip(jeans_image , 2)\n",
    "    cv2.imwrite(os.path.join(image_path , \"picture{:10}.jpg\".format(img)), flipped )\n",
    "    \n",
    "    \n",
    "    # code for increase brightness\n",
    "    \n",
    "    \n",
    "    bright=np.ones(jeans_image.shape,dtype='uint8')*65\n",
    "    plus_brightness=cv2.add(jeans_image,bright)\n",
    "    cv2.imwrite(os.path.join(image_path , 'picture{:>11}.jpg'.format(img)), plus_brightness)\n",
    "    \n",
    "    \n",
    "    # code for decrease brightness\n",
    "    \n",
    "    bright=np.ones(jeans_image.shape,dtype='uint8')*93\n",
    "    minus_brightness=cv2.add(jeans_image,bright)\n",
    "    cv2.imwrite(os.path.join(image_path , 'picture{:>12}.jpg'.format(img)), minus_brightness)\n",
    "    \n",
    "    # code for rotation \n",
    "    \n",
    "    height , width = jeans_image.shape[:2]\n",
    "    rotation_matrix = cv2.getRotationMatrix2D((width/2 , height/2 ), -20 , 0.75 )\n",
    "    rotated_image = cv2.warpAffine(jeans_image , rotation_matrix  , (width, height))\n",
    "    cv2.imwrite(os.path.join(image_path , 'picture{:>13}.jpg'.format(img)), rotated_image)\n",
    "    \n",
    "    # code for sharping\n",
    "    \n",
    "    sharpening=np.array([[-1,-1,-1],[-1,10,-1],[-1,-1,-1]])\n",
    "    image_sharpening=cv2.filter2D(jeans_image,-1,sharpening)\n",
    "    cv2.imwrite(os.path.join(image_path , 'pic{:>14}.jpg'.format(img)), image_sharpening)\n",
    "    \n",
    "    \n"
   ]
  },
  {
   "cell_type": "code",
   "execution_count": null,
   "metadata": {},
   "outputs": [],
   "source": []
  }
 ],
 "metadata": {
  "kernelspec": {
   "display_name": "Python 3",
   "language": "python",
   "name": "python3"
  },
  "language_info": {
   "codemirror_mode": {
    "name": "ipython",
    "version": 3
   },
   "file_extension": ".py",
   "mimetype": "text/x-python",
   "name": "python",
   "nbconvert_exporter": "python",
   "pygments_lexer": "ipython3",
   "version": "3.6.10"
  }
 },
 "nbformat": 4,
 "nbformat_minor": 4
}
