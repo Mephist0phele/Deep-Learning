{
 "cells": [
  {
   "cell_type": "code",
   "execution_count": 2,
   "metadata": {},
   "outputs": [],
   "source": [
    "import pandas as pd\n",
    "import numpy as np"
   ]
  },
  {
   "cell_type": "code",
   "execution_count": 3,
   "metadata": {},
   "outputs": [
    {
     "name": "stderr",
     "output_type": "stream",
     "text": [
      "Using TensorFlow backend.\n"
     ]
    },
    {
     "name": "stdout",
     "output_type": "stream",
     "text": [
      "2.1.0\n"
     ]
    }
   ],
   "source": [
    "from keras.preprocessing.image import ImageDataGenerator\n",
    "from keras.models import Sequential\n",
    "\n",
    "import tensorflow as tf\n",
    "from tensorflow import keras\n",
    "import numpy as np\n",
    "from keras.models import Sequential\n",
    "from keras.layers.convolutional import Convolution2D, MaxPooling2D\n",
    "from keras.layers import Activation, Flatten, Dense, Dropout\n",
    "from keras.utils import np_utils\n",
    "from keras.layers import Conv2D, MaxPooling2D\n",
    "# TensorFlow and tf.keras\n",
    "import tensorflow as tf\n",
    "from tensorflow import keras\n",
    "\n",
    "# Helper libraries\n",
    "import numpy as np\n",
    "import matplotlib.pyplot as plt\n",
    "\n",
    "print(tf.__version__)\n",
    "import cv2"
   ]
  },
  {
   "cell_type": "code",
   "execution_count": 4,
   "metadata": {},
   "outputs": [],
   "source": [
    "import os"
   ]
  },
  {
   "cell_type": "code",
   "execution_count": 5,
   "metadata": {},
   "outputs": [],
   "source": [
    "img_width=150\n",
    "img_height=150"
   ]
  },
  {
   "cell_type": "code",
   "execution_count": 6,
   "metadata": {},
   "outputs": [],
   "source": [
    "train  =   (r'D:/New folder/Train')"
   ]
  },
  {
   "cell_type": "code",
   "execution_count": 7,
   "metadata": {},
   "outputs": [],
   "source": [
    "test   =   (r'D:/New folder/Test')"
   ]
  },
  {
   "cell_type": "code",
   "execution_count": 8,
   "metadata": {},
   "outputs": [],
   "source": [
    "train_sample=200\n",
    "test_sample=100\n",
    "epochs=20\n",
    "batch_size=20"
   ]
  },
  {
   "cell_type": "code",
   "execution_count": 9,
   "metadata": {},
   "outputs": [],
   "source": [
    "from keras import backend as K\n",
    "if K.image_data_format() == 'channels_first':\n",
    "  input_shape = (3, img_width, img_height)\n",
    "else:\n",
    "  input_shape = ( img_width, img_height,3)\n"
   ]
  },
  {
   "cell_type": "code",
   "execution_count": 10,
   "metadata": {},
   "outputs": [],
   "source": [
    "train_datagen=ImageDataGenerator(\n",
    "     rotation_range=40,\n",
    "        width_shift_range=0.2,\n",
    "        height_shift_range=0.2,\n",
    "        rescale=1./255,\n",
    "        shear_range=0.2,\n",
    "        zoom_range=0.2,\n",
    "        horizontal_flip=True,\n",
    "        fill_mode='nearest'\n",
    ")"
   ]
  },
  {
   "cell_type": "code",
   "execution_count": 11,
   "metadata": {},
   "outputs": [
    {
     "name": "stdout",
     "output_type": "stream",
     "text": [
      "Found 200 images belonging to 2 classes.\n"
     ]
    }
   ],
   "source": [
    "train_generator = train_datagen.flow_from_directory(\n",
    "    train,\n",
    "    target_size=(img_width,img_height),\n",
    "    batch_size=batch_size,\n",
    "    class_mode='binary'\n",
    ") "
   ]
  },
  {
   "cell_type": "code",
   "execution_count": 12,
   "metadata": {},
   "outputs": [],
   "source": [
    "test_datagen=ImageDataGenerator(\n",
    "    rescale=1./255)"
   ]
  },
  {
   "cell_type": "code",
   "execution_count": 13,
   "metadata": {},
   "outputs": [
    {
     "name": "stdout",
     "output_type": "stream",
     "text": [
      "Found 200 images belonging to 2 classes.\n"
     ]
    }
   ],
   "source": [
    "test_generator = test_datagen.flow_from_directory(\n",
    "    test,\n",
    "    target_size=(img_width,img_height),\n",
    "    batch_size=batch_size,\n",
    "    class_mode='binary')"
   ]
  },
  {
   "cell_type": "code",
   "execution_count": 14,
   "metadata": {},
   "outputs": [
    {
     "name": "stdout",
     "output_type": "stream",
     "text": [
      "Model: \"sequential_1\"\n",
      "_________________________________________________________________\n",
      "Layer (type)                 Output Shape              Param #   \n",
      "=================================================================\n",
      "conv2d_1 (Conv2D)            (None, 148, 148, 32)      896       \n",
      "_________________________________________________________________\n",
      "activation_1 (Activation)    (None, 148, 148, 32)      0         \n",
      "_________________________________________________________________\n",
      "max_pooling2d_1 (MaxPooling2 (None, 74, 74, 32)        0         \n",
      "=================================================================\n",
      "Total params: 896\n",
      "Trainable params: 896\n",
      "Non-trainable params: 0\n",
      "_________________________________________________________________\n",
      "Model: \"sequential_1\"\n",
      "_________________________________________________________________\n",
      "Layer (type)                 Output Shape              Param #   \n",
      "=================================================================\n",
      "conv2d_1 (Conv2D)            (None, 148, 148, 32)      896       \n",
      "_________________________________________________________________\n",
      "activation_1 (Activation)    (None, 148, 148, 32)      0         \n",
      "_________________________________________________________________\n",
      "max_pooling2d_1 (MaxPooling2 (None, 74, 74, 32)        0         \n",
      "_________________________________________________________________\n",
      "conv2d_2 (Conv2D)            (None, 72, 72, 64)        18496     \n",
      "_________________________________________________________________\n",
      "activation_2 (Activation)    (None, 72, 72, 64)        0         \n",
      "_________________________________________________________________\n",
      "max_pooling2d_2 (MaxPooling2 (None, 36, 36, 64)        0         \n",
      "_________________________________________________________________\n",
      "conv2d_3 (Conv2D)            (None, 34, 34, 64)        36928     \n",
      "_________________________________________________________________\n",
      "activation_3 (Activation)    (None, 34, 34, 64)        0         \n",
      "_________________________________________________________________\n",
      "max_pooling2d_3 (MaxPooling2 (None, 17, 17, 64)        0         \n",
      "_________________________________________________________________\n",
      "flatten_1 (Flatten)          (None, 18496)             0         \n",
      "_________________________________________________________________\n",
      "dense_1 (Dense)              (None, 64)                1183808   \n",
      "_________________________________________________________________\n",
      "activation_4 (Activation)    (None, 64)                0         \n",
      "_________________________________________________________________\n",
      "dense_2 (Dense)              (None, 1)                 65        \n",
      "_________________________________________________________________\n",
      "activation_5 (Activation)    (None, 1)                 0         \n",
      "=================================================================\n",
      "Total params: 1,240,193\n",
      "Trainable params: 1,240,193\n",
      "Non-trainable params: 0\n",
      "_________________________________________________________________\n"
     ]
    }
   ],
   "source": [
    "model = Sequential()\n",
    "model.add(Conv2D(32, kernel_size=(3, 3),input_shape=input_shape))\n",
    "model.add( Activation('relu'))\n",
    "model.add(MaxPooling2D(pool_size=(2, 2)))\n",
    "\n",
    "model.summary()\n",
    "\n",
    "model.add(Conv2D(64, kernel_size=(3, 3),input_shape=input_shape))\n",
    "model.add(Activation('relu'))\n",
    "model.add(MaxPooling2D(pool_size=(2, 2)))\n",
    "\n",
    "\n",
    "model.add(Conv2D(64, kernel_size=(3, 3),input_shape=input_shape))\n",
    "model.add(Activation('relu'))\n",
    "model.add(MaxPooling2D(pool_size=(2, 2)))\n",
    "\n",
    "\n",
    "\n",
    "model.add(Flatten())\n",
    "model.add(Dense(64))\n",
    "model.add(Activation('relu'))\n",
    "#model.add(Dropout(0.5))\n",
    "model.add(Dense(1))\n",
    "model.add(Activation('sigmoid'))\n",
    "\n",
    "model.summary()"
   ]
  },
  {
   "cell_type": "code",
   "execution_count": 15,
   "metadata": {},
   "outputs": [],
   "source": [
    "from PIL import Image\n",
    "from IPython.display import display\n",
    "from PIL import Image"
   ]
  },
  {
   "cell_type": "code",
   "execution_count": 16,
   "metadata": {},
   "outputs": [],
   "source": [
    "from keras.optimizers import SGD \n",
    "from keras.callbacks import ModelCheckpoint , EarlyStopping , ReduceLROnPlateau\n",
    "checkpoint = ModelCheckpoint(r'jeans_traouser_cnn.h5',\n",
    "                    monitor='val_loss',\n",
    "                    mode= 'min',\n",
    "                    save_best_only=True,\n",
    "                    verbose=1,)\n",
    "\n",
    "                \n",
    "early_stopping = EarlyStopping(monitor = 'val_loss',\n",
    "                               min_delta = 0,\n",
    "                               patience =3, \n",
    "                               verbose= 1,\n",
    "                               restore_best_weights=True\n",
    "                              )\n",
    "                            \n",
    "reduce_lr = ReduceLROnPlateau(monitor = 'val_loss',\n",
    "                            factor = 0.2,\n",
    "                            patience= 3,\n",
    "                            verbose= 1,\n",
    "                            min_delta= 0.0001)\n",
    "\n",
    "callbacks = [checkpoint, early_stopping , reduce_lr]\n",
    "                              \n",
    "                              \n",
    "                              \n",
    "            \n",
    "model.compile(loss='binary_crossentropy',\n",
    "              optimizer=SGD\n",
    "\n",
    "(\n",
    "    learning_rate=0.01,momentum=0.5,nesterov=True),\n",
    "              metrics=['accuracy'])     "
   ]
  },
  {
   "cell_type": "code",
   "execution_count": 17,
   "metadata": {},
   "outputs": [
    {
     "name": "stdout",
     "output_type": "stream",
     "text": [
      "Epoch 1/20\n",
      "200/200 [==============================] - 96s 482ms/step - loss: 0.6922 - accuracy: 0.5257 - val_loss: 0.6987 - val_accuracy: 0.5000\n",
      "\n",
      "Epoch 00001: val_loss improved from inf to 0.69872, saving model to jeans_traouser_cnn.h5\n",
      "Epoch 2/20\n",
      "200/200 [==============================] - 97s 485ms/step - loss: 0.6761 - accuracy: 0.5890 - val_loss: 0.6005 - val_accuracy: 0.6750\n",
      "\n",
      "Epoch 00002: val_loss improved from 0.69872 to 0.60045, saving model to jeans_traouser_cnn.h5\n",
      "Epoch 3/20\n",
      "200/200 [==============================] - 97s 485ms/step - loss: 0.6453 - accuracy: 0.6568 - val_loss: 0.6660 - val_accuracy: 0.7000\n",
      "\n",
      "Epoch 00003: val_loss did not improve from 0.60045\n",
      "Epoch 4/20\n",
      "200/200 [==============================] - 97s 485ms/step - loss: 0.6225 - accuracy: 0.6660 - val_loss: 0.8409 - val_accuracy: 0.6950\n",
      "\n",
      "Epoch 00004: val_loss did not improve from 0.60045\n",
      "Epoch 5/20\n",
      "200/200 [==============================] - 97s 484ms/step - loss: 0.5911 - accuracy: 0.6892 - val_loss: 0.4188 - val_accuracy: 0.6850\n",
      "\n",
      "Epoch 00005: val_loss improved from 0.60045 to 0.41880, saving model to jeans_traouser_cnn.h5\n",
      "Epoch 6/20\n",
      "200/200 [==============================] - 97s 485ms/step - loss: 0.5678 - accuracy: 0.7055 - val_loss: 0.5068 - val_accuracy: 0.7600\n",
      "\n",
      "Epoch 00006: val_loss did not improve from 0.41880\n",
      "Epoch 7/20\n",
      "200/200 [==============================] - 97s 484ms/step - loss: 0.5408 - accuracy: 0.7105 - val_loss: 0.6067 - val_accuracy: 0.7700\n",
      "\n",
      "Epoch 00007: val_loss did not improve from 0.41880\n",
      "Epoch 8/20\n",
      "200/200 [==============================] - 104s 518ms/step - loss: 0.5246 - accuracy: 0.7385 - val_loss: 0.3568 - val_accuracy: 0.7950\n",
      "\n",
      "Epoch 00008: val_loss improved from 0.41880 to 0.35679, saving model to jeans_traouser_cnn.h5\n",
      "Epoch 9/20\n",
      "200/200 [==============================] - 97s 485ms/step - loss: 0.5111 - accuracy: 0.7467 - val_loss: 0.4732 - val_accuracy: 0.8000\n",
      "\n",
      "Epoch 00009: val_loss did not improve from 0.35679\n",
      "Epoch 10/20\n",
      "200/200 [==============================] - 96s 482ms/step - loss: 0.4984 - accuracy: 0.7498 - val_loss: 0.4675 - val_accuracy: 0.8250\n",
      "\n",
      "Epoch 00010: val_loss did not improve from 0.35679\n",
      "Epoch 11/20\n",
      "200/200 [==============================] - 99s 493ms/step - loss: 0.4864 - accuracy: 0.7560 - val_loss: 0.2672 - val_accuracy: 0.8050\n",
      "\n",
      "Epoch 00011: val_loss improved from 0.35679 to 0.26717, saving model to jeans_traouser_cnn.h5\n",
      "Epoch 12/20\n",
      "200/200 [==============================] - 103s 514ms/step - loss: 0.4832 - accuracy: 0.7650 - val_loss: 0.2295 - val_accuracy: 0.8100\n",
      "\n",
      "Epoch 00012: val_loss improved from 0.26717 to 0.22950, saving model to jeans_traouser_cnn.h5\n",
      "Epoch 13/20\n",
      "200/200 [==============================] - 100s 498ms/step - loss: 0.4557 - accuracy: 0.7893 - val_loss: 0.4092 - val_accuracy: 0.8250\n",
      "\n",
      "Epoch 00013: val_loss did not improve from 0.22950\n",
      "Epoch 14/20\n",
      "200/200 [==============================] - 101s 507ms/step - loss: 0.4424 - accuracy: 0.7933 - val_loss: 0.4491 - val_accuracy: 0.8400\n",
      "\n",
      "Epoch 00014: val_loss did not improve from 0.22950\n",
      "Epoch 15/20\n",
      "200/200 [==============================] - 99s 495ms/step - loss: 0.4215 - accuracy: 0.8020 - val_loss: 0.4013 - val_accuracy: 0.8800\n",
      "\n",
      "Epoch 00015: val_loss did not improve from 0.22950\n",
      "Restoring model weights from the end of the best epoch\n",
      "\n",
      "Epoch 00015: ReduceLROnPlateau reducing learning rate to 0.0019999999552965165.\n",
      "Epoch 00015: early stopping\n"
     ]
    }
   ],
   "source": [
    "\n",
    "history=model.fit_generator(\n",
    "    train_generator,\n",
    "    steps_per_epoch=train_sample,\n",
    "    epochs=epochs,\n",
    "    callbacks=callbacks,\n",
    "    validation_data=test_generator,\n",
    "    validation_steps=test_sample\n",
    ")"
   ]
  },
  {
   "cell_type": "code",
   "execution_count": null,
   "metadata": {},
   "outputs": [],
   "source": [
    "history.history"
   ]
  },
  {
   "cell_type": "code",
   "execution_count": 18,
   "metadata": {},
   "outputs": [
    {
     "data": {
      "image/png": "[encoded data removed]",
      "text/plain": [
       "<Figure size 432x288 with 1 Axes>"
      ]
     },
     "metadata": {
      "needs_background": "light"
     },
     "output_type": "display_data"
    }
   ],
   "source": [
    "import matplotlib.pyplot as plt\n",
    "\n",
    "history_dict=history.history\n",
    "\n",
    "loss_values=history_dict[\"loss\"]\n",
    "val_loss_value=history_dict[\"val_loss\"]\n",
    "epochs=range(1, len(loss_values) +1)\n",
    "\n",
    "\n",
    "line1=plt.plot(epochs , val_loss_value , label='validation\\Test Loss')\n",
    "line2=plt.plot(epochs , loss_values, label='Training Loss')\n",
    "plt.setp(line1 ,linewidth=2.0 ,marker='+',markersize=10.0)\n",
    "plt.setp(line1 ,linewidth=2.0, marker='4', markersize=10.0)\n",
    "plt.xlabel('Epochs')\n",
    "plt.ylabel('Loss')\n",
    "plt.grid(\"True\")\n",
    "plt.legend()\n",
    "plt.show()"
   ]
  },
  {
   "cell_type": "code",
   "execution_count": 19,
   "metadata": {},
   "outputs": [
    {
     "data": {
      "image/png": "[encoded data removed]",
      "text/plain": [
       "<Figure size 432x288 with 1 Axes>"
      ]
     },
     "metadata": {
      "needs_background": "light"
     },
     "output_type": "display_data"
    }
   ],
   "source": [
    "import matplotlib.pyplot as plt\n",
    "\n",
    "history_dict=history.history\n",
    "\n",
    "acc_values=history_dict[\"accuracy\"]\n",
    "val_acc_value=history_dict[\"val_accuracy\"]\n",
    "epochs=range(1, len(acc_values) +1)\n",
    "\n",
    "\n",
    "line1=plt.plot(epochs , val_acc_value , label='validation\\Test Accuracy')\n",
    "line2=plt.plot(epochs , acc_values, label='Training Accuracy')\n",
    "plt.setp(line1 ,linewidth=2.0 ,marker='+',markersize=10.0)\n",
    "plt.setp(line1 ,linewidth=2.0, marker='4', markersize=10.0)\n",
    "plt.xlabel('Epochs')\n",
    "plt.ylabel('Accuracy')\n",
    "plt.grid(\"True\")\n",
    "plt.legend()\n",
    "plt.show()"
   ]
  },
  {
   "cell_type": "code",
   "execution_count": 20,
   "metadata": {},
   "outputs": [],
   "source": [
    "model.save(\"jeans_traouser_cnn.h5\")"
   ]
  },
  {
   "cell_type": "code",
   "execution_count": 21,
   "metadata": {},
   "outputs": [],
   "source": [
    "from keras.models import  load_model\n",
    "\n",
    "classifier= load_model(r\"C:\\Users\\tarun\\jeans_traouser_cnn.h5\")"
   ]
  },
  {
   "cell_type": "code",
   "execution_count": 22,
   "metadata": {},
   "outputs": [],
   "source": [
    "from PIL import Image\n",
    "from IPython.display import display\n",
    "from PIL import Image\n",
    "import cv2\n",
    "import numpy as np\n",
    "from keras.preprocessing import image\n",
    "import os\n",
    "import cv2\n",
    "from os import listdir\n",
    "from os.path import isfile, join\n",
    "import re\n",
    "\n",
    "def draw_test(name, res , input_im):\n",
    "    BLACK = [0,0,0]\n",
    "    res=int(res)\n",
    "    if res==0:\n",
    "        pred=\"jeans\"\n",
    "    if res==1:\n",
    "        pred=\"Trousers\"\n",
    "    expanded_image= cv2.copyMakeBorder(input_im , 160 , 0 , 0,500 , cv2.BORDER_CONSTANT , value=BLACK)\n",
    "    cv2.putText(expanded_image , \"predicted- \" + pred(20,60) , cv2,FONT_HERSHEY_SIMPLEX , 1 , (0,255,0) , 2)\n",
    "    #xpanded_image= cv2.cvtcolor(expanded_image , cv2.COLOR_GRAY2BGR)\n",
    "    cv2.putText(expanded_image , \"true- \" + true_label, (20,120) , cv2.FONT_HERSHEY_SIMPLEX , 1  , (0,255,0) ,2)\n",
    "    cv2.imshow(name , expanded_image)\n",
    "    \n",
    "    \n",
    "    \n",
    "\n",
    "def getRandomimage(path,img_widht,img_height):\n",
    "    \n",
    "    folders = list(filter(lambda x:os.path.isdir(os.path.join(path,x)),os.listdir(path)))\n",
    "    random_directory = np.random.randint(0,len(folders))\n",
    "    path_class= folders[random_directory]\n",
    "    file_path = path + \"/\" + path_class\n",
    "    file_names = [f for f in listdir(file_path) if isfile(join(file_path , f))]\n",
    "    random_file_index = np.random.randint(0, len(file_names))\n",
    "    image_name = file_names[random_file_index]\n",
    "    final_path = file_path + \"/\" + image_name\n",
    "    return image.load_img(final_path , target_size = (img_width , img_height)), final_path ,path_class\n",
    "\n",
    "\n",
    "img_width ,img_height = 150,150\n",
    "\n",
    "\n",
    "\n",
    "files = []\n",
    "predictions=[]\n",
    "true_labels= []\n",
    "class_labels=[]\n",
    "\n",
    "for i in range(0,10):\n",
    "    path= (r'D:/New folder/Test')\n",
    "    img , final_path ,true_label = getRandomimage(path , img_width , img_height)\n",
    "    files.append(final_path)\n",
    "    true_labels.append(true_label)\n",
    "    \n",
    "    X= image.img_to_array(img)\n",
    "    X= np.expand_dims(X,axis=0)\n",
    "    images=np.vstack([X])\n",
    "    classes = model.predict_classes(images , batch_size=20)\n",
    "    predictions.append(classes)\n",
    "    \n",
    "for i in range(0 , len(files)):\n",
    "    image = cv2.imread((files[i]))\n",
    "    #raw_test =(\"prediction\" ,class_labels[predictions[i][0]], image ,true_labels [i])\n",
    "    cv2.waitKey(0)\n",
    "\n",
    "cv2.destroyAllWindows()"
   ]
  },
  {
   "cell_type": "code",
   "execution_count": null,
   "metadata": {},
   "outputs": [],
   "source": []
  }
 ],
 "metadata": {
  "kernelspec": {
   "display_name": "Python 3",
   "language": "python",
   "name": "python3"
  },
  "language_info": {
   "codemirror_mode": {
    "name": "ipython",
    "version": 3
   },
   "file_extension": ".py",
   "mimetype": "text/x-python",
   "name": "python",
   "nbconvert_exporter": "python",
   "pygments_lexer": "ipython3",
   "version": "3.6.10"
  }
 },
 "nbformat": 4,
 "nbformat_minor": 4
}
