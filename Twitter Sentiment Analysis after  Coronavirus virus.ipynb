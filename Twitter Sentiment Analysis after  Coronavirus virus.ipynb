{
 "cells": [
  {
   "cell_type": "code",
   "execution_count": 11,
   "metadata": {},
   "outputs": [
    {
     "name": "stdout",
     "output_type": "stream",
     "text": [
      "Requirement already satisfied: nltk in c:\\users\\tarun\\anaconda3\\envs\\tensorflowww\\lib\\site-packages (3.5)\n",
      "Requirement already satisfied: tqdm in c:\\users\\tarun\\anaconda3\\envs\\tensorflowww\\lib\\site-packages (from nltk) (4.48.2)\n",
      "Requirement already satisfied: joblib in c:\\users\\tarun\\anaconda3\\envs\\tensorflowww\\lib\\site-packages (from nltk) (0.16.0)\n",
      "Requirement already satisfied: regex in c:\\users\\tarun\\anaconda3\\envs\\tensorflowww\\lib\\site-packages (from nltk) (2020.7.14)\n",
      "Requirement already satisfied: click in c:\\users\\tarun\\anaconda3\\envs\\tensorflowww\\lib\\site-packages (from nltk) (7.1.2)\n"
     ]
    }
   ],
   "source": [
    "! pip install nltk"
   ]
  },
  {
   "cell_type": "code",
   "execution_count": 12,
   "metadata": {},
   "outputs": [
    {
     "name": "stdout",
     "output_type": "stream",
     "text": [
      "Requirement already satisfied: GetOldTweets3 in c:\\users\\tarun\\anaconda3\\envs\\tensorflowww\\lib\\site-packages (0.0.11)\n",
      "Requirement already satisfied: lxml>=3.5.0 in c:\\users\\tarun\\anaconda3\\envs\\tensorflowww\\lib\\site-packages (from GetOldTweets3) (4.5.2)\n",
      "Requirement already satisfied: pyquery>=1.2.10 in c:\\users\\tarun\\anaconda3\\envs\\tensorflowww\\lib\\site-packages (from GetOldTweets3) (1.4.1)\n",
      "Requirement already satisfied: cssselect>0.7.9 in c:\\users\\tarun\\anaconda3\\envs\\tensorflowww\\lib\\site-packages (from pyquery>=1.2.10->GetOldTweets3) (1.1.0)\n"
     ]
    }
   ],
   "source": [
    "! pip install GetOldTweets3"
   ]
  },
  {
   "cell_type": "code",
   "execution_count": 13,
   "metadata": {},
   "outputs": [],
   "source": [
    "import string\n",
    "from collections import Counter\n",
    "import matplotlib.pyplot as plt"
   ]
  },
  {
   "cell_type": "code",
   "execution_count": 14,
   "metadata": {},
   "outputs": [],
   "source": [
    "def get_tweets():\n",
    "    import GetOldTweets3 as got # library used to scrap the data from twitter \n",
    "    tweetCriteria = got.manager.TweetCriteria().setQuerySearch('Coronavirus') \\\n",
    "        .setSince(\"2020-04-01\") \\\n",
    "        .setUntil(\"2020-05-31\") \\\n",
    "        .setMaxTweets(100)\n",
    "        \n",
    "    tweets = got.manager.TweetManager.getTweets(tweetCriteria)\n",
    "    \n",
    "    text_tweets = [[tweet.text] for tweet in tweets]\n",
    "    return text_tweets\n",
    "         \n",
    "    \n",
    "    "
   ]
  },
  {
   "cell_type": "code",
   "execution_count": 15,
   "metadata": {},
   "outputs": [],
   "source": [
    "# reading the text_file\n",
    "\n",
    "text = \"\"\n",
    "\n",
    "text_tweets = get_tweets()\n",
    "length = len(text_tweets)\n",
    "\n",
    "for i in range(0 , length):\n",
    "    text  = text_tweets[i][0] + \" \" + text\n",
    "    \n",
    "# converting to lower case\n",
    "lower_case = text.lower()\n",
    "\n",
    "# remove puctuation\n",
    "\n",
    "cleaned_text = lower_case.translate(str.maketrans('', '', string.punctuation))\n",
    "\n",
    "# splitting text into words\n",
    "\n",
    "tokenized_words = cleaned_text.split()"
   ]
  },
  {
   "cell_type": "code",
   "execution_count": 16,
   "metadata": {},
   "outputs": [
    {
     "data": {
      "text/plain": [
       "[['Legislators may have a pandemic business interruption insurance solution — but it almost certainly won’t help hoteliers currently struggling due to coronavirus-related drops in travel. '],\n",
       " ['Alerta genera el contagio de tres trabajadores por coronavirus en Quemchi https://bit.ly/3djBeWa'],\n",
       " ['#Noticias24Siete Confirman brote de Coronavirus en Hospital General de #Reynosa, hay 23 contagiados #Tamaulipas'],\n",
       " ['Lol, they showed one of my tweets on Italian television! (I was being sarcastic about popular Italian singer #AlBano, who said “we were able to destroy dinosaurs, we can win coronavirus!” ) '],\n",
       " ['I wonder if there will be a spike in coronavirus in Colorado! '],\n",
       " ['Not coronavirus '],\n",
       " ['#SantaFe | Dos casos nuevos confirmados de #coronavirus en la provincia ▼ https://bit.ly/3ckmfty'],\n",
       " ['Crianças reproduzem dança feita pela campeã mundial de esgrima em Paris: \"Muita emoção\" | coronavírus | Globoesporte '],\n",
       " ['Coronavirus: Brasil ya es el cuarto país con más muertos en el mundo http://www.lanacion.com.ar/2371680 via @LANACION'],\n",
       " ['#Coronavirus: Un total de 5,932 colegios privados han informado a los padres sobre costos durante emergencia sanitaria. Asimismo, 75 % de las escuelas privadas han presentado planes de recuperación https://bit.ly/2XOp2pX'],\n",
       " ['Con miedo y valentía, enfermeras mexicanas luchan contra el coronavirus http://ow.ly/qTKI50zUFhE'],\n",
       " ['This article proves how the coronavirus became so prevalent in the black community. Look at the statistics from when it was first announced to now...'],\n",
       " ['In #LockdownExtended 5.0, night curfew between 9 pm to 5 am #Coronavirus (Covid-19) India Latest Update, 30 May: India, the ninth worst-hit nation by #COVID19, has reported 1,73,763 cases and 4,971 deaths, according to Union #HealthMinistry.'],\n",
       " ['Thank goodness the pandemic is over. Just imagine if all of these hoodlums were out there still spreading Coronavirus. /s #NoLivesMatter #COVID19 #riots2020'],\n",
       " ['#Colectiveros a #cuarentena: 33 conductores de la Empresa del Oeste fueron aislados porque tuvieron contacto con un compañero que dio positivo al #coronavirus. '],\n",
       " ['El coronavirus llegó para cagarnos los planes de todos'],\n",
       " ['New Student-Created Site Crowdsources Global Information About Coronavirus #occupy https://shar.es/aHBIzE via @occupy'],\n",
       " ['Los personeros políticos fraudeamplistas gestionando un rescate a la oligarquía propietaria de las empresas de ómnibus, para que el salvataje se haga con dineros públicos -del fondo coronavirus- que es más deuda pública con organismos financieros, como el BID y la CAF. Paradoja!!'],\n",
       " [\"Top doctor says easing of coronavirus restrictions a 'dangerous moment' for UK https://www.sbs.com.au/news/top-doctor-says-easing-of-coronavirus-restrictions-a-dangerous-moment-for-uk?cid=news:socialshare:twitter via @SBSNews\"],\n",
       " ['#Journalism #Media #PR vs desire to Print by George Orwell #auspol #coronavirus #insiders'],\n",
       " ['JUST IN LUXURY DESIGNER BATH ROBE. PRICE: #35000 TO PLACE AN ORDER: SEND A DM OR WHATSAPP or : +2348067016216 SHOP @timloire 1-2 DAYS INTERVAL BEFORE DELIVERY #covid19 #coronavirus #dubailife… https://www.instagram.com/p/CA1NGSbD1gv/?igshid=j0qg4fra7kh3'],\n",
       " ['How Ultraviolet Light Could Help Stop The Spread Of Coronavirus https://youtu.be/OJ08BuyejuE a través de @YouTube'],\n",
       " [\"God I hope I don't catch the coronavirus being in that protest\"],\n",
       " ['Some journalists can’t even tell the difference between the coronavirus situation and this crime..sad'],\n",
       " ['#humor #sarcasmo #yomequedoencasa #coronavirus #cuarentena #frases #memesenespañol #chistes #risas #funny #memesgraciosos #memesdivertidos #memesespañol #virus #pandemia #comedia #comedy #momazos #memazo #escritos #perú #love #amor #enamorados #parejas #novios #exparejas'],\n",
       " ['Del coronavirus aprendí que apartarnos de lo tóxico es lo que nos salva.'],\n",
       " ['whole country really did put the corona virus on hold though '],\n",
       " ['Coronavirus cruzaste la línea cuando despidieron al guapísimo y carismático director de operaciones! '],\n",
       " ['El presidente del Colegio Médico en #Arequipa, Javier Gutiérrez, manifestó que la situación será más crítica en la segunda y tercera semana de junio, con una ola de nuevos casos a consecuencia de la reactivación económica. #Coronavirus #Covid_19'],\n",
       " ['Con hacer esto mañana a primera hora a nivel mundial se acaba el coronavirus'],\n",
       " ['Vietnam: How this country of 95 million kept its coronavirus death toll at zero '],\n",
       " ['@MinneapolisPD Just like the Corona virus solved the school shooting problem and is helping to solve excess carbon in our atmosphere, take all white police officers with their racial bias out of neighborhoods of color. Will work better than Vietnamization or training Afghan army'],\n",
       " ['En vivo protestas desde Brooklyn #NewYork en condena de asesinato de #georgesfloyd #GeorgeFloydMurder y en el estado más golpeado por #coronavirus '],\n",
       " ['Un nuevo cerco sanitario fue implementado en la comunidad de Victoriano Lorenzo, en Caimitillo, Panamá Norte. En el lugar se incrementaron los casos positivos de coronavirus. Detalles de @elizabeth_gonz #NoticiasTVN'],\n",
       " ['Sigue el reporte Covid-19 e infórmate todos los días sobre el avance del coronavirus en México y las cifras de afectados '],\n",
       " ['el estallido debiese volver, ni ahi con la gente q le teme más al estallido q al coronavirus, pq los pacxs han torturado SIENDO CONSCIENTES, en cambio el virus, es un virus wn no mutara a mejor persona'],\n",
       " ['#coronavirus #VoteBlueToSaveAmerica2020 #PresidentBiden #BlackLivesMatter'],\n",
       " ['while the coronavirus has been spreading, americans have been completely unaware of an even deadlier viral pandem… — nothing but facts '],\n",
       " [\"If you were wondering if the #coronavirus fear mongering is overblown, watch the media's glorification of the riots they call protests. Suddenly there is no concern about public health or social distancing\"],\n",
       " ['Me voy a morir de coronavirus dicen que se puede hacer en mí casa '],\n",
       " ['I intend to do WHAT you do—use MY discretion! 2nd wave—here we come! #Covid19UK #coronavirus'],\n",
       " [' This scenario will continue as workers do not have access to healthcare and testing. Sadly things are not the same. #coronavirus The Porch closes after kitchen employee tests positive for COVID-19 https://www.journalnow.com/entertainment/dining/the-porch-closes-after-kitchen-employee-tests-positive-for-covid-19/article_3d41506d-236f-5467-b248-dbc37208d884.html?utm_medium=social&amp;utm_source=twitter&amp;utm_campaign=user-share via @JournalNow'],\n",
       " ['every goddamn business emailed me about coronavirus pre- shelter in place orders. I hope they have their team writing up a statement in support of BLM'],\n",
       " ['Guest At Packed Memorial Day Weekend Pool Party Tests Positive For Coronavirus '],\n",
       " ['Prfvr CORONAVIRUS vai embora vai, preciso garantir meu futuro'],\n",
       " ['Attendee At Packed Memorial Day Gathering Tests Positive For Coronavirus... https://youtu.be/rRA1LTsyZqA via @YouTube'],\n",
       " ['Eso es robo y los millos q nuestros flamates pendejos del congreso nos endeudaron para mitigar el corona virus'],\n",
       " ['Coronavirus: Shielders in England allowed outdoors again from Monday finally the news I’ve been longing for. '],\n",
       " ['#coronavirus update in #Canada. New cases confirmed 41, new recovered 35, new deaths 6. Total cases in Canada confirmed 91681, recovered 48517, deaths 7159. +0.88% daily cases increase, 800 reported today UTC time.'],\n",
       " ['Coronavirus Jam Week 11 Come Hang! '],\n",
       " [\"you seem to be skipping over the fact that they'd LOSE THEIR JOB. especially right now during the coronavirus, its gonna be quite hard to find a job quickly that pays enough to pay the bills\"],\n",
       " ['Coronavirus en Panamá: 487 casos reportados este sábado 30 de mayo. Nuevos casos: 352. Casos del 20 al 27 de mayo notificados con atraso: 135. Total: 13,018. ¿Sabe por qué el atraso en notificación de casos positivos, Dr. @xsaezll?'],\n",
       " ['En Brasil más de 33 mil contagios de coronavirus en 24hs! Y casi mil muertos más, con hospitales colapsados, no queremos llegar a ese desastre. Nosotros no. Algunos descerebrados, sí #MacristasViolentos #MacristasViolentos #MacristasViolentos'],\n",
       " ['#SkankBrahmaLive Estou me recuperando do coronavirus. Assim que ficar boa vou me vingar tomando todas Brahma puro malte'],\n",
       " [' 𝙄𝙣𝙛𝙤́𝙧𝙢𝙖𝙩𝙚 Es importante saber lo siguiente acerca del Coronavirus: ¿Cómo se transmite? ¿Qué hacer en caso de gripe o resfriado común? ¿Qué hacer si tienes fiebre, dificultad para respirar o dolor en el tórax? #UniónLuchaYCompromiso'],\n",
       " ['passei o ano passando INTEIRO pensando na roupa que ia usar no casamento da irmã do Fabrício que era daqui algumas semanas aí aí o corona virus me tirou tudo cara'],\n",
       " [' Magali para que podamos ayudarte, envíanos tu email y número de reserva. Luego de enviar la información, por favor aguarda nuestra respuesta. Debido al impacto del coronavirus, hay demora en nuestra atención.'],\n",
       " ['O Coronavírus é castigo pros seres humanos, simples assim, pra ver se aprendem alguma coisa e não vão aprender. E aí muitos inocentes e responsáveis pagarão pelo erro de tantos milhares. '],\n",
       " ['Delusional left wing luvvie thinks two astronauts should be more concerned about coronavirus than strapping themselves into a rocket '],\n",
       " ['On World #NoTobacco Day, we are exposing the manipulative ways in which the tobacco industry is taking advantage of the #COVID19 pandemic. Let’s not forget that tobacco products take around 8M lives globally every year. #TobaccoExposed #NoTobacco #WNTD2020 #coronavirus '],\n",
       " ['Corona virus is still out there pls be safe!! '],\n",
       " ['Cidades mais afetadas pelo #coronavirus em Santa Catarina: 30/05 Nº de Casos: 8778 Nº de Óbitos: 136 1) Chapecó Casos: 1782 Óbitos: 8 2) Concórdia Casos: 1701 Óbitos: 15 3) Florianópolis Casos: 1301 Óbitos: 14'],\n",
       " ['Liberate Medical has developed a device that is paired with a ventilator and is intended to prevent the degradation of the breathing muscles while a person is intubate — an issue that has gained mounds of attention with the new coronavirus outbreak. '],\n",
       " ['Women make up 80% of the health care workforce — and the best way to support them in the battle against the #coronavirus is to listen to local and national health officials (In partnership with TIMESUPNOW TIMESUP) 02 #VoteBlueNoMatterWho'],\n",
       " ['So does coronavirus no longer exist? Because the media sure thinks so'],\n",
       " ['Internaron a Charly Gracía: descartaron que esté infectado de coronavirus '],\n",
       " ['Cidades mais afetadas pelo #coronavirus em Rio Grande do Sul: 30/05 Nº de Casos: 9242 Nº de Óbitos: 218 1) Lajeado Casos: 2560 Óbitos: 32 2) Passo Fundo Casos: 1442 Óbitos: 62 3) Porto Alegre Casos: 1368 Óbitos: 68'],\n",
       " ['O meu duo caras o medo de eu tá com corona vírus '],\n",
       " ['Quién era George Floyd: El “gigante amable” que se quedó sin empleo por el coronavirus y que fue asesinado por un policía simpatizante de Trump y miembro de grupos de supremacía blanca. '],\n",
       " ['\"4 goal wonder\" - Nyima further rates his performance in the 2019/2020 league season, having netted four times for the Masu Gida before the league was stopped due to the outbreak of coronavirus. 4 goals in 6 months?'],\n",
       " ['Cidades mais afetadas pelo #coronavirus em Paraná: 30/05 Nº de Casos: 4473 Nº de Óbitos: 181 1) Curitiba Casos: 1866 Óbitos: 89 2) Cascavel Casos: 855 Óbitos: 14 3) Londrina Casos: 790 Óbitos: 44'],\n",
       " ['Primeiro caso fatal de coronavírus no futebol é o boliviano Guzmán, de 25 anos '],\n",
       " ['The CDC confirms remarkably low coronavirus death rate. Where is the media? '],\n",
       " ['Se saia logo corona vírus'],\n",
       " ['Remember when Coronavirus was a thing?...kinda miss that little guy.. #riots2020'],\n",
       " ['Why couldn’t the Coronavirus happen while I was in high school? I’m supposed to be thriving and getting ready for the club rn '],\n",
       " ['Coronavirus Quarantine Survival Skills For Parents &amp; Kids https://childdevelopmentinfo.com/coronavirus/coronavirus-quarantine-survival-skills-for-parents-kids/?utm_source=twitter&amp;utm_medium=social&amp;utm_campaign=ReviveOldPost #parenting #childdevelopment'],\n",
       " [\"who work better then him, previous President with many unemployment, GDP down ,,,, and military weakness, another country look into your country, Let's 3 years he has done. ALL of this because coronavirus\"],\n",
       " ['QUE SE ACABO EL CORONA VIRUS EN VENEZUELA YA TENEMOS GASOLINA'],\n",
       " ['Estados mais afetados pelo #coronavirus na região Sul: 30/05 Nº de Casos: 22493 Nº de Óbitos: 535 1) Rio Grande do Sul: Casos: 9242 Óbitos: 218 2) Santa Catarina: Casos: 8778 Óbitos: 136 3) Paraná: Casos: 4473 Óbitos: 181'],\n",
       " ['Governo do Estado informou que há 8.780 pacientes com teste positivo para Covid-19, sendo que 4.964 se recuperaram e 3.680 estão em acompanhamento. Desde o início da pandemia, 136 mortes já foram causadas pelo coronavírus. A taxa de letalidade é de 1,55%. '],\n",
       " [\"Special Report: The Coronavirus Pandemic's Wall Street Connection | NTD https://youtu.be/2pqVb96yyCY via @YouTube\"],\n",
       " ['Racism just received its Credit Alert from the Corona Virus. Corona Virus is about to do a Geometric Progression in the US.'],\n",
       " ['From 1,130 coronavirus tests on Premier League players and staff on Thursday and Friday, there were a total of ZERO positive cases.'],\n",
       " ['El ministro de Economía, Martín Guzmán, confirmó hoy que ante la extensión del aislamiento obligatorio por la pandemia de coronavirus el gobierno decidió “volver a pagar” el Ingreso Familiar de Emergencia '],\n",
       " ['Cidades mais afetadas pelo #coronavirus em Minas Gerais: 30/05 Nº de Casos: 9630 Nº de Óbitos: 263 1) Belo Horizonte Casos: 3544 Óbitos: 97 2) Uberlândia Casos: 1500 Óbitos: 33 3) Juiz de Fora Casos: 1210 Óbitos: 57'],\n",
       " [\"Missouri governor: 'Don't go out and vote' if you don't feel safe from coronavirus \"],\n",
       " ['weon se murió mi abuela materna de coronavirus, estoy devastada'],\n",
       " ['GOOD NEWS Masjid-E-Nabawi ke naye hisse or bairuni hisson me namaj hogi. #MasjidENabawi #coronavirus #covid19'],\n",
       " ['#BillGatesVirus #BillGatesIsEvil #BillGates #coronavirus '],\n",
       " ['Corona virus '],\n",
       " ['#30M: (7.55 pm) #COVID19 #CORONAVIRUS #PANDEMIC #UPDATE ... https://worldometers.info/coronavirus/?fbclid=IwAR3DVQexBiPRmBeZgS5eFF-xeSoEZ0I3CDyQ1YrrrPgBpIOWB-qEGIoxN24 … #IJTA #QuedateEnCasa #QuedateEnTuCasa #StayHome #VirusChino #Venezuela #CuarentenaTotal #CuarentenaEnFamilia #PandemiaMundial #livenow #Livestream 370.497 '],\n",
       " ['vcs são corruptos, cinicos, mentirosos, roubaram bilhoes do povo com o PETROLÃO, não tem moral para criticar nada. Bolsonaro é ruim, mas nada consegue ser pior do que a esquerda. Vai pra Cuba, vai pra Venezuela, lá não tem coronavirus, é um paraiso!!!!'],\n",
       " ['UTILIDADE PÚBLICA Coronavírus: O estrago que um simples espirro pode fazer! Partículas do vírus podem viajar por até 8 metros, diz estudo. https://bit.ly/2RC3OsU'],\n",
       " ['This fucking cruise ship man. Not only was it responsible for outbreaks of corona virus across Australia, now it has someone with TB on it? And was still allowed to dock when boarders were meant to be closed? Fuck off '],\n",
       " ['#kimetsunoyaiba #nezukokamado #coronavirus #meme #anime'],\n",
       " ['Te hicieron repetir como loro que \"el Modelo a seguir era Chile, que teníamos que ser como Chile \". . Chile hoy: más de 3.600 contagios en las últimas 24 horas, con lo que ya superó los 90.000. y un nuevo récord de 54 muertes por coronavirus en el día de hoy. . Cabeza de termo. '],\n",
       " ['Sigue la transmisión totalmente #EnVivo del estatus sobre el #Coronavirus en México '],\n",
       " ['Cidades mais afetadas pelo #coronavirus em Espírito Santo: 30/05 Nº de Casos: 13437 Nº de Óbitos: 583 1) Serra Casos: 4837 Óbitos: 298 2) Vitória Casos: 4734 Óbitos: 182 3) Vila Velha Casos: 4704 Óbitos: 187'],\n",
       " ['Coronavirus: Shielders in England allowed outdoors again from Monday https://www.bbc.com/news/health-52862440 #SmartNews']]"
      ]
     },
     "execution_count": 16,
     "metadata": {},
     "output_type": "execute_result"
    }
   ],
   "source": [
    "text_tweets"
   ]
  },
  {
   "cell_type": "code",
   "execution_count": 17,
   "metadata": {},
   "outputs": [],
   "source": [
    "from nltk.corpus import stopwords\n"
   ]
  },
  {
   "cell_type": "code",
   "execution_count": 18,
   "metadata": {},
   "outputs": [
    {
     "name": "stderr",
     "output_type": "stream",
     "text": [
      "[nltk_data] Downloading package stopwords to\n",
      "[nltk_data]     C:\\Users\\tarun\\AppData\\Roaming\\nltk_data...\n",
      "[nltk_data]   Package stopwords is already up-to-date!\n"
     ]
    }
   ],
   "source": [
    "import nltk\n",
    "nltk.download('stopwords')\n",
    "final_words = []\n",
    "\n",
    "for word in tokenized_words:\n",
    "    if word not in stopwords.words('english'):\n",
    "        final_words.append(word)"
   ]
  },
  {
   "cell_type": "code",
   "execution_count": 19,
   "metadata": {},
   "outputs": [
    {
     "name": "stdout",
     "output_type": "stream",
     "text": [
      "Counter({' sad': 2, ' attracted': 1, ' adequate': 1})\n"
     ]
    }
   ],
   "source": [
    "emotion_list = []\n",
    "with open('emotions.txt', 'r' ) as file:\n",
    "    for line in file:\n",
    "        clear_lines = line.replace('\\n', '').replace(',','').replace(\"'\", '').strip()\n",
    "        word , emotion = clear_lines.split(':')\n",
    "        if word in final_words:\n",
    "            emotion_list.append(emotion)\n",
    "            \n",
    "w = Counter(emotion_list)\n",
    "print(w)\n",
    "        "
   ]
  },
  {
   "cell_type": "code",
   "execution_count": 20,
   "metadata": {},
   "outputs": [
    {
     "data": {
      "image/png": "[encoded data removed]",
      "text/plain": [
       "<Figure size 432x288 with 1 Axes>"
      ]
     },
     "metadata": {
      "needs_background": "light"
     },
     "output_type": "display_data"
    }
   ],
   "source": [
    "fig , ax1 = plt.subplots()\n",
    "ax1.bar(w.keys(), w.values())\n",
    "fig.autofmt_xdate()\n",
    "plt.savefig('graph.png')\n",
    "plt.show()"
   ]
  },
  {
   "cell_type": "code",
   "execution_count": null,
   "metadata": {},
   "outputs": [],
   "source": []
  }
 ],
 "metadata": {
  "kernelspec": {
   "display_name": "Python 3",
   "language": "python",
   "name": "python3"
  },
  "language_info": {
   "codemirror_mode": {
    "name": "ipython",
    "version": 3
   },
   "file_extension": ".py",
   "mimetype": "text/x-python",
   "name": "python",
   "nbconvert_exporter": "python",
   "pygments_lexer": "ipython3",
   "version": "3.6.10"
  }
 },
 "nbformat": 4,
 "nbformat_minor": 4
}
