{
 "cells": [
  {
   "cell_type": "code",
   "execution_count": 20,
   "metadata": {},
   "outputs": [
    {
     "name": "stdout",
     "output_type": "stream",
     "text": [
      "Requirement already satisfied: nltk in c:\\users\\tarun\\anaconda3\\envs\\tensorflowww\\lib\\site-packages (3.5)\n",
      "Requirement already satisfied: regex in c:\\users\\tarun\\anaconda3\\envs\\tensorflowww\\lib\\site-packages (from nltk) (2020.7.14)\n",
      "Requirement already satisfied: click in c:\\users\\tarun\\anaconda3\\envs\\tensorflowww\\lib\\site-packages (from nltk) (7.1.2)\n",
      "Requirement already satisfied: joblib in c:\\users\\tarun\\anaconda3\\envs\\tensorflowww\\lib\\site-packages (from nltk) (0.16.0)\n",
      "Requirement already satisfied: tqdm in c:\\users\\tarun\\anaconda3\\envs\\tensorflowww\\lib\\site-packages (from nltk) (4.48.2)\n"
     ]
    }
   ],
   "source": [
    "! pip install nltk"
   ]
  },
  {
   "cell_type": "code",
   "execution_count": 21,
   "metadata": {},
   "outputs": [
    {
     "name": "stdout",
     "output_type": "stream",
     "text": [
      "Requirement already satisfied: GetOldTweets3 in c:\\users\\tarun\\anaconda3\\envs\\tensorflowww\\lib\\site-packages (0.0.11)\n",
      "Requirement already satisfied: pyquery>=1.2.10 in c:\\users\\tarun\\anaconda3\\envs\\tensorflowww\\lib\\site-packages (from GetOldTweets3) (1.4.1)\n",
      "Requirement already satisfied: lxml>=3.5.0 in c:\\users\\tarun\\anaconda3\\envs\\tensorflowww\\lib\\site-packages (from GetOldTweets3) (4.5.2)\n",
      "Requirement already satisfied: cssselect>0.7.9 in c:\\users\\tarun\\anaconda3\\envs\\tensorflowww\\lib\\site-packages (from pyquery>=1.2.10->GetOldTweets3) (1.1.0)\n"
     ]
    }
   ],
   "source": [
    "! pip install GetOldTweets3"
   ]
  },
  {
   "cell_type": "code",
   "execution_count": 22,
   "metadata": {},
   "outputs": [],
   "source": [
    "import string\n",
    "from collections import Counter\n",
    "import matplotlib.pyplot as plt"
   ]
  },
  {
   "cell_type": "code",
   "execution_count": 23,
   "metadata": {},
   "outputs": [],
   "source": [
    "def get_tweets():\n",
    "    import GetOldTweets3 as got # library used to scrap the data from twitter \n",
    "    tweetCriteria = got.manager.TweetCriteria().setQuerySearch('Coronavirus') \\\n",
    "        .setSince(\"2020-01-01\") \\\n",
    "        .setUntil(\"2020-01-31\") \\\n",
    "        .setMaxTweets(100)\n",
    "        \n",
    "    tweets = got.manager.TweetManager.getTweets(tweetCriteria)\n",
    "    \n",
    "    text_tweets = [[tweet.text] for tweet in tweets]\n",
    "    return text_tweets\n",
    "         \n",
    "    "
   ]
  },
  {
   "cell_type": "code",
   "execution_count": 24,
   "metadata": {},
   "outputs": [],
   "source": [
    "# reading the text_file\n",
    "\n",
    "text = \"\"\n",
    "\n",
    "text_tweets = get_tweets()\n",
    "length = len(text_tweets)\n",
    "\n",
    "for i in range(0 , length):\n",
    "    text  = text_tweets[i][0] + \" \" + text\n",
    "    \n",
    "# converting to lower case\n",
    "lower_case = text.lower()\n",
    "\n",
    "# remove puctuation\n",
    "\n",
    "cleaned_text = lower_case.translate(str.maketrans('', '', string.punctuation))\n",
    "\n",
    "# splitting text into words\n",
    "\n",
    "tokenized_words = cleaned_text.split()"
   ]
  },
  {
   "cell_type": "code",
   "execution_count": 25,
   "metadata": {},
   "outputs": [
    {
     "data": {
      "text/plain": [
       "[['my little sister was throwing up and we’re here clowning her saying she got corona virus '],\n",
       " ['This shit must cure the coronavirus '],\n",
       " ['Hala gapo ta singkit nakun adda kano coronavirus kn'],\n",
       " ['It seems that the shortage of masks continues in Japan due to the influence of the new coronavirus Peak seems to be around March, so please stay out as much as possible'],\n",
       " ['Update: Coronavirus death toll in China now 213 nationwide, with 204 in Hubei Province, state media reports https://www.weibo.com/2803301701/IrZeE0L5l?refer_flag=1001030103_'],\n",
       " ['we really should stop making jokes about corona virus. and to those people who spreading fake news, you are the virus. #coronavirus'],\n",
       " [\"South China Morning Post Coronavirus Update 9480 confirmed 'cases' 213 confirmed deaths #WuhanAcuteRespiratorySyndrome #CoronaVirus #WuhanFlu #2019nCoV #nCoV2019 #nCoV https://multimedia.scmp.com/widgets/china/wuhanvirus/\"],\n",
       " ['Chinese journalist says Wuhan hospitals are running out of beds and coronavirus testing kits https://bit.ly/2S5yFxo @newscomauHQ'],\n",
       " ['It would be very easy for the coronavirus to spiral out of control. Foreign governments could even spread it for various reasons or it could just spread naturally. Trump has gutted the CDC and we aren’t prepared.'],\n",
       " [\"why is everyone saying that the austrailian group is good for synthesizing it because china didn't share the coronavirus with the WHO? even the WHO says china shared it with the WHO. please check instead of trusting just any 'translations' \"],\n",
       " ['#Nacional Gabinete de Salud brinda una conferencia de prensa sobre la declaratoria de Emergencia Nacional tras el anuncio de la Organización Mundial de la Salud, por la expansión del coronavirus. Información vía: @ComunicacionSV.'],\n",
       " [\"Scientists moving with 'unprecedented speed' to find vaccines for #coronavirus 2019-nCoV, Coalition for Epidemic Preparedness Innovation says. Team working to create new breed of vaccines from existing genetic technology &amp; aiming to begin clinical trials within 16 weeks. #lka\"],\n",
       " ['Igual que el último del año pasado, pero con inicio de pandemia de coronavirus.'],\n",
       " ['#piazzapulita Formigli, lo posso dire? Stasera sta storia sul #coronavirus non mi è poi tanto piaciuta come l\"hai trattata. Opinione personale, eh!'],\n",
       " ['Espero que no estén ya todos con coronavirus por culpa de veni'],\n",
       " ['Con coronavirus y sin pareja #badluckpasajero'],\n",
       " [\"there's really a lot of racism going on regarding the Wuhan coronavirus... but as someone who lost 2 years of my life to a virus before, who has plans to travel within Asia soon, who is already vaccinated against measles, polio, yearly flu, etc... i have reason to be concerned!\"],\n",
       " [\"ALERT!! WHO Declares Coronavirus Outbreak A 'Global Emergency' BOOM ! https://youtu.be/luUHGzKbEgw via @YouTube\"],\n",
       " ['#Coronavirus #CoronavirusOutbreak #China #Coronarvirus #Coronaviruswuhan #WorldNews #Pandemic #LatestNews'],\n",
       " ['In a few days white people will have coronavirus so you can make fun of them too'],\n",
       " ['num sendo o coronavirus ta bom'],\n",
       " ['#BillGates ‘predicted’ Chinese #coronavirus a year ago with simulation saying 33 MILLION could die in first six months http://bit.ly/37t5vyW #TechJunkieNews'],\n",
       " [\"Coronavirus en Wuhan: La evacuación de los 'laowai' | Historias https://wayback.archive.org/web/20200130230354/https://www.elmundo.es/papel/historias/2020/01/25/5e2bfeb721efa0e5798b45e6.html ➜ https://wayback.archive.org/web/20200130235937/https://www.elmundo.es/papel/historias/2020/01/25/5e2bfeb721efa0e5798b45e6.html\"],\n",
       " ['Jajaja pero al paso que vamos será la primera en desaparecer por el coronavirus '],\n",
       " ['Papua New Guinea bans visitors from Asia amid coronavirus outbreak '],\n",
       " ['Pledis de mierda sigue sin darle un descanso a seventeen, sólo lo hacen cuando los chicos no dan más pero ahora tiene que ser antes de que pase algo aún más grave con el coronavirus #모든_아티스트_스케줄_취소해 #세븐틴_보호해_월드투어_취소해'],\n",
       " ['Para las personas que quieren saber como es estar en un centro comercial vacio en #China durante el brote de #coronavirus — es muy extraño. #Shanghai se ha convertido en una #ciudadfantasma. Este el Super Brand Mall '],\n",
       " ['China coronavirus: Global health emergency declared by World Health Organisation, reversing earlier decision on outbreak.'],\n",
       " ['Is it bad that all I can think about when I hear about this coronavirus is that at least I’d get a nice few days off work if it hits hahaha #coronavirus'],\n",
       " ['Due casi confermati in Italia: una coppia di turisti cinesi. I due sono ricoverati presso lo Spallanzani di Roma. Il Ministero ha messo a disposizione il numero telefonico 1500 attivo 24h/24 per le info. #coronavirus #medicalfacts'],\n",
       " ['WHO Declares International Emergency Over Coronavirus Outbreak After First Human-to-Human Transmission In America '],\n",
       " ['Lolololololololololol. The #stupid, it #burns #coronavirus #antivaxxers #measles #youtube #school of #medicine https://www.instagram.com/p/B79o7A6h5kq/?igshid=17sheiuzpy987'],\n",
       " ['Thread by @LJT_is_me: The White House Office of the Press Secretary FOR IMMEDIATE RELEASE January 29, 2020 Statement from the Press Secretaryng the President’s Coronavirus Task Force ** Today, President Donald J. Trump announced the formation of the Pres… '],\n",
       " [\"Very interesting video for u who want to know more about the #Wuhan #CoronaVirus &amp; how the situation looks like in Wuhan This vid was recorded today by a journalist who was 1 of the last to make it in to Wuhan before the quarantine He says he's sick now \"],\n",
       " ['Exploiting Coronavirus outbreak to spread malware via emails. '],\n",
       " ['Turning a global health emergency into a marketing opportunity. Is this peak capitalism? @lollicup_irvine #coronavirus '],\n",
       " ['A mi no me puede matar el coronavirus. Yo aun tengo que estar con el amor de mi vida, en nuestra casa, preparando pasapalos para esperar a nuestros exitosos amigos para bebernos unas cervezas el sabado. Nooooóoooooo '],\n",
       " ['me voy en menos de 48h a Bucarest Y HAY GENTE CON CORONAVIRUS'],\n",
       " ['Anche stavolta azzecchiamo il trend topic domani #coronarvirus #coronavirus'],\n",
       " ['Coronavirus mata sólo a debilitados de inmunidad. El peronismo mata a todos y la impunidad no va y vacuna que se la saque'],\n",
       " ['http://corporateedgemag.com/2020/01/30/coronavirus-declared-global-health-emergency-by-who/ Coronavirus declared global health emergency by WHO'],\n",
       " ['#coronavirus salgını hakkındaki tüm gelişmeleri buradan canlı takip edebilirsiniz https://gisanddata.maps.arcgis.com/apps/opsdashboard/index.html#/bda7594740fd40299423467b48e9ecf6'],\n",
       " [\"I don't blame them at all. @AmericanAir #coronavirus \"],\n",
       " ['Coronavirus map: Tracking the spread across borders and flight paths – Global News '],\n",
       " ['#Municipios | Puebla activa protocolos por #Coronavirus en aeropuerto de Huejotzingo. http://ow.ly/laE530qdHpN'],\n",
       " ['Corona virus is just a government ruse for population control'],\n",
       " ['Esto le pasa a tu cuerpo cuando te infecta el corona virus '],\n",
       " [\"Some of ya'll bitch's douche water carries a Coronavirus, and it REALLY shows.\"],\n",
       " ['☡ 15 mil casos suspeitos de coronavirus na China'],\n",
       " ['Call for permanent ban on #wildlife trade in #China - The Endangered Wildlife Trust (EWT) has welcomed the recent decision by Chinese authorities to temporarily ban the trade in wild animals to curb the spread of the deadly #coronavirus. '],\n",
       " ['so just this morning i heard on the news that if the coronavirus spreads in the country there will be a crisis because our health system is basically shitty and now the government just announced two cases in the city where i live.... great'],\n",
       " [\"Wait aren't you from Malaysia or something omg you have coronavirus :(\"],\n",
       " ['Delante de la epidemia del Coronavirus 2019-nCoV iniciada en la provincia de Wuhan en China, NO ES NECESARIO IMPLEMENTAR MEDIDAS ADICIONALES en la selección de los donantes de sangre, plasma y plaquetas. Pero se recuerda que, durante la entrevista hace falta: (sigo)'],\n",
       " ['I was in line at starbucks and I cleared my throat and this white bitch in front of me was so startled, she got out of line and left. I’d like to thank the coronavirus and racism for saving me 5 mins with my order this morning.'],\n",
       " ['How hard to hack a bat coronavirus a little, have some guy release it in a place full of old people in Wuhan - right next to Chinese biosafety P-4 lab. And if the suggestions about google map-shenanigans with that P-4 lab, make it look like Chinese are trying to hide it.'],\n",
       " ['Ledys está traumada con el Corona virus, me dijo que tenía un dolor de cabeza y una preocupación enorme, me dio cositaaa '],\n",
       " ['American pilots union sues to stop China flights amid coronavirus outbreak; United extends cuts - https://www.shanghaibeat.com/american-pilots-union-sues-to-stop-china-flights-amid-coronavirus-outbreak-united-extends-cuts/ #Shanghai #China #上海'],\n",
       " ['Nahihirapan na nga mga pinoy kumain tatlong beses isang araw pano pa kaya pag nag-positive sila sa corona virus? Araw-araw tayong kumakayod para mabuhay pero gobyerno lang din pala papatay satin Ps. Di ko hate mga CHINESE pero asan na yung \"PREVENTION IS BETTER THAN CURE\"?'],\n",
       " ['Due to the severe worldwide outbreak of the coronavirus please postpone the fansigning event #YGE_PostponeiKONFansign'],\n",
       " ['Coronavirus en camino. '],\n",
       " [\"@gerrypizza est-ce le temps d'investir dans 3M ? Au nombre de masque qui se vend avec le coronavirus.... \"],\n",
       " ['Coronavirus advice updated | Australian Skills Quality Authority (ASQA) '],\n",
       " ['China eleva aumento na produção de alimentos por crise do coronavírus - RENOVA Mídia https://renovamidia.com.br/china-eleva-aumento-na-producao-de-alimentos-por-crise-do-coronavirus/ via @renovamidia'],\n",
       " ['Purple Haze libera o Coronavírus bixo.'],\n",
       " ['Bruh da coronavirus got to him '],\n",
       " [\"China: 10-year-old boy had coronavirus 'without symptoms' https://gn24.ae/953a944f4d53000 #coronavirus\"],\n",
       " ['Mercato: le transfert de Pastore bloqué par le coronavirus https://rmcsport.bfmtv.com/football/mercato-le-transfert-de-pastore-bloque-par-le-coronavirus-1849611.html via @RMCSport'],\n",
       " ['In one month: 2019-nCoV Infected - 8,236 Deaths - 174 Common Cold (also a coronavirus) Infected - appx. 300,000 Deaths - appx. 25,000 Look me in the eye and tell me the media doesn’t prey on fear.'],\n",
       " ['Creo q tengo el coronavirus, primer caso en argentina'],\n",
       " ['O coronavirus chegando no Brasil através dos ricos e encarando o aedes agypti '],\n",
       " ['Bolsonaro internado às pressas... Imagina que louco se ele tá com corona vírus?'],\n",
       " ['213-dead 1597-severe/critical per-Bloomberg-News #CoronaVirus #UPDATE #CoronaVirusUpdate'],\n",
       " ['Coronavirus is real, can media talk about this! instead of crying about injection and hoorain, Ridiculous !'],\n",
       " ['I really feel like the government is trying to hide something bc the coronavirus came literally from nowhere. If you really think about it the Chinese have been eating this for years so why a breakout now!'],\n",
       " ['US Reports 1st #Case Of Person-To-Person Spread Of Wuhan Coronavirus - Jan 30 @6:58 PM ET https://oddcrimes.com/static/2020/01/30/US-Reports-1st-Case-Of-Person-To-Person-Spread-Of-Wuhan-Coronavirus.php'],\n",
       " [\"Don't forget to Work with the CIA, the creators of the Coronavirus. \"],\n",
       " ['El mundo alarmado por el avance del Coronavirus y en Bolivia los políticos preocupados por la presunta postulación del cocalero al legislativo plurinacional.'],\n",
       " ['If you don’t want Coronavirus, you hate the Chinese! Also, if you hate Ebola virus, you hate Africans. Just saying. '],\n",
       " ['Las autoridades de Salud confirman que los vuelos procedentes de #China han sido suspendidos como parte de las medidas preventivas contra el #coronavirus. #N4V'],\n",
       " ['Reading @NatGeo as a child inspired my deep love of wildlife. Some seem otherworldly, others are magnificent &amp; cute. Knowing that some people trade &amp; eat exotic wildlife, I can only shake my head. Among others, I hope the #coronavirus compels a greater respect of wildlife.'],\n",
       " ['she bout to get corona virus on the plane here'],\n",
       " ['#ENDeportes Coronavirus obliga a suspender Mundial bajo techo de atletismo http://bit.ly/2S36mzz'],\n",
       " ['¿Sabes qué es el Coronavirus? ¿Cuáles son sus síntomas? ¿Y cómo prevenirlo? #QUENOTECORONEN: ¡Si lo prevenimos lo combatimos! Para más información, visita nuestra página web: https://grupomacdel.com/articulo/coronavirus #GrupoMacdel #PorUnaHondurasMásLimpia'],\n",
       " ['Un chabon estornudo al lado mio hoy y ya estoy flashando coronavirus, esta es la vida de un misofobico toquiano'],\n",
       " ['Coronavirus declared global health emergency by WHO - BBC News '],\n",
       " [\"Don't worry about coronavirus. You're more likely to get pneumonia. (This is me compulsively washing my hands ANYWAY)\"],\n",
       " ['En México, se han identificado 9 casos sospechosos por #coronavirus, todos han resultado negativos tras los estudios pertinentes: @SSalud_mx'],\n",
       " ['Mannoni raccomanda di informarsi al meglio sul coronavirus, poi tiene un poraccio in collegamento davanti al cancello chiuso dello Spallanzani, in piena notte, a ripeterci allo sfinimento che ci sono due turisti cinesi ricoverati. Utile.'],\n",
       " ['#Coronavirus is less deadly than SARS — but that also explains why it’s so contagious '],\n",
       " ['Russia closes 2,700-mile border with China to stop coronavirus https://metro.co.uk/2020/01/30/russia-closes-2700-mile-border-china-stop-coronavirus-12151466/#share-item-0-181 via @MetroUK'],\n",
       " ['to com o CORONAVIRUS Como seria Otimo Receber uma Oportunidade de quem eu Namoraria e daria Amor, mas infelizmente Você não se Importa comigo, Ridiculariza essa paixão e Usurpa do Sentimento que cultivo por você'],\n",
       " ['hay un caso de coronavirus en uruguay listo ahora se pasa para acá y nos morimos hasta nunca raza'],\n",
       " ['I have coronavirus'],\n",
       " ['3 #Biotech Stocks Are Soaring Because Everyone Wants a #Coronavirus Vaccine http://bit.ly/2GoPoXc #TechJunkieInvest'],\n",
       " ['Jajajajajajaja injerto hecho a base de carne de perro y coronavirus? Dame 10'],\n",
       " ['5G Launches In Wuhan Weeks Before Coronavirus Outbreak https://www.infowars.com/5g-launches-in-wuhan-weeks-before-coronavirus-outbreak/ #Infowars'],\n",
       " ['UPDATE NORTH-AMERICA: Today we saw one new case of the #coronavirus in the U.S. U.S: 6 (+1) Canada: 3 (-) (U.S still has 92 samples pending) '],\n",
       " ['#PublicHealth #CommunityHealth Masks Reveal Cultural Disconnect As L.A.’s Chinese Community Braces For Coronavirus http://dlvr.it/RP4wFs'],\n",
       " ['Just commented on @thejournal_ie: Coronavirus declared a global emergency by the World Health Organisation - '],\n",
       " [\"News Wrap: WHO declares novel coronavirus a global health emergency: In our news wrap Thursday, the World Health Organization has declared China's outbreak of novel coronavirus a global health emergency. The… http://dlvr.it/RP4wGj #25thAmendmentNow #ImpeachTrump #TheResistance\"]]"
      ]
     },
     "execution_count": 25,
     "metadata": {},
     "output_type": "execute_result"
    }
   ],
   "source": [
    "text_tweets"
   ]
  },
  {
   "cell_type": "code",
   "execution_count": 27,
   "metadata": {},
   "outputs": [
    {
     "name": "stderr",
     "output_type": "stream",
     "text": [
      "[nltk_data] Downloading package stopwords to\n",
      "[nltk_data]     C:\\Users\\tarun\\AppData\\Roaming\\nltk_data...\n",
      "[nltk_data]   Package stopwords is already up-to-date!\n"
     ]
    }
   ],
   "source": [
    "from nltk.corpus import stopwords\n",
    "import nltk\n",
    "nltk.download('stopwords')\n",
    "final_words = []\n",
    "\n",
    "for word in tokenized_words:\n",
    "    if word not in stopwords.words('english'):\n",
    "        final_words.append(word)"
   ]
  },
  {
   "cell_type": "code",
   "execution_count": 28,
   "metadata": {},
   "outputs": [
    {
     "name": "stdout",
     "output_type": "stream",
     "text": [
      "Counter({' happy': 2, ' average': 1, ' attracted': 1, ' lost': 1, ' surprise': 1, ' loved': 1})\n"
     ]
    }
   ],
   "source": [
    "emotion_list = []\n",
    "with open('emotions.txt', 'r' ) as file:\n",
    "    for line in file:\n",
    "        clear_lines = line.replace('\\n', '').replace(',','').replace(\"'\", '').strip()\n",
    "        word , emotion = clear_lines.split(':')\n",
    "        if word in final_words:\n",
    "            emotion_list.append(emotion)\n",
    "            \n",
    "w = Counter(emotion_list)\n",
    "print(w)"
   ]
  },
  {
   "cell_type": "code",
   "execution_count": 29,
   "metadata": {},
   "outputs": [
    {
     "data": {
      "image/png": "[encoded data removed]",
      "text/plain": [
       "<Figure size 432x288 with 1 Axes>"
      ]
     },
     "metadata": {
      "needs_background": "light"
     },
     "output_type": "display_data"
    }
   ],
   "source": [
    "fig , ax1 = plt.subplots()\n",
    "ax1.bar(w.keys(), w.values())\n",
    "fig.autofmt_xdate()\n",
    "plt.savefig('graph.png')\n",
    "plt.show()"
   ]
  },
  {
   "cell_type": "code",
   "execution_count": null,
   "metadata": {},
   "outputs": [],
   "source": []
  }
 ],
 "metadata": {
  "kernelspec": {
   "display_name": "Python 3",
   "language": "python",
   "name": "python3"
  },
  "language_info": {
   "codemirror_mode": {
    "name": "ipython",
    "version": 3
   },
   "file_extension": ".py",
   "mimetype": "text/x-python",
   "name": "python",
   "nbconvert_exporter": "python",
   "pygments_lexer": "ipython3",
   "version": "3.6.10"
  }
 },
 "nbformat": 4,
 "nbformat_minor": 4
}
