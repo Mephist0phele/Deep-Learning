{
 "cells": [
  {
   "cell_type": "code",
   "execution_count": 15,
   "metadata": {},
   "outputs": [
    {
     "name": "stdout",
     "output_type": "stream",
     "text": [
      "Requirement already satisfied: keras in c:\\users\\tarun\\anaconda3\\envs\\tensorflowww\\lib\\site-packages (2.3.1)\n",
      "Requirement already satisfied: numpy>=1.9.1 in c:\\users\\tarun\\anaconda3\\envs\\tensorflowww\\lib\\site-packages (from keras) (1.18.5)\n",
      "Requirement already satisfied: scipy>=0.14 in c:\\users\\tarun\\anaconda3\\envs\\tensorflowww\\lib\\site-packages (from keras) (1.5.0)\n",
      "Requirement already satisfied: six>=1.9.0 in c:\\users\\tarun\\anaconda3\\envs\\tensorflowww\\lib\\site-packages (from keras) (1.15.0)\n",
      "Requirement already satisfied: pyyaml in c:\\users\\tarun\\anaconda3\\envs\\tensorflowww\\lib\\site-packages (from keras) (5.3.1)\n",
      "Requirement already satisfied: h5py in c:\\users\\tarun\\anaconda3\\envs\\tensorflowww\\lib\\site-packages (from keras) (2.10.0)\n",
      "Requirement already satisfied: keras_applications>=1.0.6 in c:\\users\\tarun\\anaconda3\\envs\\tensorflowww\\lib\\site-packages (from keras) (1.0.8)\n",
      "Requirement already satisfied: keras_preprocessing>=1.0.5 in c:\\users\\tarun\\anaconda3\\envs\\tensorflowww\\lib\\site-packages (from keras) (1.1.0)\n"
     ]
    }
   ],
   "source": [
    "!pip install keras"
   ]
  },
  {
   "cell_type": "code",
   "execution_count": 16,
   "metadata": {},
   "outputs": [],
   "source": [
    "import pandas as pd\n",
    "import numpy as np"
   ]
  },
  {
   "cell_type": "code",
   "execution_count": 17,
   "metadata": {},
   "outputs": [
    {
     "name": "stdout",
     "output_type": "stream",
     "text": [
      "2.1.0\n"
     ]
    }
   ],
   "source": [
    "from keras.preprocessing.image import ImageDataGenerator\n",
    "from keras.models import Sequential\n",
    "\n",
    "import tensorflow as tf\n",
    "from tensorflow import keras\n",
    "import numpy as np\n",
    "from keras.models import Sequential\n",
    "from keras.layers.convolutional import Convolution2D, MaxPooling2D\n",
    "from keras.layers import Activation, Flatten, Dense, Dropout\n",
    "from keras.utils import np_utils\n",
    "from keras.layers import Conv2D, MaxPooling2D\n",
    "# TensorFlow and tf.keras\n",
    "import tensorflow as tf\n",
    "from tensorflow import keras\n",
    "\n",
    "# Helper libraries\n",
    "import numpy as np\n",
    "import matplotlib.pyplot as plt\n",
    "\n",
    "print(tf.__version__)\n",
    "import cv2"
   ]
  },
  {
   "cell_type": "code",
   "execution_count": 18,
   "metadata": {},
   "outputs": [],
   "source": [
    "import os"
   ]
  },
  {
   "cell_type": "code",
   "execution_count": 19,
   "metadata": {},
   "outputs": [],
   "source": [
    "img_width=150\n",
    "img_height=150"
   ]
  },
  {
   "cell_type": "code",
   "execution_count": 20,
   "metadata": {},
   "outputs": [],
   "source": [
    "train  =   (r'D:/New folder/Train')"
   ]
  },
  {
   "cell_type": "code",
   "execution_count": 21,
   "metadata": {},
   "outputs": [],
   "source": [
    "test   =   (r'D:/New folder/Test')"
   ]
  },
  {
   "cell_type": "code",
   "execution_count": 22,
   "metadata": {},
   "outputs": [],
   "source": [
    "train_sample=200\n",
    "test_sample=100\n",
    "epochs=20\n",
    "batch_size=20"
   ]
  },
  {
   "cell_type": "code",
   "execution_count": 23,
   "metadata": {},
   "outputs": [],
   "source": [
    "from keras import backend as K\n",
    "if K.image_data_format() == 'channels_first':\n",
    "  input_shape = (3, img_width, img_height)\n",
    "else:\n",
    "  input_shape = ( img_width, img_height,3)\n"
   ]
  },
  {
   "cell_type": "code",
   "execution_count": 24,
   "metadata": {},
   "outputs": [],
   "source": [
    "\n",
    "train_datagen=ImageDataGenerator(\n",
    "     rotation_range=40,\n",
    "        width_shift_range=0.2,\n",
    "        height_shift_range=0.2,\n",
    "        rescale=1./255,\n",
    "        shear_range=0.2,\n",
    "        zoom_range=0.2,\n",
    "        horizontal_flip=True,\n",
    "        fill_mode='nearest'\n",
    ")"
   ]
  },
  {
   "cell_type": "code",
   "execution_count": 25,
   "metadata": {},
   "outputs": [
    {
     "name": "stdout",
     "output_type": "stream",
     "text": [
      "Found 200 images belonging to 2 classes.\n"
     ]
    }
   ],
   "source": [
    "train_generator = train_datagen.flow_from_directory(\n",
    "    train,\n",
    "    target_size=(img_width,img_height),\n",
    "    batch_size=batch_size,\n",
    "    class_mode='binary'\n",
    "    \n",
    ")"
   ]
  },
  {
   "cell_type": "code",
   "execution_count": 26,
   "metadata": {},
   "outputs": [],
   "source": [
    "test_datagen=ImageDataGenerator(\n",
    "    rescale=1./255)"
   ]
  },
  {
   "cell_type": "code",
   "execution_count": 27,
   "metadata": {},
   "outputs": [
    {
     "name": "stdout",
     "output_type": "stream",
     "text": [
      "Found 200 images belonging to 2 classes.\n"
     ]
    }
   ],
   "source": [
    "test_generator = test_datagen.flow_from_directory(\n",
    "    test,\n",
    "    target_size=(img_width,img_height),\n",
    "    batch_size=batch_size,\n",
    "    class_mode='binary')"
   ]
  },
  {
   "cell_type": "code",
   "execution_count": 28,
   "metadata": {},
   "outputs": [
    {
     "name": "stdout",
     "output_type": "stream",
     "text": [
      "Model: \"sequential_1\"\n",
      "_________________________________________________________________\n",
      "Layer (type)                 Output Shape              Param #   \n",
      "=================================================================\n",
      "conv2d_1 (Conv2D)            (None, 148, 148, 32)      896       \n",
      "_________________________________________________________________\n",
      "activation_1 (Activation)    (None, 148, 148, 32)      0         \n",
      "_________________________________________________________________\n",
      "max_pooling2d_1 (MaxPooling2 (None, 74, 74, 32)        0         \n",
      "=================================================================\n",
      "Total params: 896\n",
      "Trainable params: 896\n",
      "Non-trainable params: 0\n",
      "_________________________________________________________________\n",
      "Model: \"sequential_1\"\n",
      "_________________________________________________________________\n",
      "Layer (type)                 Output Shape              Param #   \n",
      "=================================================================\n",
      "conv2d_1 (Conv2D)            (None, 148, 148, 32)      896       \n",
      "_________________________________________________________________\n",
      "activation_1 (Activation)    (None, 148, 148, 32)      0         \n",
      "_________________________________________________________________\n",
      "max_pooling2d_1 (MaxPooling2 (None, 74, 74, 32)        0         \n",
      "_________________________________________________________________\n",
      "conv2d_2 (Conv2D)            (None, 72, 72, 64)        18496     \n",
      "_________________________________________________________________\n",
      "activation_2 (Activation)    (None, 72, 72, 64)        0         \n",
      "_________________________________________________________________\n",
      "max_pooling2d_2 (MaxPooling2 (None, 36, 36, 64)        0         \n",
      "_________________________________________________________________\n",
      "conv2d_3 (Conv2D)            (None, 34, 34, 64)        36928     \n",
      "_________________________________________________________________\n",
      "activation_3 (Activation)    (None, 34, 34, 64)        0         \n",
      "_________________________________________________________________\n",
      "max_pooling2d_3 (MaxPooling2 (None, 17, 17, 64)        0         \n",
      "_________________________________________________________________\n",
      "flatten_1 (Flatten)          (None, 18496)             0         \n",
      "_________________________________________________________________\n",
      "dense_1 (Dense)              (None, 64)                1183808   \n",
      "_________________________________________________________________\n",
      "activation_4 (Activation)    (None, 64)                0         \n",
      "_________________________________________________________________\n",
      "dense_2 (Dense)              (None, 1)                 65        \n",
      "_________________________________________________________________\n",
      "activation_5 (Activation)    (None, 1)                 0         \n",
      "=================================================================\n",
      "Total params: 1,240,193\n",
      "Trainable params: 1,240,193\n",
      "Non-trainable params: 0\n",
      "_________________________________________________________________\n"
     ]
    }
   ],
   "source": [
    "model = Sequential()\n",
    "model.add(Conv2D(32, kernel_size=(3, 3),input_shape=input_shape))\n",
    "model.add( Activation('relu'))\n",
    "model.add(MaxPooling2D(pool_size=(2, 2)))\n",
    "\n",
    "model.summary()\n",
    "\n",
    "model.add(Conv2D(64, kernel_size=(3, 3),input_shape=input_shape))\n",
    "model.add(Activation('relu'))\n",
    "model.add(MaxPooling2D(pool_size=(2, 2)))\n",
    "\n",
    "\n",
    "model.add(Conv2D(64, kernel_size=(3, 3),input_shape=input_shape))\n",
    "model.add(Activation('relu'))\n",
    "model.add(MaxPooling2D(pool_size=(2, 2)))\n",
    "\n",
    "\n",
    "\n",
    "model.add(Flatten())\n",
    "model.add(Dense(64))\n",
    "model.add(Activation('relu'))\n",
    "#model.add(Dropout(0.5))\n",
    "model.add(Dense(1))\n",
    "model.add(Activation('sigmoid'))\n",
    "\n",
    "model.summary()\n",
    "\n",
    "   \n",
    "                              \n",
    "                              \n"
   ]
  },
  {
   "cell_type": "code",
   "execution_count": 29,
   "metadata": {},
   "outputs": [],
   "source": [
    "from PIL import Image\n",
    "from IPython.display import display\n",
    "from PIL import Image"
   ]
  },
  {
   "cell_type": "code",
   "execution_count": 30,
   "metadata": {},
   "outputs": [],
   "source": [
    "from keras.callbacks import ModelCheckpoint , EarlyStopping , ReduceLROnPlateau\n",
    "\n",
    "checkpoint = ModelCheckpoint(r'jeans_traouser_cnn.h5',\n",
    "                    monitor='val_loss',\n",
    "                    mode= 'min',\n",
    "                    save_best_only=True,\n",
    "                    verbose=1,)\n",
    "\n",
    "                \n",
    "early_stopping = EarlyStopping(monitor = 'val_loss',\n",
    "                               min_delta = 0,\n",
    "                               patience =3, \n",
    "                               verbose= 1,\n",
    "                               restore_best_weights=True\n",
    "                              )\n",
    "                            \n",
    "reduce_lr = ReduceLROnPlateau(monitor = 'val_loss',\n",
    "                            factor = 0.2,\n",
    "                            patience= 3,\n",
    "                            verbose= 1,\n",
    "                            min_delta= 0.0001)\n",
    "\n",
    "callbacks = [checkpoint, early_stopping , reduce_lr]\n",
    "                              \n",
    "                              \n",
    "                              \n",
    "            \n",
    "model.compile(loss='binary_crossentropy',\n",
    "              optimizer='rmsprop',\n",
    "              metrics=['accuracy'])     \n",
    "                              \n",
    "                              "
   ]
  },
  {
   "cell_type": "code",
   "execution_count": 31,
   "metadata": {},
   "outputs": [
    {
     "name": "stdout",
     "output_type": "stream",
     "text": [
      "Epoch 1/20\n",
      "200/200 [==============================] - 121s 604ms/step - loss: 0.6951 - accuracy: 0.6030 - val_loss: 0.4595 - val_accuracy: 0.7200\n",
      "\n",
      "Epoch 00001: val_loss improved from inf to 0.45950, saving model to jeans_traouser_cnn.h5\n",
      "Epoch 2/20\n",
      "200/200 [==============================] - 111s 556ms/step - loss: 0.5749 - accuracy: 0.7143 - val_loss: 0.2640 - val_accuracy: 0.8200\n",
      "\n",
      "Epoch 00002: val_loss improved from 0.45950 to 0.26397, saving model to jeans_traouser_cnn.h5\n",
      "Epoch 3/20\n",
      "200/200 [==============================] - 112s 558ms/step - loss: 0.5022 - accuracy: 0.7623 - val_loss: 0.3533 - val_accuracy: 0.8550\n",
      "\n",
      "Epoch 00003: val_loss did not improve from 0.26397\n",
      "Epoch 4/20\n",
      "200/200 [==============================] - 113s 566ms/step - loss: 0.4623 - accuracy: 0.7872 - val_loss: 0.3228 - val_accuracy: 0.8300\n",
      "\n",
      "Epoch 00004: val_loss did not improve from 0.26397\n",
      "Epoch 5/20\n",
      "200/200 [==============================] - 111s 555ms/step - loss: 0.3893 - accuracy: 0.8230 - val_loss: 0.3303 - val_accuracy: 0.8800\n",
      "\n",
      "Epoch 00005: val_loss did not improve from 0.26397\n",
      "Restoring model weights from the end of the best epoch\n",
      "\n",
      "Epoch 00005: ReduceLROnPlateau reducing learning rate to 0.00020000000949949026.\n",
      "Epoch 00005: early stopping\n"
     ]
    }
   ],
   "source": [
    "\n",
    "history=model.fit_generator(\n",
    "    train_generator,\n",
    "    steps_per_epoch=train_sample,\n",
    "    epochs=epochs,\n",
    "    callbacks=callbacks,\n",
    "    validation_data=test_generator,\n",
    "    validation_steps=test_sample\n",
    ")"
   ]
  },
  {
   "cell_type": "code",
   "execution_count": 32,
   "metadata": {},
   "outputs": [
    {
     "data": {
      "text/plain": [
       "{'val_loss': [0.45950430631637573,\n",
       "  0.2639712393283844,\n",
       "  0.3533150553703308,\n",
       "  0.32276931405067444,\n",
       "  0.33026018738746643],\n",
       " 'val_accuracy': [0.7200000286102295,\n",
       "  0.8199999928474426,\n",
       "  0.8550000190734863,\n",
       "  0.8299999833106995,\n",
       "  0.8799999952316284],\n",
       " 'loss': [0.6950723315775394,\n",
       "  0.5748525555431843,\n",
       "  0.5021906833350659,\n",
       "  0.4622682978212833,\n",
       "  0.389316728040576],\n",
       " 'accuracy': [0.603, 0.71425, 0.76225, 0.78725, 0.823],\n",
       " 'lr': [0.001, 0.001, 0.001, 0.001, 0.001]}"
      ]
     },
     "execution_count": 32,
     "metadata": {},
     "output_type": "execute_result"
    }
   ],
   "source": [
    "history.history    "
   ]
  },
  {
   "cell_type": "code",
   "execution_count": 33,
   "metadata": {},
   "outputs": [
    {
     "data": {
      "image/png": "[encoded data removed]",
      "text/plain": [
       "<Figure size 432x288 with 1 Axes>"
      ]
     },
     "metadata": {
      "needs_background": "light"
     },
     "output_type": "display_data"
    }
   ],
   "source": [
    "import matplotlib.pyplot as plt\n",
    "\n",
    "history_dict=history.history\n",
    "\n",
    "loss_values=history_dict[\"loss\"]\n",
    "val_loss_value=history_dict[\"val_loss\"]\n",
    "epochs=range(1, len(loss_values) +1)\n",
    "\n",
    "\n",
    "line1=plt.plot(epochs , val_loss_value , label='validation\\Test Loss')\n",
    "line2=plt.plot(epochs , loss_values, label='Training Loss')\n",
    "plt.setp(line1 ,linewidth=2.0 ,marker='+',markersize=10.0)\n",
    "plt.setp(line1 ,linewidth=2.0, marker='4', markersize=10.0)\n",
    "plt.xlabel('Epochs')\n",
    "plt.ylabel('Loss')\n",
    "plt.grid(\"True\")\n",
    "plt.legend()\n",
    "plt.show()"
   ]
  },
  {
   "cell_type": "code",
   "execution_count": 34,
   "metadata": {},
   "outputs": [
    {
     "data": {
      "image/png": "[encoded data removed]",
      "text/plain": [
       "<Figure size 432x288 with 1 Axes>"
      ]
     },
     "metadata": {
      "needs_background": "light"
     },
     "output_type": "display_data"
    }
   ],
   "source": [
    "import matplotlib.pyplot as plt\n",
    "\n",
    "history_dict=history.history\n",
    "\n",
    "acc_values=history_dict[\"accuracy\"]\n",
    "val_acc_value=history_dict[\"val_accuracy\"]\n",
    "epochs=range(1, len(acc_values) +1)\n",
    "\n",
    "\n",
    "line1=plt.plot(epochs , val_acc_value , label='validation\\Test Accuracy')\n",
    "line2=plt.plot(epochs , acc_values, label='Training Accuracy')\n",
    "plt.setp(line1 ,linewidth=2.0 ,marker='+',markersize=10.0)\n",
    "plt.setp(line1 ,linewidth=2.0, marker='4', markersize=10.0)\n",
    "plt.xlabel('Epochs')\n",
    "plt.ylabel('Accuracy')\n",
    "plt.grid(\"True\")\n",
    "plt.legend()\n",
    "plt.show()"
   ]
  },
  {
   "cell_type": "code",
   "execution_count": 35,
   "metadata": {},
   "outputs": [],
   "source": [
    "model.save(\"jeans_traouser_cnn.h5\")"
   ]
  },
  {
   "cell_type": "code",
   "execution_count": 36,
   "metadata": {},
   "outputs": [
    {
     "data": {
      "text/plain": [
       "'4.3.0'"
      ]
     },
     "execution_count": 36,
     "metadata": {},
     "output_type": "execute_result"
    }
   ],
   "source": [
    "import cv2\n",
    "cv2.__version__"
   ]
  },
  {
   "cell_type": "code",
   "execution_count": 37,
   "metadata": {},
   "outputs": [],
   "source": [
    "from keras.models import  load_model\n",
    "\n",
    "classifier= load_model(\"jeans_traouser_cnn.h5\")"
   ]
  },
  {
   "cell_type": "code",
   "execution_count": 38,
   "metadata": {},
   "outputs": [],
   "source": [
    "\n",
    "from PIL import Image\n",
    "from IPython.display import display\n",
    "from PIL import Image\n",
    "import cv2\n",
    "import numpy as np\n",
    "from keras.preprocessing import image\n",
    "import os\n",
    "import cv2\n",
    "from os import listdir\n",
    "from os.path import isfile, join\n",
    "import re\n",
    "\n",
    "def draw_test(name, res , input_im):\n",
    "    BLACK = [0,0,0]\n",
    "    res=int(res)\n",
    "    if res==0:\n",
    "        pred=\"jeans\"\n",
    "    if res==1:\n",
    "        pred=\"Trousers\"\n",
    "    expanded_image= cv2.copyMakeBorder(input_im , 160 , 0 , 0,500 , cv2.BORDER_CONSTANT , value=BLACK)\n",
    "    cv2.putText(expanded_image , \"predicted- \" + pred(20,60) , cv2,FONT_HERSHEY_SIMPLEX , 1 , (0,255,0) , 2)\n",
    "    #xpanded_image= cv2.cvtcolor(expanded_image , cv2.COLOR_GRAY2BGR)\n",
    "    cv2.putText(expanded_image , \"true- \" + true_label, (20,120) , cv2.FONT_HERSHEY_SIMPLEX , 1  , (0,255,0) ,2)\n",
    "    cv2.imshow(name , expanded_image)\n",
    "    \n",
    "    \n",
    "    \n",
    "\n",
    "def getRandomimage(path,img_widht,img_height):\n",
    "    \n",
    "    folders = list(filter(lambda x:os.path.isdir(os.path.join(path,x)),os.listdir(path)))\n",
    "    random_directory = np.random.randint(0,len(folders))\n",
    "    path_class= folders[random_directory]\n",
    "    file_path = path + \"/\" + path_class\n",
    "    file_names = [f for f in listdir(file_path) if isfile(join(file_path , f))]\n",
    "    random_file_index = np.random.randint(0, len(file_names))\n",
    "    image_name = file_names[random_file_index]\n",
    "    final_path = file_path + \"/\" + image_name\n",
    "    return image.load_img(final_path , target_size = (img_width , img_height)), final_path ,path_class\n",
    "\n",
    "\n",
    "img_width ,img_height = 150,150\n",
    "\n",
    "\n",
    "\n",
    "files = []\n",
    "predictions=[]\n",
    "true_labels= []\n",
    "class_labels=[]\n",
    "\n",
    "for i in range(0,10):\n",
    "    path= (r'D:/New folder/Test')\n",
    "    img , final_path ,true_label = getRandomimage(path , img_width , img_height)\n",
    "    files.append(final_path)\n",
    "    true_labels.append(true_label)\n",
    "    \n",
    "    X= image.img_to_array(img)\n",
    "    X= np.expand_dims(X,axis=0)\n",
    "    images=np.vstack([X])\n",
    "    classes = model.predict_classes(images , batch_size=20)\n",
    "    predictions.append(classes)\n",
    "    \n",
    "for i in range(0 , len(files)):\n",
    "    image = cv2.imread((files[i]))\n",
    "    #raw_test =(\"prediction\" ,class_labels[predictions[i][0]], image ,true_labels [i])\n",
    "    cv2.waitKey(0)\n",
    "\n",
    "cv2.destroyAllWindows()"
   ]
  },
  {
   "cell_type": "code",
   "execution_count": null,
   "metadata": {},
   "outputs": [],
   "source": []
  }
 ],
 "metadata": {
  "kernelspec": {
   "display_name": "Python 3",
   "language": "python",
   "name": "python3"
  },
  "language_info": {
   "codemirror_mode": {
    "name": "ipython",
    "version": 3
   },
   "file_extension": ".py",
   "mimetype": "text/x-python",
   "name": "python",
   "nbconvert_exporter": "python",
   "pygments_lexer": "ipython3",
   "version": "3.6.10"
  }
 },
 "nbformat": 4,
 "nbformat_minor": 4
}
