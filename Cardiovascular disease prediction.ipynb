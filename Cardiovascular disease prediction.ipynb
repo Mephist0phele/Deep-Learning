{
 "cells": [
  {
   "cell_type": "code",
   "execution_count": 1,
   "metadata": {},
   "outputs": [],
   "source": [
    "import numpy as np\n",
    "import pandas as pd"
   ]
  },
  {
   "cell_type": "code",
   "execution_count": 2,
   "metadata": {},
   "outputs": [],
   "source": [
    "df=pd.read_csv(\"cardio_train.csv\" , sep=\";\")"
   ]
  },
  {
   "cell_type": "code",
   "execution_count": 3,
   "metadata": {},
   "outputs": [
    {
     "data": {
      "text/html": [
       "<div>\n",
       "<style scoped>\n",
       "    .dataframe tbody tr th:only-of-type {\n",
       "        vertical-align: middle;\n",
       "    }\n",
       "\n",
       "    .dataframe tbody tr th {\n",
       "        vertical-align: top;\n",
       "    }\n",
       "\n",
       "    .dataframe thead th {\n",
       "        text-align: right;\n",
       "    }\n",
       "</style>\n",
       "<table border=\"1\" class=\"dataframe\">\n",
       "  <thead>\n",
       "    <tr style=\"text-align: right;\">\n",
       "      <th></th>\n",
       "      <th>id</th>\n",
       "      <th>age</th>\n",
       "      <th>gender</th>\n",
       "      <th>height</th>\n",
       "      <th>weight</th>\n",
       "      <th>ap_hi</th>\n",
       "      <th>ap_lo</th>\n",
       "      <th>cholesterol</th>\n",
       "      <th>gluc</th>\n",
       "      <th>smoke</th>\n",
       "      <th>alco</th>\n",
       "      <th>active</th>\n",
       "      <th>cardio</th>\n",
       "    </tr>\n",
       "  </thead>\n",
       "  <tbody>\n",
       "    <tr>\n",
       "      <th>0</th>\n",
       "      <td>988</td>\n",
       "      <td>22469</td>\n",
       "      <td>1</td>\n",
       "      <td>155</td>\n",
       "      <td>69.0</td>\n",
       "      <td>130</td>\n",
       "      <td>80</td>\n",
       "      <td>2</td>\n",
       "      <td>2</td>\n",
       "      <td>0</td>\n",
       "      <td>0</td>\n",
       "      <td>1</td>\n",
       "      <td>0</td>\n",
       "    </tr>\n",
       "    <tr>\n",
       "      <th>1</th>\n",
       "      <td>989</td>\n",
       "      <td>14648</td>\n",
       "      <td>1</td>\n",
       "      <td>163</td>\n",
       "      <td>71.0</td>\n",
       "      <td>110</td>\n",
       "      <td>70</td>\n",
       "      <td>1</td>\n",
       "      <td>1</td>\n",
       "      <td>0</td>\n",
       "      <td>0</td>\n",
       "      <td>1</td>\n",
       "      <td>1</td>\n",
       "    </tr>\n",
       "    <tr>\n",
       "      <th>2</th>\n",
       "      <td>990</td>\n",
       "      <td>21901</td>\n",
       "      <td>1</td>\n",
       "      <td>165</td>\n",
       "      <td>70.0</td>\n",
       "      <td>120</td>\n",
       "      <td>80</td>\n",
       "      <td>1</td>\n",
       "      <td>1</td>\n",
       "      <td>0</td>\n",
       "      <td>0</td>\n",
       "      <td>1</td>\n",
       "      <td>0</td>\n",
       "    </tr>\n",
       "    <tr>\n",
       "      <th>3</th>\n",
       "      <td>991</td>\n",
       "      <td>14549</td>\n",
       "      <td>2</td>\n",
       "      <td>165</td>\n",
       "      <td>85.0</td>\n",
       "      <td>120</td>\n",
       "      <td>80</td>\n",
       "      <td>1</td>\n",
       "      <td>1</td>\n",
       "      <td>1</td>\n",
       "      <td>1</td>\n",
       "      <td>1</td>\n",
       "      <td>0</td>\n",
       "    </tr>\n",
       "    <tr>\n",
       "      <th>4</th>\n",
       "      <td>992</td>\n",
       "      <td>23393</td>\n",
       "      <td>1</td>\n",
       "      <td>155</td>\n",
       "      <td>62.0</td>\n",
       "      <td>120</td>\n",
       "      <td>80</td>\n",
       "      <td>1</td>\n",
       "      <td>1</td>\n",
       "      <td>0</td>\n",
       "      <td>0</td>\n",
       "      <td>1</td>\n",
       "      <td>0</td>\n",
       "    </tr>\n",
       "  </tbody>\n",
       "</table>\n",
       "</div>"
      ],
      "text/plain": [
       "    id    age  gender  height  weight  ap_hi  ap_lo  cholesterol  gluc  smoke  \\\n",
       "0  988  22469       1     155    69.0    130     80            2     2      0   \n",
       "1  989  14648       1     163    71.0    110     70            1     1      0   \n",
       "2  990  21901       1     165    70.0    120     80            1     1      0   \n",
       "3  991  14549       2     165    85.0    120     80            1     1      1   \n",
       "4  992  23393       1     155    62.0    120     80            1     1      0   \n",
       "\n",
       "   alco  active  cardio  \n",
       "0     0       1       0  \n",
       "1     0       1       1  \n",
       "2     0       1       0  \n",
       "3     1       1       0  \n",
       "4     0       1       0  "
      ]
     },
     "execution_count": 3,
     "metadata": {},
     "output_type": "execute_result"
    }
   ],
   "source": [
    "# first five rows\n",
    "df.head(5)"
   ]
  },
  {
   "cell_type": "code",
   "execution_count": 4,
   "metadata": {},
   "outputs": [
    {
     "data": {
      "text/html": [
       "<div>\n",
       "<style scoped>\n",
       "    .dataframe tbody tr th:only-of-type {\n",
       "        vertical-align: middle;\n",
       "    }\n",
       "\n",
       "    .dataframe tbody tr th {\n",
       "        vertical-align: top;\n",
       "    }\n",
       "\n",
       "    .dataframe thead th {\n",
       "        text-align: right;\n",
       "    }\n",
       "</style>\n",
       "<table border=\"1\" class=\"dataframe\">\n",
       "  <thead>\n",
       "    <tr style=\"text-align: right;\">\n",
       "      <th></th>\n",
       "      <th>id</th>\n",
       "      <th>age</th>\n",
       "      <th>gender</th>\n",
       "      <th>height</th>\n",
       "      <th>weight</th>\n",
       "      <th>ap_hi</th>\n",
       "      <th>ap_lo</th>\n",
       "      <th>cholesterol</th>\n",
       "      <th>gluc</th>\n",
       "      <th>smoke</th>\n",
       "      <th>alco</th>\n",
       "      <th>active</th>\n",
       "      <th>cardio</th>\n",
       "    </tr>\n",
       "  </thead>\n",
       "  <tbody>\n",
       "    <tr>\n",
       "      <th>69296</th>\n",
       "      <td>99993</td>\n",
       "      <td>19240</td>\n",
       "      <td>2</td>\n",
       "      <td>168</td>\n",
       "      <td>76.0</td>\n",
       "      <td>120</td>\n",
       "      <td>80</td>\n",
       "      <td>1</td>\n",
       "      <td>1</td>\n",
       "      <td>1</td>\n",
       "      <td>0</td>\n",
       "      <td>1</td>\n",
       "      <td>0</td>\n",
       "    </tr>\n",
       "    <tr>\n",
       "      <th>69297</th>\n",
       "      <td>99995</td>\n",
       "      <td>22601</td>\n",
       "      <td>1</td>\n",
       "      <td>158</td>\n",
       "      <td>126.0</td>\n",
       "      <td>140</td>\n",
       "      <td>90</td>\n",
       "      <td>2</td>\n",
       "      <td>2</td>\n",
       "      <td>0</td>\n",
       "      <td>0</td>\n",
       "      <td>1</td>\n",
       "      <td>1</td>\n",
       "    </tr>\n",
       "    <tr>\n",
       "      <th>69298</th>\n",
       "      <td>99996</td>\n",
       "      <td>19066</td>\n",
       "      <td>2</td>\n",
       "      <td>183</td>\n",
       "      <td>105.0</td>\n",
       "      <td>180</td>\n",
       "      <td>90</td>\n",
       "      <td>3</td>\n",
       "      <td>1</td>\n",
       "      <td>0</td>\n",
       "      <td>1</td>\n",
       "      <td>0</td>\n",
       "      <td>1</td>\n",
       "    </tr>\n",
       "    <tr>\n",
       "      <th>69299</th>\n",
       "      <td>99998</td>\n",
       "      <td>22431</td>\n",
       "      <td>1</td>\n",
       "      <td>163</td>\n",
       "      <td>72.0</td>\n",
       "      <td>135</td>\n",
       "      <td>80</td>\n",
       "      <td>1</td>\n",
       "      <td>2</td>\n",
       "      <td>0</td>\n",
       "      <td>0</td>\n",
       "      <td>0</td>\n",
       "      <td>1</td>\n",
       "    </tr>\n",
       "    <tr>\n",
       "      <th>69300</th>\n",
       "      <td>99999</td>\n",
       "      <td>20540</td>\n",
       "      <td>1</td>\n",
       "      <td>170</td>\n",
       "      <td>72.0</td>\n",
       "      <td>120</td>\n",
       "      <td>80</td>\n",
       "      <td>2</td>\n",
       "      <td>1</td>\n",
       "      <td>0</td>\n",
       "      <td>0</td>\n",
       "      <td>1</td>\n",
       "      <td>0</td>\n",
       "    </tr>\n",
       "  </tbody>\n",
       "</table>\n",
       "</div>"
      ],
      "text/plain": [
       "          id    age  gender  height  weight  ap_hi  ap_lo  cholesterol  gluc  \\\n",
       "69296  99993  19240       2     168    76.0    120     80            1     1   \n",
       "69297  99995  22601       1     158   126.0    140     90            2     2   \n",
       "69298  99996  19066       2     183   105.0    180     90            3     1   \n",
       "69299  99998  22431       1     163    72.0    135     80            1     2   \n",
       "69300  99999  20540       1     170    72.0    120     80            2     1   \n",
       "\n",
       "       smoke  alco  active  cardio  \n",
       "69296      1     0       1       0  \n",
       "69297      0     0       1       1  \n",
       "69298      0     1       0       1  \n",
       "69299      0     0       0       1  \n",
       "69300      0     0       1       0  "
      ]
     },
     "execution_count": 4,
     "metadata": {},
     "output_type": "execute_result"
    }
   ],
   "source": [
    "df.tail(5)"
   ]
  },
  {
   "cell_type": "markdown",
   "metadata": {},
   "source": [
    "## overview of data "
   ]
  },
  {
   "cell_type": "code",
   "execution_count": 5,
   "metadata": {},
   "outputs": [
    {
     "data": {
      "text/plain": [
       "id             0\n",
       "age            0\n",
       "gender         0\n",
       "height         0\n",
       "weight         0\n",
       "ap_hi          0\n",
       "ap_lo          0\n",
       "cholesterol    0\n",
       "gluc           0\n",
       "smoke          0\n",
       "alco           0\n",
       "active         0\n",
       "cardio         0\n",
       "dtype: int64"
      ]
     },
     "execution_count": 5,
     "metadata": {},
     "output_type": "execute_result"
    }
   ],
   "source": [
    "df.isnull().sum()"
   ]
  },
  {
   "cell_type": "code",
   "execution_count": 6,
   "metadata": {},
   "outputs": [
    {
     "name": "stdout",
     "output_type": "stream",
     "text": [
      "<class 'pandas.core.frame.DataFrame'>\n",
      "RangeIndex: 69301 entries, 0 to 69300\n",
      "Data columns (total 13 columns):\n",
      " #   Column       Non-Null Count  Dtype  \n",
      "---  ------       --------------  -----  \n",
      " 0   id           69301 non-null  int64  \n",
      " 1   age          69301 non-null  int64  \n",
      " 2   gender       69301 non-null  int64  \n",
      " 3   height       69301 non-null  int64  \n",
      " 4   weight       69301 non-null  float64\n",
      " 5   ap_hi        69301 non-null  int64  \n",
      " 6   ap_lo        69301 non-null  int64  \n",
      " 7   cholesterol  69301 non-null  int64  \n",
      " 8   gluc         69301 non-null  int64  \n",
      " 9   smoke        69301 non-null  int64  \n",
      " 10  alco         69301 non-null  int64  \n",
      " 11  active       69301 non-null  int64  \n",
      " 12  cardio       69301 non-null  int64  \n",
      "dtypes: float64(1), int64(12)\n",
      "memory usage: 6.9 MB\n"
     ]
    }
   ],
   "source": [
    "df.info()"
   ]
  },
  {
   "cell_type": "code",
   "execution_count": 7,
   "metadata": {},
   "outputs": [
    {
     "data": {
      "text/plain": [
       "id               int64\n",
       "age              int64\n",
       "gender           int64\n",
       "height           int64\n",
       "weight         float64\n",
       "ap_hi            int64\n",
       "ap_lo            int64\n",
       "cholesterol      int64\n",
       "gluc             int64\n",
       "smoke            int64\n",
       "alco             int64\n",
       "active           int64\n",
       "cardio           int64\n",
       "dtype: object"
      ]
     },
     "execution_count": 7,
     "metadata": {},
     "output_type": "execute_result"
    }
   ],
   "source": [
    "df.dtypes"
   ]
  },
  {
   "cell_type": "code",
   "execution_count": 8,
   "metadata": {},
   "outputs": [
    {
     "data": {
      "text/html": [
       "<div>\n",
       "<style scoped>\n",
       "    .dataframe tbody tr th:only-of-type {\n",
       "        vertical-align: middle;\n",
       "    }\n",
       "\n",
       "    .dataframe tbody tr th {\n",
       "        vertical-align: top;\n",
       "    }\n",
       "\n",
       "    .dataframe thead th {\n",
       "        text-align: right;\n",
       "    }\n",
       "</style>\n",
       "<table border=\"1\" class=\"dataframe\">\n",
       "  <thead>\n",
       "    <tr style=\"text-align: right;\">\n",
       "      <th></th>\n",
       "      <th>id</th>\n",
       "      <th>age</th>\n",
       "      <th>gender</th>\n",
       "      <th>height</th>\n",
       "      <th>weight</th>\n",
       "      <th>ap_hi</th>\n",
       "      <th>ap_lo</th>\n",
       "      <th>cholesterol</th>\n",
       "      <th>gluc</th>\n",
       "      <th>smoke</th>\n",
       "      <th>alco</th>\n",
       "      <th>active</th>\n",
       "      <th>cardio</th>\n",
       "    </tr>\n",
       "  </thead>\n",
       "  <tbody>\n",
       "    <tr>\n",
       "      <th>count</th>\n",
       "      <td>69301.000000</td>\n",
       "      <td>69301.000000</td>\n",
       "      <td>69301.000000</td>\n",
       "      <td>69301.000000</td>\n",
       "      <td>69301.000000</td>\n",
       "      <td>69301.000000</td>\n",
       "      <td>69301.000000</td>\n",
       "      <td>69301.000000</td>\n",
       "      <td>69301.000000</td>\n",
       "      <td>69301.000000</td>\n",
       "      <td>69301.000000</td>\n",
       "      <td>69301.000000</td>\n",
       "      <td>69301.000000</td>\n",
       "    </tr>\n",
       "    <tr>\n",
       "      <th>mean</th>\n",
       "      <td>50471.480397</td>\n",
       "      <td>19468.786280</td>\n",
       "      <td>1.349519</td>\n",
       "      <td>164.362217</td>\n",
       "      <td>74.203027</td>\n",
       "      <td>128.829584</td>\n",
       "      <td>96.650092</td>\n",
       "      <td>1.366806</td>\n",
       "      <td>1.226447</td>\n",
       "      <td>0.088051</td>\n",
       "      <td>0.053881</td>\n",
       "      <td>0.803986</td>\n",
       "      <td>0.499589</td>\n",
       "    </tr>\n",
       "    <tr>\n",
       "      <th>std</th>\n",
       "      <td>28563.100347</td>\n",
       "      <td>2467.261818</td>\n",
       "      <td>0.476821</td>\n",
       "      <td>8.205337</td>\n",
       "      <td>14.383469</td>\n",
       "      <td>154.775805</td>\n",
       "      <td>189.096240</td>\n",
       "      <td>0.680270</td>\n",
       "      <td>0.572246</td>\n",
       "      <td>0.283371</td>\n",
       "      <td>0.225784</td>\n",
       "      <td>0.396982</td>\n",
       "      <td>0.500003</td>\n",
       "    </tr>\n",
       "    <tr>\n",
       "      <th>min</th>\n",
       "      <td>988.000000</td>\n",
       "      <td>10798.000000</td>\n",
       "      <td>1.000000</td>\n",
       "      <td>55.000000</td>\n",
       "      <td>10.000000</td>\n",
       "      <td>-150.000000</td>\n",
       "      <td>-70.000000</td>\n",
       "      <td>1.000000</td>\n",
       "      <td>1.000000</td>\n",
       "      <td>0.000000</td>\n",
       "      <td>0.000000</td>\n",
       "      <td>0.000000</td>\n",
       "      <td>0.000000</td>\n",
       "    </tr>\n",
       "    <tr>\n",
       "      <th>25%</th>\n",
       "      <td>25745.000000</td>\n",
       "      <td>17664.000000</td>\n",
       "      <td>1.000000</td>\n",
       "      <td>159.000000</td>\n",
       "      <td>65.000000</td>\n",
       "      <td>120.000000</td>\n",
       "      <td>80.000000</td>\n",
       "      <td>1.000000</td>\n",
       "      <td>1.000000</td>\n",
       "      <td>0.000000</td>\n",
       "      <td>0.000000</td>\n",
       "      <td>1.000000</td>\n",
       "      <td>0.000000</td>\n",
       "    </tr>\n",
       "    <tr>\n",
       "      <th>50%</th>\n",
       "      <td>50494.000000</td>\n",
       "      <td>19704.000000</td>\n",
       "      <td>1.000000</td>\n",
       "      <td>165.000000</td>\n",
       "      <td>72.000000</td>\n",
       "      <td>120.000000</td>\n",
       "      <td>80.000000</td>\n",
       "      <td>1.000000</td>\n",
       "      <td>1.000000</td>\n",
       "      <td>0.000000</td>\n",
       "      <td>0.000000</td>\n",
       "      <td>1.000000</td>\n",
       "      <td>0.000000</td>\n",
       "    </tr>\n",
       "    <tr>\n",
       "      <th>75%</th>\n",
       "      <td>75150.000000</td>\n",
       "      <td>21326.000000</td>\n",
       "      <td>2.000000</td>\n",
       "      <td>170.000000</td>\n",
       "      <td>82.000000</td>\n",
       "      <td>140.000000</td>\n",
       "      <td>90.000000</td>\n",
       "      <td>2.000000</td>\n",
       "      <td>1.000000</td>\n",
       "      <td>0.000000</td>\n",
       "      <td>0.000000</td>\n",
       "      <td>1.000000</td>\n",
       "      <td>1.000000</td>\n",
       "    </tr>\n",
       "    <tr>\n",
       "      <th>max</th>\n",
       "      <td>99999.000000</td>\n",
       "      <td>23713.000000</td>\n",
       "      <td>2.000000</td>\n",
       "      <td>250.000000</td>\n",
       "      <td>200.000000</td>\n",
       "      <td>16020.000000</td>\n",
       "      <td>11000.000000</td>\n",
       "      <td>3.000000</td>\n",
       "      <td>3.000000</td>\n",
       "      <td>1.000000</td>\n",
       "      <td>1.000000</td>\n",
       "      <td>1.000000</td>\n",
       "      <td>1.000000</td>\n",
       "    </tr>\n",
       "  </tbody>\n",
       "</table>\n",
       "</div>"
      ],
      "text/plain": [
       "                 id           age        gender        height        weight  \\\n",
       "count  69301.000000  69301.000000  69301.000000  69301.000000  69301.000000   \n",
       "mean   50471.480397  19468.786280      1.349519    164.362217     74.203027   \n",
       "std    28563.100347   2467.261818      0.476821      8.205337     14.383469   \n",
       "min      988.000000  10798.000000      1.000000     55.000000     10.000000   \n",
       "25%    25745.000000  17664.000000      1.000000    159.000000     65.000000   \n",
       "50%    50494.000000  19704.000000      1.000000    165.000000     72.000000   \n",
       "75%    75150.000000  21326.000000      2.000000    170.000000     82.000000   \n",
       "max    99999.000000  23713.000000      2.000000    250.000000    200.000000   \n",
       "\n",
       "              ap_hi         ap_lo   cholesterol          gluc         smoke  \\\n",
       "count  69301.000000  69301.000000  69301.000000  69301.000000  69301.000000   \n",
       "mean     128.829584     96.650092      1.366806      1.226447      0.088051   \n",
       "std      154.775805    189.096240      0.680270      0.572246      0.283371   \n",
       "min     -150.000000    -70.000000      1.000000      1.000000      0.000000   \n",
       "25%      120.000000     80.000000      1.000000      1.000000      0.000000   \n",
       "50%      120.000000     80.000000      1.000000      1.000000      0.000000   \n",
       "75%      140.000000     90.000000      2.000000      1.000000      0.000000   \n",
       "max    16020.000000  11000.000000      3.000000      3.000000      1.000000   \n",
       "\n",
       "               alco        active        cardio  \n",
       "count  69301.000000  69301.000000  69301.000000  \n",
       "mean       0.053881      0.803986      0.499589  \n",
       "std        0.225784      0.396982      0.500003  \n",
       "min        0.000000      0.000000      0.000000  \n",
       "25%        0.000000      1.000000      0.000000  \n",
       "50%        0.000000      1.000000      0.000000  \n",
       "75%        0.000000      1.000000      1.000000  \n",
       "max        1.000000      1.000000      1.000000  "
      ]
     },
     "execution_count": 8,
     "metadata": {},
     "output_type": "execute_result"
    }
   ],
   "source": [
    "df.describe(include=\"all\")"
   ]
  },
  {
   "cell_type": "code",
   "execution_count": 9,
   "metadata": {},
   "outputs": [
    {
     "data": {
      "text/html": [
       "<div>\n",
       "<style scoped>\n",
       "    .dataframe tbody tr th:only-of-type {\n",
       "        vertical-align: middle;\n",
       "    }\n",
       "\n",
       "    .dataframe tbody tr th {\n",
       "        vertical-align: top;\n",
       "    }\n",
       "\n",
       "    .dataframe thead th {\n",
       "        text-align: right;\n",
       "    }\n",
       "</style>\n",
       "<table border=\"1\" class=\"dataframe\">\n",
       "  <thead>\n",
       "    <tr style=\"text-align: right;\">\n",
       "      <th></th>\n",
       "      <th>id</th>\n",
       "      <th>age</th>\n",
       "      <th>gender</th>\n",
       "      <th>height</th>\n",
       "      <th>weight</th>\n",
       "      <th>ap_hi</th>\n",
       "      <th>ap_lo</th>\n",
       "      <th>cholesterol</th>\n",
       "      <th>gluc</th>\n",
       "      <th>smoke</th>\n",
       "      <th>alco</th>\n",
       "      <th>active</th>\n",
       "      <th>cardio</th>\n",
       "    </tr>\n",
       "  </thead>\n",
       "  <tbody>\n",
       "    <tr>\n",
       "      <th>id</th>\n",
       "      <td>1.000000</td>\n",
       "      <td>0.003587</td>\n",
       "      <td>0.003773</td>\n",
       "      <td>-0.003735</td>\n",
       "      <td>-0.001549</td>\n",
       "      <td>0.003268</td>\n",
       "      <td>-0.002757</td>\n",
       "      <td>0.006400</td>\n",
       "      <td>0.002543</td>\n",
       "      <td>-0.003294</td>\n",
       "      <td>0.000384</td>\n",
       "      <td>0.002700</td>\n",
       "      <td>0.004269</td>\n",
       "    </tr>\n",
       "    <tr>\n",
       "      <th>age</th>\n",
       "      <td>0.003587</td>\n",
       "      <td>1.000000</td>\n",
       "      <td>-0.023150</td>\n",
       "      <td>-0.081304</td>\n",
       "      <td>0.054409</td>\n",
       "      <td>0.020663</td>\n",
       "      <td>0.017717</td>\n",
       "      <td>0.154343</td>\n",
       "      <td>0.099095</td>\n",
       "      <td>-0.047680</td>\n",
       "      <td>-0.029435</td>\n",
       "      <td>-0.009926</td>\n",
       "      <td>0.238095</td>\n",
       "    </tr>\n",
       "    <tr>\n",
       "      <th>gender</th>\n",
       "      <td>0.003773</td>\n",
       "      <td>-0.023150</td>\n",
       "      <td>1.000000</td>\n",
       "      <td>0.499373</td>\n",
       "      <td>0.155649</td>\n",
       "      <td>0.005980</td>\n",
       "      <td>0.015396</td>\n",
       "      <td>-0.036335</td>\n",
       "      <td>-0.021154</td>\n",
       "      <td>0.337608</td>\n",
       "      <td>0.171015</td>\n",
       "      <td>0.006241</td>\n",
       "      <td>0.008592</td>\n",
       "    </tr>\n",
       "    <tr>\n",
       "      <th>height</th>\n",
       "      <td>-0.003735</td>\n",
       "      <td>-0.081304</td>\n",
       "      <td>0.499373</td>\n",
       "      <td>1.000000</td>\n",
       "      <td>0.290333</td>\n",
       "      <td>0.005492</td>\n",
       "      <td>0.006215</td>\n",
       "      <td>-0.050632</td>\n",
       "      <td>-0.018929</td>\n",
       "      <td>0.187899</td>\n",
       "      <td>0.094164</td>\n",
       "      <td>-0.005974</td>\n",
       "      <td>-0.011015</td>\n",
       "    </tr>\n",
       "    <tr>\n",
       "      <th>weight</th>\n",
       "      <td>-0.001549</td>\n",
       "      <td>0.054409</td>\n",
       "      <td>0.155649</td>\n",
       "      <td>0.290333</td>\n",
       "      <td>1.000000</td>\n",
       "      <td>0.030665</td>\n",
       "      <td>0.043652</td>\n",
       "      <td>0.141901</td>\n",
       "      <td>0.107255</td>\n",
       "      <td>0.068304</td>\n",
       "      <td>0.067259</td>\n",
       "      <td>-0.016514</td>\n",
       "      <td>0.182094</td>\n",
       "    </tr>\n",
       "    <tr>\n",
       "      <th>ap_hi</th>\n",
       "      <td>0.003268</td>\n",
       "      <td>0.020663</td>\n",
       "      <td>0.005980</td>\n",
       "      <td>0.005492</td>\n",
       "      <td>0.030665</td>\n",
       "      <td>1.000000</td>\n",
       "      <td>0.015919</td>\n",
       "      <td>0.023573</td>\n",
       "      <td>0.011821</td>\n",
       "      <td>-0.000933</td>\n",
       "      <td>0.001385</td>\n",
       "      <td>0.000032</td>\n",
       "      <td>0.054211</td>\n",
       "    </tr>\n",
       "    <tr>\n",
       "      <th>ap_lo</th>\n",
       "      <td>-0.002757</td>\n",
       "      <td>0.017717</td>\n",
       "      <td>0.015396</td>\n",
       "      <td>0.006215</td>\n",
       "      <td>0.043652</td>\n",
       "      <td>0.015919</td>\n",
       "      <td>1.000000</td>\n",
       "      <td>0.024023</td>\n",
       "      <td>0.010895</td>\n",
       "      <td>0.004948</td>\n",
       "      <td>0.010764</td>\n",
       "      <td>0.004962</td>\n",
       "      <td>0.065290</td>\n",
       "    </tr>\n",
       "    <tr>\n",
       "      <th>cholesterol</th>\n",
       "      <td>0.006400</td>\n",
       "      <td>0.154343</td>\n",
       "      <td>-0.036335</td>\n",
       "      <td>-0.050632</td>\n",
       "      <td>0.141901</td>\n",
       "      <td>0.023573</td>\n",
       "      <td>0.024023</td>\n",
       "      <td>1.000000</td>\n",
       "      <td>0.451741</td>\n",
       "      <td>0.010237</td>\n",
       "      <td>0.036015</td>\n",
       "      <td>0.009708</td>\n",
       "      <td>0.220752</td>\n",
       "    </tr>\n",
       "    <tr>\n",
       "      <th>gluc</th>\n",
       "      <td>0.002543</td>\n",
       "      <td>0.099095</td>\n",
       "      <td>-0.021154</td>\n",
       "      <td>-0.018929</td>\n",
       "      <td>0.107255</td>\n",
       "      <td>0.011821</td>\n",
       "      <td>0.010895</td>\n",
       "      <td>0.451741</td>\n",
       "      <td>1.000000</td>\n",
       "      <td>-0.004608</td>\n",
       "      <td>0.011442</td>\n",
       "      <td>-0.007301</td>\n",
       "      <td>0.089062</td>\n",
       "    </tr>\n",
       "    <tr>\n",
       "      <th>smoke</th>\n",
       "      <td>-0.003294</td>\n",
       "      <td>-0.047680</td>\n",
       "      <td>0.337608</td>\n",
       "      <td>0.187899</td>\n",
       "      <td>0.068304</td>\n",
       "      <td>-0.000933</td>\n",
       "      <td>0.004948</td>\n",
       "      <td>0.010237</td>\n",
       "      <td>-0.004608</td>\n",
       "      <td>1.000000</td>\n",
       "      <td>0.339709</td>\n",
       "      <td>0.025794</td>\n",
       "      <td>-0.015225</td>\n",
       "    </tr>\n",
       "    <tr>\n",
       "      <th>alco</th>\n",
       "      <td>0.000384</td>\n",
       "      <td>-0.029435</td>\n",
       "      <td>0.171015</td>\n",
       "      <td>0.094164</td>\n",
       "      <td>0.067259</td>\n",
       "      <td>0.001385</td>\n",
       "      <td>0.010764</td>\n",
       "      <td>0.036015</td>\n",
       "      <td>0.011442</td>\n",
       "      <td>0.339709</td>\n",
       "      <td>1.000000</td>\n",
       "      <td>0.025745</td>\n",
       "      <td>-0.007217</td>\n",
       "    </tr>\n",
       "    <tr>\n",
       "      <th>active</th>\n",
       "      <td>0.002700</td>\n",
       "      <td>-0.009926</td>\n",
       "      <td>0.006241</td>\n",
       "      <td>-0.005974</td>\n",
       "      <td>-0.016514</td>\n",
       "      <td>0.000032</td>\n",
       "      <td>0.004962</td>\n",
       "      <td>0.009708</td>\n",
       "      <td>-0.007301</td>\n",
       "      <td>0.025794</td>\n",
       "      <td>0.025745</td>\n",
       "      <td>1.000000</td>\n",
       "      <td>-0.035592</td>\n",
       "    </tr>\n",
       "    <tr>\n",
       "      <th>cardio</th>\n",
       "      <td>0.004269</td>\n",
       "      <td>0.238095</td>\n",
       "      <td>0.008592</td>\n",
       "      <td>-0.011015</td>\n",
       "      <td>0.182094</td>\n",
       "      <td>0.054211</td>\n",
       "      <td>0.065290</td>\n",
       "      <td>0.220752</td>\n",
       "      <td>0.089062</td>\n",
       "      <td>-0.015225</td>\n",
       "      <td>-0.007217</td>\n",
       "      <td>-0.035592</td>\n",
       "      <td>1.000000</td>\n",
       "    </tr>\n",
       "  </tbody>\n",
       "</table>\n",
       "</div>"
      ],
      "text/plain": [
       "                   id       age    gender    height    weight     ap_hi  \\\n",
       "id           1.000000  0.003587  0.003773 -0.003735 -0.001549  0.003268   \n",
       "age          0.003587  1.000000 -0.023150 -0.081304  0.054409  0.020663   \n",
       "gender       0.003773 -0.023150  1.000000  0.499373  0.155649  0.005980   \n",
       "height      -0.003735 -0.081304  0.499373  1.000000  0.290333  0.005492   \n",
       "weight      -0.001549  0.054409  0.155649  0.290333  1.000000  0.030665   \n",
       "ap_hi        0.003268  0.020663  0.005980  0.005492  0.030665  1.000000   \n",
       "ap_lo       -0.002757  0.017717  0.015396  0.006215  0.043652  0.015919   \n",
       "cholesterol  0.006400  0.154343 -0.036335 -0.050632  0.141901  0.023573   \n",
       "gluc         0.002543  0.099095 -0.021154 -0.018929  0.107255  0.011821   \n",
       "smoke       -0.003294 -0.047680  0.337608  0.187899  0.068304 -0.000933   \n",
       "alco         0.000384 -0.029435  0.171015  0.094164  0.067259  0.001385   \n",
       "active       0.002700 -0.009926  0.006241 -0.005974 -0.016514  0.000032   \n",
       "cardio       0.004269  0.238095  0.008592 -0.011015  0.182094  0.054211   \n",
       "\n",
       "                ap_lo  cholesterol      gluc     smoke      alco    active  \\\n",
       "id          -0.002757     0.006400  0.002543 -0.003294  0.000384  0.002700   \n",
       "age          0.017717     0.154343  0.099095 -0.047680 -0.029435 -0.009926   \n",
       "gender       0.015396    -0.036335 -0.021154  0.337608  0.171015  0.006241   \n",
       "height       0.006215    -0.050632 -0.018929  0.187899  0.094164 -0.005974   \n",
       "weight       0.043652     0.141901  0.107255  0.068304  0.067259 -0.016514   \n",
       "ap_hi        0.015919     0.023573  0.011821 -0.000933  0.001385  0.000032   \n",
       "ap_lo        1.000000     0.024023  0.010895  0.004948  0.010764  0.004962   \n",
       "cholesterol  0.024023     1.000000  0.451741  0.010237  0.036015  0.009708   \n",
       "gluc         0.010895     0.451741  1.000000 -0.004608  0.011442 -0.007301   \n",
       "smoke        0.004948     0.010237 -0.004608  1.000000  0.339709  0.025794   \n",
       "alco         0.010764     0.036015  0.011442  0.339709  1.000000  0.025745   \n",
       "active       0.004962     0.009708 -0.007301  0.025794  0.025745  1.000000   \n",
       "cardio       0.065290     0.220752  0.089062 -0.015225 -0.007217 -0.035592   \n",
       "\n",
       "               cardio  \n",
       "id           0.004269  \n",
       "age          0.238095  \n",
       "gender       0.008592  \n",
       "height      -0.011015  \n",
       "weight       0.182094  \n",
       "ap_hi        0.054211  \n",
       "ap_lo        0.065290  \n",
       "cholesterol  0.220752  \n",
       "gluc         0.089062  \n",
       "smoke       -0.015225  \n",
       "alco        -0.007217  \n",
       "active      -0.035592  \n",
       "cardio       1.000000  "
      ]
     },
     "execution_count": 9,
     "metadata": {},
     "output_type": "execute_result"
    }
   ],
   "source": [
    "# finding the correlation between  columns\n",
    "df.corr()"
   ]
  },
  {
   "cell_type": "code",
   "execution_count": 10,
   "metadata": {},
   "outputs": [
    {
     "data": {
      "text/plain": [
       "id             -0.001317\n",
       "age            -0.307388\n",
       "gender          0.631203\n",
       "height         -0.634040\n",
       "weight          1.005120\n",
       "ap_hi          84.886144\n",
       "ap_lo          32.101546\n",
       "cholesterol     1.587480\n",
       "gluc            2.397520\n",
       "smoke           2.907579\n",
       "alco            3.951845\n",
       "active         -1.531525\n",
       "cardio          0.001645\n",
       "dtype: float64"
      ]
     },
     "execution_count": 10,
     "metadata": {},
     "output_type": "execute_result"
    }
   ],
   "source": [
    "df.skew()"
   ]
  },
  {
   "cell_type": "code",
   "execution_count": 11,
   "metadata": {},
   "outputs": [
    {
     "data": {
      "text/plain": [
       "<matplotlib.axes._subplots.AxesSubplot at 0x1b202505b38>"
      ]
     },
     "execution_count": 11,
     "metadata": {},
     "output_type": "execute_result"
    },
    {
     "data": {
      "image/png": "[encoded data removed]",
      "text/plain": [
       "<Figure size 432x288 with 2 Axes>"
      ]
     },
     "metadata": {
      "needs_background": "light"
     },
     "output_type": "display_data"
    }
   ],
   "source": [
    "import seaborn as sns\n",
    "sns.heatmap(df.corr())"
   ]
  },
  {
   "cell_type": "code",
   "execution_count": 12,
   "metadata": {},
   "outputs": [],
   "source": [
    "#sns.pairplot(df)"
   ]
  },
  {
   "cell_type": "code",
   "execution_count": 13,
   "metadata": {},
   "outputs": [
    {
     "data": {
      "text/plain": [
       "<matplotlib.axes._subplots.AxesSubplot at 0x1b2025e8630>"
      ]
     },
     "execution_count": 13,
     "metadata": {},
     "output_type": "execute_result"
    },
    {
     "data": {
      "image/png": "[encoded data removed]",
      "text/plain": [
       "<Figure size 432x288 with 1 Axes>"
      ]
     },
     "metadata": {
      "needs_background": "light"
     },
     "output_type": "display_data"
    }
   ],
   "source": [
    "# This looks like a normal distribution\n",
    "sns.distplot(df[\"height\"].dropna())"
   ]
  },
  {
   "cell_type": "code",
   "execution_count": 14,
   "metadata": {},
   "outputs": [
    {
     "data": {
      "text/plain": [
       "<matplotlib.axes._subplots.AxesSubplot at 0x1b2029b6f60>"
      ]
     },
     "execution_count": 14,
     "metadata": {},
     "output_type": "execute_result"
    },
    {
     "data": {
      "image/png": "[encoded data removed]",
      "text/plain": [
       "<Figure size 432x288 with 1 Axes>"
      ]
     },
     "metadata": {
      "needs_background": "light"
     },
     "output_type": "display_data"
    }
   ],
   "source": [
    "sns.distplot(df[\"weight\"].dropna())"
   ]
  },
  {
   "cell_type": "code",
   "execution_count": 15,
   "metadata": {},
   "outputs": [
    {
     "data": {
      "text/plain": [
       "<matplotlib.axes._subplots.AxesSubplot at 0x1b202aaf4a8>"
      ]
     },
     "execution_count": 15,
     "metadata": {},
     "output_type": "execute_result"
    },
    {
     "data": {
      "image/png": "[encoded data removed]",
      "text/plain": [
       "<Figure size 432x288 with 1 Axes>"
      ]
     },
     "metadata": {
      "needs_background": "light"
     },
     "output_type": "display_data"
    }
   ],
   "source": [
    "sns.distplot(df[\"ap_hi\"].dropna())"
   ]
  },
  {
   "cell_type": "code",
   "execution_count": 16,
   "metadata": {},
   "outputs": [
    {
     "data": {
      "text/plain": [
       "(array([6.9289e+04, 3.0000e+00, 0.0000e+00, 0.0000e+00, 0.0000e+00,\n",
       "        0.0000e+00, 1.0000e+00, 1.0000e+00, 6.0000e+00, 1.0000e+00]),\n",
       " array([ -150.,  1467.,  3084.,  4701.,  6318.,  7935.,  9552., 11169.,\n",
       "        12786., 14403., 16020.]),\n",
       " <a list of 10 Patch objects>)"
      ]
     },
     "execution_count": 16,
     "metadata": {},
     "output_type": "execute_result"
    },
    {
     "data": {
      "image/png": "[encoded data removed]",
      "text/plain": [
       "<Figure size 432x288 with 1 Axes>"
      ]
     },
     "metadata": {
      "needs_background": "light"
     },
     "output_type": "display_data"
    }
   ],
   "source": [
    "import matplotlib.pyplot as plt\n",
    "plt.hist(df[\"ap_hi\"])"
   ]
  },
  {
   "cell_type": "code",
   "execution_count": 17,
   "metadata": {},
   "outputs": [
    {
     "data": {
      "text/plain": [
       "(array([6.9069e+04, 2.0800e+02, 0.0000e+00, 0.0000e+00, 0.0000e+00,\n",
       "        2.0000e+00, 3.0000e+00, 1.1000e+01, 4.0000e+00, 4.0000e+00]),\n",
       " array([  -70.,  1037.,  2144.,  3251.,  4358.,  5465.,  6572.,  7679.,\n",
       "         8786.,  9893., 11000.]),\n",
       " <a list of 10 Patch objects>)"
      ]
     },
     "execution_count": 17,
     "metadata": {},
     "output_type": "execute_result"
    },
    {
     "data": {
      "image/png": "[encoded data removed]",
      "text/plain": [
       "<Figure size 432x288 with 1 Axes>"
      ]
     },
     "metadata": {
      "needs_background": "light"
     },
     "output_type": "display_data"
    }
   ],
   "source": [
    "plt.hist(df[\"ap_lo\"])"
   ]
  },
  {
   "cell_type": "code",
   "execution_count": 18,
   "metadata": {},
   "outputs": [
    {
     "data": {
      "text/plain": [
       "{'whiskers': [<matplotlib.lines.Line2D at 0x1b2026739e8>,\n",
       "  <matplotlib.lines.Line2D at 0x1b202673da0>],\n",
       " 'caps': [<matplotlib.lines.Line2D at 0x1b20270b240>,\n",
       "  <matplotlib.lines.Line2D at 0x1b2026b1438>],\n",
       " 'boxes': [<matplotlib.lines.Line2D at 0x1b202673278>],\n",
       " 'medians': [<matplotlib.lines.Line2D at 0x1b2026e2160>],\n",
       " 'fliers': [<matplotlib.lines.Line2D at 0x1b2026bcb70>],\n",
       " 'means': []}"
      ]
     },
     "execution_count": 18,
     "metadata": {},
     "output_type": "execute_result"
    },
    {
     "data": {
      "image/png": "[encoded data removed]",
      "text/plain": [
       "<Figure size 432x288 with 1 Axes>"
      ]
     },
     "metadata": {
      "needs_background": "light"
     },
     "output_type": "display_data"
    }
   ],
   "source": [
    "# finding the outliers with the felp of boxplot\n",
    "import seaborn as sns\n",
    "plt.boxplot(df[\"height\"])"
   ]
  },
  {
   "cell_type": "code",
   "execution_count": 19,
   "metadata": {},
   "outputs": [
    {
     "data": {
      "text/plain": [
       "count    69301.000000\n",
       "mean       164.362217\n",
       "std          8.205337\n",
       "min         55.000000\n",
       "25%        159.000000\n",
       "50%        165.000000\n",
       "75%        170.000000\n",
       "max        250.000000\n",
       "Name: height, dtype: float64"
      ]
     },
     "execution_count": 19,
     "metadata": {},
     "output_type": "execute_result"
    }
   ],
   "source": [
    "df[\"height\"].describe()"
   ]
  },
  {
   "cell_type": "code",
   "execution_count": 20,
   "metadata": {},
   "outputs": [
    {
     "data": {
      "text/plain": [
       "{'whiskers': [<matplotlib.lines.Line2D at 0x1b202ba2c18>,\n",
       "  <matplotlib.lines.Line2D at 0x1b2026fd550>],\n",
       " 'caps': [<matplotlib.lines.Line2D at 0x1b202bb2d68>,\n",
       "  <matplotlib.lines.Line2D at 0x1b202c19438>],\n",
       " 'boxes': [<matplotlib.lines.Line2D at 0x1b202aa2f98>],\n",
       " 'medians': [<matplotlib.lines.Line2D at 0x1b202c190b8>],\n",
       " 'fliers': [<matplotlib.lines.Line2D at 0x1b202c31320>],\n",
       " 'means': []}"
      ]
     },
     "execution_count": 20,
     "metadata": {},
     "output_type": "execute_result"
    },
    {
     "data": {
      "image/png": "[encoded data removed]",
      "text/plain": [
       "<Figure size 432x288 with 1 Axes>"
      ]
     },
     "metadata": {
      "needs_background": "light"
     },
     "output_type": "display_data"
    }
   ],
   "source": [
    "import seaborn as sns\n",
    "plt.boxplot(df[\"weight\"])"
   ]
  },
  {
   "cell_type": "code",
   "execution_count": 21,
   "metadata": {},
   "outputs": [
    {
     "data": {
      "text/plain": [
       "count    69301.000000\n",
       "mean        74.203027\n",
       "std         14.383469\n",
       "min         10.000000\n",
       "25%         65.000000\n",
       "50%         72.000000\n",
       "75%         82.000000\n",
       "max        200.000000\n",
       "Name: weight, dtype: float64"
      ]
     },
     "execution_count": 21,
     "metadata": {},
     "output_type": "execute_result"
    }
   ],
   "source": [
    "df[\"weight\"].describe()"
   ]
  },
  {
   "cell_type": "code",
   "execution_count": 22,
   "metadata": {},
   "outputs": [
    {
     "data": {
      "text/plain": [
       "{'whiskers': [<matplotlib.lines.Line2D at 0x1b202d8bd68>,\n",
       "  <matplotlib.lines.Line2D at 0x1b202d9c128>],\n",
       " 'caps': [<matplotlib.lines.Line2D at 0x1b202d9c4a8>,\n",
       "  <matplotlib.lines.Line2D at 0x1b202d9c828>],\n",
       " 'boxes': [<matplotlib.lines.Line2D at 0x1b202d8ba58>],\n",
       " 'medians': [<matplotlib.lines.Line2D at 0x1b202d9cba8>],\n",
       " 'fliers': [<matplotlib.lines.Line2D at 0x1b202d9cf28>],\n",
       " 'means': []}"
      ]
     },
     "execution_count": 22,
     "metadata": {},
     "output_type": "execute_result"
    },
    {
     "data": {
      "image/png": "[encoded data removed]",
      "text/plain": [
       "<Figure size 432x288 with 1 Axes>"
      ]
     },
     "metadata": {
      "needs_background": "light"
     },
     "output_type": "display_data"
    }
   ],
   "source": [
    "import seaborn as sns\n",
    "plt.boxplot(df[\"ap_hi\"])"
   ]
  },
  {
   "cell_type": "code",
   "execution_count": 23,
   "metadata": {},
   "outputs": [
    {
     "data": {
      "text/plain": [
       "count    69301.000000\n",
       "mean       128.829584\n",
       "std        154.775805\n",
       "min       -150.000000\n",
       "25%        120.000000\n",
       "50%        120.000000\n",
       "75%        140.000000\n",
       "max      16020.000000\n",
       "Name: ap_hi, dtype: float64"
      ]
     },
     "execution_count": 23,
     "metadata": {},
     "output_type": "execute_result"
    }
   ],
   "source": [
    "df[\"ap_hi\"].describe()"
   ]
  },
  {
   "cell_type": "code",
   "execution_count": 24,
   "metadata": {},
   "outputs": [
    {
     "data": {
      "text/plain": [
       "count    69301.000000\n",
       "mean        96.650092\n",
       "std        189.096240\n",
       "min        -70.000000\n",
       "25%         80.000000\n",
       "50%         80.000000\n",
       "75%         90.000000\n",
       "max      11000.000000\n",
       "Name: ap_lo, dtype: float64"
      ]
     },
     "execution_count": 24,
     "metadata": {},
     "output_type": "execute_result"
    }
   ],
   "source": [
    "df[\"ap_lo\"].describe()"
   ]
  },
  {
   "cell_type": "markdown",
   "metadata": {},
   "source": [
    "If The Data Is Normally Distributed We use this method "
   ]
  },
  {
   "cell_type": "code",
   "execution_count": 25,
   "metadata": {},
   "outputs": [
    {
     "name": "stdout",
     "output_type": "stream",
     "text": [
      "188.9782281215961\n",
      "139.7462058692554\n",
      "164.36221699542574\n"
     ]
    }
   ],
   "source": [
    "# using a 3rd std we will calculate the boundaries which differentiates the outliers\n",
    "mean=df[\"height\"].mean()\n",
    "upper_boundry = df[\"height\"].mean() + 3*df[\"height\"].std()\n",
    "lower_boundry = df[\"height\"].mean() - 3*df[\"height\"].std()\n",
    "print(upper_boundry)\n",
    "print(lower_boundry)\n",
    "print(mean)"
   ]
  },
  {
   "cell_type": "code",
   "execution_count": 26,
   "metadata": {},
   "outputs": [],
   "source": [
    "df=df[df[\"height\"]>lower_boundry]"
   ]
  },
  {
   "cell_type": "code",
   "execution_count": 27,
   "metadata": {},
   "outputs": [],
   "source": [
    "df=df[df[\"height\"]<upper_boundry]"
   ]
  },
  {
   "cell_type": "code",
   "execution_count": 28,
   "metadata": {},
   "outputs": [
    {
     "data": {
      "text/plain": [
       "{'whiskers': [<matplotlib.lines.Line2D at 0x1b202e04eb8>,\n",
       "  <matplotlib.lines.Line2D at 0x1b202e11278>],\n",
       " 'caps': [<matplotlib.lines.Line2D at 0x1b202e115f8>,\n",
       "  <matplotlib.lines.Line2D at 0x1b202e11978>],\n",
       " 'boxes': [<matplotlib.lines.Line2D at 0x1b202e04ba8>],\n",
       " 'medians': [<matplotlib.lines.Line2D at 0x1b202e11cf8>],\n",
       " 'fliers': [<matplotlib.lines.Line2D at 0x1b202e1b0b8>],\n",
       " 'means': []}"
      ]
     },
     "execution_count": 28,
     "metadata": {},
     "output_type": "execute_result"
    },
    {
     "data": {
      "image/png": "[encoded data removed]",
      "text/plain": [
       "<Figure size 432x288 with 1 Axes>"
      ]
     },
     "metadata": {
      "needs_background": "light"
     },
     "output_type": "display_data"
    }
   ],
   "source": [
    "plt.boxplot(df[\"height\"])"
   ]
  },
  {
   "cell_type": "code",
   "execution_count": 29,
   "metadata": {},
   "outputs": [
    {
     "name": "stdout",
     "output_type": "stream",
     "text": [
      "117.07069868837726\n",
      "31.257820780097852\n",
      "74.16425973423756\n"
     ]
    }
   ],
   "source": [
    "mean=df[\"weight\"].mean()\n",
    "upper_boundry = df[\"weight\"].mean() + 3*df[\"weight\"].std()\n",
    "lower_boundry = df[\"weight\"].mean() - 3*df[\"weight\"].std()\n",
    "print(upper_boundry)\n",
    "print(lower_boundry)\n",
    "print(mean)"
   ]
  },
  {
   "cell_type": "code",
   "execution_count": 30,
   "metadata": {},
   "outputs": [],
   "source": [
    "# removing the outliers\n",
    "df=df[df[\"weight\"]>lower_boundry]"
   ]
  },
  {
   "cell_type": "code",
   "execution_count": 31,
   "metadata": {},
   "outputs": [],
   "source": [
    "df=df[df[\"weight\"]<upper_boundry]"
   ]
  },
  {
   "cell_type": "code",
   "execution_count": 32,
   "metadata": {},
   "outputs": [
    {
     "data": {
      "text/plain": [
       "{'whiskers': [<matplotlib.lines.Line2D at 0x1b202e6e748>,\n",
       "  <matplotlib.lines.Line2D at 0x1b202e6eac8>],\n",
       " 'caps': [<matplotlib.lines.Line2D at 0x1b202e6ee48>,\n",
       "  <matplotlib.lines.Line2D at 0x1b202e7a208>],\n",
       " 'boxes': [<matplotlib.lines.Line2D at 0x1b202e6e438>],\n",
       " 'medians': [<matplotlib.lines.Line2D at 0x1b202e7a588>],\n",
       " 'fliers': [<matplotlib.lines.Line2D at 0x1b202e7a908>],\n",
       " 'means': []}"
      ]
     },
     "execution_count": 32,
     "metadata": {},
     "output_type": "execute_result"
    },
    {
     "data": {
      "image/png": "[encoded data removed]",
      "text/plain": [
       "<Figure size 432x288 with 1 Axes>"
      ]
     },
     "metadata": {
      "needs_background": "light"
     },
     "output_type": "display_data"
    }
   ],
   "source": [
    "plt.boxplot(df[\"weight\"])"
   ]
  },
  {
   "cell_type": "code",
   "execution_count": 33,
   "metadata": {},
   "outputs": [
    {
     "name": "stdout",
     "output_type": "stream",
     "text": [
      "664.2778468582312\n",
      "-471.5625472313928\n",
      "96.35764981341919\n"
     ]
    }
   ],
   "source": [
    "mean=df[\"ap_lo\"].mean()\n",
    "upper_boundry = df[\"ap_lo\"].mean() + 3*df[\"ap_lo\"].std()\n",
    "lower_boundry = df[\"ap_lo\"].mean() - 3*df[\"ap_lo\"].std()\n",
    "print(upper_boundry)\n",
    "print(lower_boundry)\n",
    "print(mean)"
   ]
  },
  {
   "cell_type": "code",
   "execution_count": 34,
   "metadata": {},
   "outputs": [],
   "source": [
    "q1= df[\"ap_lo\"].quantile(0.25)\n",
    "q2= df[\"ap_lo\"].quantile(0.75)"
   ]
  },
  {
   "cell_type": "code",
   "execution_count": 35,
   "metadata": {},
   "outputs": [
    {
     "name": "stdout",
     "output_type": "stream",
     "text": [
      "10.0\n"
     ]
    }
   ],
   "source": [
    "IQR = q2-q1\n",
    "print(IQR)"
   ]
  },
  {
   "cell_type": "code",
   "execution_count": 36,
   "metadata": {},
   "outputs": [],
   "source": [
    "# CALCULATING THE CUTOFF OUTLIERS\n",
    "cut_off = IQR * 1.5"
   ]
  },
  {
   "cell_type": "code",
   "execution_count": 37,
   "metadata": {},
   "outputs": [
    {
     "name": "stdout",
     "output_type": "stream",
     "text": [
      "15.0\n"
     ]
    }
   ],
   "source": [
    "# CALCULATING THE CUTOFF OUTLIERS\n",
    "cut_off = IQR * 1.5\n",
    "print(cut_off)"
   ]
  },
  {
   "cell_type": "code",
   "execution_count": 38,
   "metadata": {},
   "outputs": [
    {
     "name": "stdout",
     "output_type": "stream",
     "text": [
      "65.0\n",
      "105.0\n"
     ]
    }
   ],
   "source": [
    "lower, upper = q1 - cut_off, q2 + cut_off\n",
    "print(lower)\n",
    "print(upper)"
   ]
  },
  {
   "cell_type": "code",
   "execution_count": 39,
   "metadata": {},
   "outputs": [],
   "source": [
    "# removing the outliers\n",
    "df=df[df[\"ap_lo\"]>lower]"
   ]
  },
  {
   "cell_type": "code",
   "execution_count": 40,
   "metadata": {},
   "outputs": [],
   "source": [
    "df=df[df[\"ap_lo\"]<upper]"
   ]
  },
  {
   "cell_type": "code",
   "execution_count": 41,
   "metadata": {},
   "outputs": [
    {
     "data": {
      "text/plain": [
       "{'whiskers': [<matplotlib.lines.Line2D at 0x1b202ed2f28>,\n",
       "  <matplotlib.lines.Line2D at 0x1b202edf2e8>],\n",
       " 'caps': [<matplotlib.lines.Line2D at 0x1b202edf668>,\n",
       "  <matplotlib.lines.Line2D at 0x1b202edf9e8>],\n",
       " 'boxes': [<matplotlib.lines.Line2D at 0x1b202ed2c18>],\n",
       " 'medians': [<matplotlib.lines.Line2D at 0x1b202edfd68>],\n",
       " 'fliers': [<matplotlib.lines.Line2D at 0x1b202eea128>],\n",
       " 'means': []}"
      ]
     },
     "execution_count": 41,
     "metadata": {},
     "output_type": "execute_result"
    },
    {
     "data": {
      "image/png": "[encoded data removed]",
      "text/plain": [
       "<Figure size 432x288 with 1 Axes>"
      ]
     },
     "metadata": {
      "needs_background": "light"
     },
     "output_type": "display_data"
    }
   ],
   "source": [
    "plt.boxplot(df[\"ap_lo\"])"
   ]
  },
  {
   "cell_type": "code",
   "execution_count": 42,
   "metadata": {},
   "outputs": [],
   "source": [
    "q1= df[\"ap_hi\"].quantile(0.25)\n",
    "q2= df[\"ap_hi\"].quantile(0.75)"
   ]
  },
  {
   "cell_type": "code",
   "execution_count": 43,
   "metadata": {},
   "outputs": [
    {
     "name": "stdout",
     "output_type": "stream",
     "text": [
      "20.0\n"
     ]
    }
   ],
   "source": [
    "IQR = q2-q1\n",
    "print(IQR)"
   ]
  },
  {
   "cell_type": "code",
   "execution_count": 44,
   "metadata": {},
   "outputs": [],
   "source": [
    "# CALCULATING THE CUTOFF OUTLIERS\n",
    "cut_off = IQR * 1.5"
   ]
  },
  {
   "cell_type": "code",
   "execution_count": 45,
   "metadata": {},
   "outputs": [
    {
     "name": "stdout",
     "output_type": "stream",
     "text": [
      "30.0\n"
     ]
    }
   ],
   "source": [
    "# CALCULATING THE CUTOFF OUTLIERS\n",
    "cut_off = IQR * 1.5\n",
    "print(cut_off)"
   ]
  },
  {
   "cell_type": "code",
   "execution_count": 46,
   "metadata": {},
   "outputs": [
    {
     "name": "stdout",
     "output_type": "stream",
     "text": [
      "90.0\n",
      "170.0\n"
     ]
    }
   ],
   "source": [
    "lower, upper = q1 - cut_off, q2 + cut_off\n",
    "print(lower)\n",
    "print(upper)"
   ]
  },
  {
   "cell_type": "code",
   "execution_count": 47,
   "metadata": {},
   "outputs": [],
   "source": [
    "# removing the outliers\n",
    "df=df[df[\"ap_hi\"]>lower]"
   ]
  },
  {
   "cell_type": "code",
   "execution_count": 48,
   "metadata": {},
   "outputs": [],
   "source": [
    "df=df[df[\"ap_hi\"]<upper]"
   ]
  },
  {
   "cell_type": "code",
   "execution_count": 49,
   "metadata": {},
   "outputs": [
    {
     "data": {
      "text/plain": [
       "{'whiskers': [<matplotlib.lines.Line2D at 0x1b202f40c88>,\n",
       "  <matplotlib.lines.Line2D at 0x1b202f4d048>],\n",
       " 'caps': [<matplotlib.lines.Line2D at 0x1b202f4d3c8>,\n",
       "  <matplotlib.lines.Line2D at 0x1b202f4d748>],\n",
       " 'boxes': [<matplotlib.lines.Line2D at 0x1b202f40978>],\n",
       " 'medians': [<matplotlib.lines.Line2D at 0x1b202f4dac8>],\n",
       " 'fliers': [<matplotlib.lines.Line2D at 0x1b202f4de48>],\n",
       " 'means': []}"
      ]
     },
     "execution_count": 49,
     "metadata": {},
     "output_type": "execute_result"
    },
    {
     "data": {
      "image/png": "[encoded data removed]",
      "text/plain": [
       "<Figure size 432x288 with 1 Axes>"
      ]
     },
     "metadata": {
      "needs_background": "light"
     },
     "output_type": "display_data"
    }
   ],
   "source": [
    "plt.boxplot(df[\"ap_hi\"])"
   ]
  },
  {
   "cell_type": "code",
   "execution_count": 50,
   "metadata": {},
   "outputs": [
    {
     "data": {
      "text/plain": [
       "id            -0.002617\n",
       "age           -0.315805\n",
       "gender         0.625925\n",
       "height         0.073620\n",
       "weight         0.561139\n",
       "ap_hi          0.677875\n",
       "ap_lo          0.447828\n",
       "cholesterol    1.618849\n",
       "gluc           2.428527\n",
       "smoke          2.931585\n",
       "alco           4.010416\n",
       "active        -1.533069\n",
       "cardio         0.022418\n",
       "dtype: float64"
      ]
     },
     "execution_count": 50,
     "metadata": {},
     "output_type": "execute_result"
    }
   ],
   "source": [
    "df.skew()"
   ]
  },
  {
   "cell_type": "code",
   "execution_count": 51,
   "metadata": {},
   "outputs": [],
   "source": [
    "import scipy.stats as stat\n",
    "import pylab\n",
    "#### If you want to check whether feature is guassian or normal distributed\n",
    "#### Q-Q plot\n",
    "def plot_data(df,feature):\n",
    "    plt.figure(figsize=(10,6))\n",
    "    plt.subplot(1,2,1)\n",
    "    df[feature].hist()\n",
    "    plt.subplot(1,2,2)\n",
    "    stat.probplot(df[feature],dist='norm',plot=pylab)\n",
    "    plt.show()"
   ]
  },
  {
   "cell_type": "code",
   "execution_count": 52,
   "metadata": {},
   "outputs": [
    {
     "data": {
      "image/png": "[encoded data removed]",
      "text/plain": [
       "<Figure size 720x432 with 2 Axes>"
      ]
     },
     "metadata": {
      "needs_background": "light"
     },
     "output_type": "display_data"
    }
   ],
   "source": [
    "plot_data(df,'height')\n"
   ]
  },
  {
   "cell_type": "code",
   "execution_count": 53,
   "metadata": {},
   "outputs": [
    {
     "data": {
      "image/png": "[encoded data removed]",
      "text/plain": [
       "<Figure size 720x432 with 2 Axes>"
      ]
     },
     "metadata": {
      "needs_background": "light"
     },
     "output_type": "display_data"
    }
   ],
   "source": [
    "plot_data(df,'weight')"
   ]
  },
  {
   "cell_type": "code",
   "execution_count": 54,
   "metadata": {},
   "outputs": [
    {
     "data": {
      "image/png": "[encoded data removed]",
      "text/plain": [
       "<Figure size 720x432 with 2 Axes>"
      ]
     },
     "metadata": {
      "needs_background": "light"
     },
     "output_type": "display_data"
    }
   ],
   "source": [
    "# apply boxcox transformation in ap_hi columns for a normal distribution\n",
    "df['ap_hi_Boxcox'],parameters=stat.boxcox(df['ap_hi'])\n",
    "plot_data(df,'ap_hi_Boxcox')"
   ]
  },
  {
   "cell_type": "code",
   "execution_count": 55,
   "metadata": {},
   "outputs": [
    {
     "data": {
      "image/png": "[encoded data removed]",
      "text/plain": [
       "<Figure size 720x432 with 2 Axes>"
      ]
     },
     "metadata": {
      "needs_background": "light"
     },
     "output_type": "display_data"
    }
   ],
   "source": [
    "# apply boxcox transformation in ap_lo columns for a normal distribution\n",
    "df['ap_lo_Boxcox'],parameters=stat.boxcox(df['ap_lo'])\n",
    "plot_data(df,'ap_lo_Boxcox')"
   ]
  },
  {
   "cell_type": "code",
   "execution_count": 56,
   "metadata": {},
   "outputs": [],
   "source": [
    "X=df.drop(\"cardio\",axis=1)"
   ]
  },
  {
   "cell_type": "code",
   "execution_count": 57,
   "metadata": {},
   "outputs": [],
   "source": [
    "y=df[\"cardio\"]"
   ]
  },
  {
   "cell_type": "code",
   "execution_count": 58,
   "metadata": {},
   "outputs": [],
   "source": [
    "from sklearn.model_selection import train_test_split\n",
    "X_train,X_test,y_train,y_test=train_test_split(X,y,random_state=50,test_size=20)"
   ]
  },
  {
   "cell_type": "code",
   "execution_count": 59,
   "metadata": {},
   "outputs": [],
   "source": [
    "from sklearn.naive_bayes import GaussianNB\n",
    "from sklearn.ensemble import ExtraTreesClassifier\n",
    "from sklearn.ensemble import RandomForestClassifier\n",
    "#from sklearn.ensemble import CatBoostClassifier\n",
    "from sklearn.naive_bayes import MultinomialNB\n",
    "from sklearn.svm import SVC\n",
    "from sklearn.tree import DecisionTreeClassifier\n",
    "from sklearn.neighbors import KNeighborsClassifier\n",
    "from sklearn.model_selection import cross_val_score\n",
    "from sklearn.model_selection import cross_val_predict\n",
    "from sklearn.metrics import confusion_matrix,classification_report\n",
    "from sklearn.metrics import roc_curve\n",
    "import warnings \n",
    "from sklearn.linear_model import LogisticRegression\n",
    "from sklearn.metrics import accuracy_score\n",
    "model= [LogisticRegression(), GaussianNB(), SVC(), DecisionTreeClassifier() , ExtraTreesClassifier() , RandomForestClassifier()\n",
    "       ]"
   ]
  },
  {
   "cell_type": "code",
   "execution_count": 60,
   "metadata": {},
   "outputs": [
    {
     "name": "stdout",
     "output_type": "stream",
     "text": [
      "accuracy score of m LogisticRegression() is\n",
      "0.8\n",
      "[[9 1]\n",
      " [3 7]]\n",
      "              precision    recall  f1-score   support\n",
      "\n",
      "           0       0.75      0.90      0.82        10\n",
      "           1       0.88      0.70      0.78        10\n",
      "\n",
      "    accuracy                           0.80        20\n",
      "   macro avg       0.81      0.80      0.80        20\n",
      "weighted avg       0.81      0.80      0.80        20\n",
      "\n",
      "accuracy score of m GaussianNB() is\n",
      "0.55\n",
      "[[8 2]\n",
      " [7 3]]\n",
      "              precision    recall  f1-score   support\n",
      "\n",
      "           0       0.53      0.80      0.64        10\n",
      "           1       0.60      0.30      0.40        10\n",
      "\n",
      "    accuracy                           0.55        20\n",
      "   macro avg       0.57      0.55      0.52        20\n",
      "weighted avg       0.57      0.55      0.52        20\n",
      "\n",
      "accuracy score of m SVC() is\n",
      "0.45\n",
      "[[6 4]\n",
      " [7 3]]\n",
      "              precision    recall  f1-score   support\n",
      "\n",
      "           0       0.46      0.60      0.52        10\n",
      "           1       0.43      0.30      0.35        10\n",
      "\n",
      "    accuracy                           0.45        20\n",
      "   macro avg       0.45      0.45      0.44        20\n",
      "weighted avg       0.45      0.45      0.44        20\n",
      "\n",
      "accuracy score of m DecisionTreeClassifier() is\n",
      "0.55\n",
      "[[7 3]\n",
      " [6 4]]\n",
      "              precision    recall  f1-score   support\n",
      "\n",
      "           0       0.54      0.70      0.61        10\n",
      "           1       0.57      0.40      0.47        10\n",
      "\n",
      "    accuracy                           0.55        20\n",
      "   macro avg       0.55      0.55      0.54        20\n",
      "weighted avg       0.55      0.55      0.54        20\n",
      "\n",
      "accuracy score of m ExtraTreesClassifier() is\n",
      "0.55\n",
      "[[7 3]\n",
      " [6 4]]\n",
      "              precision    recall  f1-score   support\n",
      "\n",
      "           0       0.54      0.70      0.61        10\n",
      "           1       0.57      0.40      0.47        10\n",
      "\n",
      "    accuracy                           0.55        20\n",
      "   macro avg       0.55      0.55      0.54        20\n",
      "weighted avg       0.55      0.55      0.54        20\n",
      "\n",
      "accuracy score of m RandomForestClassifier() is\n",
      "0.6\n",
      "[[7 3]\n",
      " [5 5]]\n",
      "              precision    recall  f1-score   support\n",
      "\n",
      "           0       0.58      0.70      0.64        10\n",
      "           1       0.62      0.50      0.56        10\n",
      "\n",
      "    accuracy                           0.60        20\n",
      "   macro avg       0.60      0.60      0.60        20\n",
      "weighted avg       0.60      0.60      0.60        20\n",
      "\n"
     ]
    }
   ],
   "source": [
    "for m in model:\n",
    "    m.fit(X_train,y_train)\n",
    "    m.score(X_train,y_train)\n",
    "    predm=m.predict(X_test)\n",
    "    print('accuracy score of m',m,'is')\n",
    "    print(accuracy_score(y_test,predm))\n",
    "    print(confusion_matrix(y_test,predm))\n",
    "    print(classification_report(y_test,predm))"
   ]
  },
  {
   "cell_type": "code",
   "execution_count": 61,
   "metadata": {},
   "outputs": [
    {
     "name": "stdout",
     "output_type": "stream",
     "text": [
      "Accuracy: 0.50\n"
     ]
    }
   ],
   "source": [
    "# using a KNeighborsClassifier\n",
    "from sklearn import metrics\n",
    "from sklearn.neighbors import KNeighborsClassifier\n",
    "classifier = KNeighborsClassifier(n_neighbors = 9, metric = 'minkowski', p = 2)\n",
    "classifier = classifier.fit(X_train,y_train)\n",
    "#prediction\n",
    "y_pred = classifier.predict(X_test)\n",
    "#check accuracy\n",
    "accuracy = metrics.accuracy_score(y_test, y_pred)\n",
    "print('Accuracy: {:.2f}'.format(accuracy))"
   ]
  },
  {
   "cell_type": "code",
   "execution_count": 62,
   "metadata": {},
   "outputs": [
    {
     "name": "stdout",
     "output_type": "stream",
     "text": [
      "0.497254624055703\n"
     ]
    }
   ],
   "source": [
    "from sklearn.model_selection import cross_val_score\n",
    "knnclassifier = KNeighborsClassifier(n_neighbors=4)\n",
    "print(cross_val_score(knnclassifier, X, y, cv=10, scoring ='accuracy').mean())"
   ]
  },
  {
   "cell_type": "code",
   "execution_count": 63,
   "metadata": {},
   "outputs": [
    {
     "name": "stdout",
     "output_type": "stream",
     "text": [
      "0.6945210990446127\n"
     ]
    }
   ],
   "source": [
    "\n",
    "model = LogisticRegression()\n",
    "print (cross_val_score(model, X, y, cv=10, scoring = 'accuracy').mean())"
   ]
  },
  {
   "cell_type": "code",
   "execution_count": 64,
   "metadata": {},
   "outputs": [
    {
     "name": "stdout",
     "output_type": "stream",
     "text": [
      "0.6177499286004482\n"
     ]
    }
   ],
   "source": [
    "\n",
    "model = DecisionTreeClassifier()\n",
    "print (cross_val_score(model, X, y, cv=10, scoring = 'accuracy').mean())"
   ]
  },
  {
   "cell_type": "code",
   "execution_count": 65,
   "metadata": {},
   "outputs": [
    {
     "name": "stdout",
     "output_type": "stream",
     "text": [
      "0.7095667947578238\n"
     ]
    }
   ],
   "source": [
    "\n",
    "model = ExtraTreesClassifier()\n",
    "print (cross_val_score(model, X, y, cv=10, scoring = 'accuracy').mean())"
   ]
  },
  {
   "cell_type": "code",
   "execution_count": 67,
   "metadata": {},
   "outputs": [],
   "source": [
    "# saving the model with logistic regression \n",
    "X_train,X_test,y_train,y_test=train_test_split(X,y,test_size=20,random_state=50)\n",
    "model = LogisticRegression()\n",
    "m.fit(X_train,y_train)\n",
    "y_pred=m.predict(X_test)"
   ]
  },
  {
   "cell_type": "code",
   "execution_count": null,
   "metadata": {},
   "outputs": [],
   "source": []
  },
  {
   "cell_type": "code",
   "execution_count": null,
   "metadata": {},
   "outputs": [],
   "source": []
  }
 ],
 "metadata": {
  "kernelspec": {
   "display_name": "Python 3",
   "language": "python",
   "name": "python3"
  },
  "language_info": {
   "codemirror_mode": {
    "name": "ipython",
    "version": 3
   },
   "file_extension": ".py",
   "mimetype": "text/x-python",
   "name": "python",
   "nbconvert_exporter": "python",
   "pygments_lexer": "ipython3",
   "version": "3.6.10"
  }
 },
 "nbformat": 4,
 "nbformat_minor": 4
}
