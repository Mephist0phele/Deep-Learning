{
 "cells": [
  {
   "cell_type": "code",
   "execution_count": 3,
   "metadata": {},
   "outputs": [],
   "source": [
    "from selenium import webdriver\n",
    "from selenium.webdriver.support.ui import WebDriverWait\n",
    "import os"
   ]
  },
  {
   "cell_type": "code",
   "execution_count": 4,
   "metadata": {},
   "outputs": [],
   "source": [
    "driver = webdriver.Chrome(executable_path= r\"chromedriver.exe\")"
   ]
  },
  {
   "cell_type": "code",
   "execution_count": 5,
   "metadata": {},
   "outputs": [],
   "source": [
    "my_page= driver.get(\"https://www.flipkart.com/search?q=mens+trouser&sid=clo%2Cvua%2Cmle%2Clhk&as=on&as-show=on&otracker=AS_QueryStore_OrganicAutoSuggest_2_7_na_na_na&otracker1=AS_QueryStore_OrganicAutoSuggest_2_7_na_na_na&as-pos=2&as-type=RECENT&suggestionId=mens+trouser%7CMen%27s+Trousers&requestId=cdf7755b-dc7f-463b-a122-2700972ec290&as-searchtext=mens%20tr\")"
   ]
  },
  {
   "cell_type": "markdown",
   "metadata": {},
   "source": [
    "# Making the directory to the store image"
   ]
  },
  {
   "cell_type": "code",
   "execution_count": 6,
   "metadata": {},
   "outputs": [],
   "source": [
    "def make_directory(dirname):\n",
    "    current_path = os.getcwd()\n",
    "    path = os.path.join(current_path , dirname)\n",
    "    if not os.path.exists(path):\n",
    "        os.makedirs(path)"
   ]
  },
  {
   "cell_type": "code",
   "execution_count": 7,
   "metadata": {},
   "outputs": [],
   "source": [
    "make_directory(\"flipkart_trousers\")"
   ]
  },
  {
   "cell_type": "markdown",
   "metadata": {},
   "source": [
    "# now the scrapping part"
   ]
  },
  {
   "cell_type": "code",
   "execution_count": 8,
   "metadata": {},
   "outputs": [
    {
     "name": "stdout",
     "output_type": "stream",
     "text": [
      "[<selenium.webdriver.remote.webelement.WebElement (session=\"5c8ae1fda27e71ef988f083223ef7e55\", element=\"852b01a2-7d8c-4e9f-a152-2efab4b899c4\")>, <selenium.webdriver.remote.webelement.WebElement (session=\"5c8ae1fda27e71ef988f083223ef7e55\", element=\"5ee15f53-c16a-45c0-adb2-1a7546dd2d99\")>, <selenium.webdriver.remote.webelement.WebElement (session=\"5c8ae1fda27e71ef988f083223ef7e55\", element=\"66c98a0c-5530-428e-8713-7b849394eb91\")>, <selenium.webdriver.remote.webelement.WebElement (session=\"5c8ae1fda27e71ef988f083223ef7e55\", element=\"f8343ed2-e8d8-41d6-97d3-a8816296422e\")>, <selenium.webdriver.remote.webelement.WebElement (session=\"5c8ae1fda27e71ef988f083223ef7e55\", element=\"24c167fc-0fea-43db-bb34-28bc5e723036\")>, <selenium.webdriver.remote.webelement.WebElement (session=\"5c8ae1fda27e71ef988f083223ef7e55\", element=\"e99acaf7-241c-47fc-86f3-9def7dfaef00\")>, <selenium.webdriver.remote.webelement.WebElement (session=\"5c8ae1fda27e71ef988f083223ef7e55\", element=\"e20d0c62-5106-4f3c-93e1-326fdab03710\")>, <selenium.webdriver.remote.webelement.WebElement (session=\"5c8ae1fda27e71ef988f083223ef7e55\", element=\"62a8e3b5-9df0-4378-a519-b3971bcf116f\")>, <selenium.webdriver.remote.webelement.WebElement (session=\"5c8ae1fda27e71ef988f083223ef7e55\", element=\"91dc9125-1f12-4b21-b083-03cd20ac5166\")>, <selenium.webdriver.remote.webelement.WebElement (session=\"5c8ae1fda27e71ef988f083223ef7e55\", element=\"d271c132-df50-42a9-a5a9-0799d8338d6e\")>, <selenium.webdriver.remote.webelement.WebElement (session=\"5c8ae1fda27e71ef988f083223ef7e55\", element=\"7954bb3d-1a4b-4338-bf69-fde21dedef1a\")>, <selenium.webdriver.remote.webelement.WebElement (session=\"5c8ae1fda27e71ef988f083223ef7e55\", element=\"9426432f-ab8d-4087-8d54-18f12b97545e\")>, <selenium.webdriver.remote.webelement.WebElement (session=\"5c8ae1fda27e71ef988f083223ef7e55\", element=\"9c8a5052-f3c1-4e08-b230-21b04c9b4b59\")>, <selenium.webdriver.remote.webelement.WebElement (session=\"5c8ae1fda27e71ef988f083223ef7e55\", element=\"4de4f770-46b0-41be-9353-fc85909eb856\")>, <selenium.webdriver.remote.webelement.WebElement (session=\"5c8ae1fda27e71ef988f083223ef7e55\", element=\"08cab2df-35bc-4cf4-bebe-73e0af5b8db2\")>, <selenium.webdriver.remote.webelement.WebElement (session=\"5c8ae1fda27e71ef988f083223ef7e55\", element=\"d6392be6-fd8b-4cfe-a3d2-32817ec8e261\")>, <selenium.webdriver.remote.webelement.WebElement (session=\"5c8ae1fda27e71ef988f083223ef7e55\", element=\"90f31888-66e9-48b9-82b2-9d4ad8412d7a\")>, <selenium.webdriver.remote.webelement.WebElement (session=\"5c8ae1fda27e71ef988f083223ef7e55\", element=\"13195cdc-b30c-4422-b300-8079068974fe\")>, <selenium.webdriver.remote.webelement.WebElement (session=\"5c8ae1fda27e71ef988f083223ef7e55\", element=\"4dbb733c-5c9a-4a34-aff9-dffdf3562944\")>, <selenium.webdriver.remote.webelement.WebElement (session=\"5c8ae1fda27e71ef988f083223ef7e55\", element=\"bb180017-3755-4008-ac92-9a164a71fc70\")>, <selenium.webdriver.remote.webelement.WebElement (session=\"5c8ae1fda27e71ef988f083223ef7e55\", element=\"890d348e-571c-4268-8661-dbee7b9b2892\")>, <selenium.webdriver.remote.webelement.WebElement (session=\"5c8ae1fda27e71ef988f083223ef7e55\", element=\"ce4d30f0-7a26-4ffb-8ef7-1acdba4d60a5\")>, <selenium.webdriver.remote.webelement.WebElement (session=\"5c8ae1fda27e71ef988f083223ef7e55\", element=\"6f466a56-249f-4548-aed8-f8a7eaadd866\")>, <selenium.webdriver.remote.webelement.WebElement (session=\"5c8ae1fda27e71ef988f083223ef7e55\", element=\"05c70021-cc96-4d8c-b349-5f52203a1b7b\")>, <selenium.webdriver.remote.webelement.WebElement (session=\"5c8ae1fda27e71ef988f083223ef7e55\", element=\"d65f3623-d65c-46be-aeaa-6a0912b032c6\")>, <selenium.webdriver.remote.webelement.WebElement (session=\"5c8ae1fda27e71ef988f083223ef7e55\", element=\"32148015-30ac-430f-aa5a-cf13855b4b42\")>, <selenium.webdriver.remote.webelement.WebElement (session=\"5c8ae1fda27e71ef988f083223ef7e55\", element=\"55f8ca91-1f2e-467a-b7cd-784257acecaf\")>, <selenium.webdriver.remote.webelement.WebElement (session=\"5c8ae1fda27e71ef988f083223ef7e55\", element=\"736f408d-8ad8-4e90-a6e1-cd569e48ff1b\")>, <selenium.webdriver.remote.webelement.WebElement (session=\"5c8ae1fda27e71ef988f083223ef7e55\", element=\"8ba1119b-94b6-4bda-a426-d497815ccf5a\")>, <selenium.webdriver.remote.webelement.WebElement (session=\"5c8ae1fda27e71ef988f083223ef7e55\", element=\"3310c591-02eb-44b5-bae3-97977e0a6211\")>, <selenium.webdriver.remote.webelement.WebElement (session=\"5c8ae1fda27e71ef988f083223ef7e55\", element=\"7161c149-2564-430a-831b-6551d95fe399\")>, <selenium.webdriver.remote.webelement.WebElement (session=\"5c8ae1fda27e71ef988f083223ef7e55\", element=\"a044100f-8568-4e6c-9d46-730fa0828a1b\")>, <selenium.webdriver.remote.webelement.WebElement (session=\"5c8ae1fda27e71ef988f083223ef7e55\", element=\"fb50efcb-f48d-4b85-9ba0-7228c1f8ab99\")>, <selenium.webdriver.remote.webelement.WebElement (session=\"5c8ae1fda27e71ef988f083223ef7e55\", element=\"1402ccfe-9eec-4093-9a82-c8944318e998\")>, <selenium.webdriver.remote.webelement.WebElement (session=\"5c8ae1fda27e71ef988f083223ef7e55\", element=\"1606dcf1-d6ad-4db6-8d25-18b9924f5a59\")>, <selenium.webdriver.remote.webelement.WebElement (session=\"5c8ae1fda27e71ef988f083223ef7e55\", element=\"dd82cebe-19c6-43ed-8385-9605be298b83\")>, <selenium.webdriver.remote.webelement.WebElement (session=\"5c8ae1fda27e71ef988f083223ef7e55\", element=\"237da112-7ae6-43c7-b63c-90ab5c5e118b\")>, <selenium.webdriver.remote.webelement.WebElement (session=\"5c8ae1fda27e71ef988f083223ef7e55\", element=\"17996b93-4709-44ac-bcb8-9847cf5d81b6\")>, <selenium.webdriver.remote.webelement.WebElement (session=\"5c8ae1fda27e71ef988f083223ef7e55\", element=\"48466062-2de5-4112-880f-0b74483506eb\")>, <selenium.webdriver.remote.webelement.WebElement (session=\"5c8ae1fda27e71ef988f083223ef7e55\", element=\"f038eb69-657d-46ae-bdee-b6a698c71318\")>]\n"
     ]
    }
   ],
   "source": [
    "images=driver.find_elements_by_xpath(\"//img[@class='_3togXc']\")\n",
    "print(images)"
   ]
  },
  {
   "cell_type": "code",
   "execution_count": 9,
   "metadata": {},
   "outputs": [
    {
     "name": "stdout",
     "output_type": "stream",
     "text": [
      "https://rukminim1.flixcart.com/image/330/396/k6jnfrk0/trouser/f/6/v/32-petfmnsp559465-peter-england-original-imafzzkfgn2fgz5h.jpeg?q=50\n",
      "https://rukminim1.flixcart.com/image/330/396/jz1l7rk0/trouser/j/u/s/30-astfwcrfo87872-allen-solly-original-imafj5keas9kbqu7.jpeg?q=50\n",
      "https://rukminim1.flixcart.com/image/330/396/k70spzk0/trouser/g/k/b/30-hltr003885-highlander-original-imafpchrxfmvzxrt.jpeg?q=50\n",
      "https://rukminim1.flixcart.com/image/330/396/jxqfonk0/trouser/k/w/z/28-bmw-cotton-trs-ben-martin-original-imafhh8yv8aybb2c.jpeg?q=50\n",
      "https://rukminim1.flixcart.com/image/330/396/k7f34i80/trouser/k/t/5/28-vrocp-gy-vrojass-original-imafpz4grpxubdwa.jpeg?q=50\n",
      "https://rukminim1.flixcart.com/image/330/396/jrz8u4w0/trouser/c/r/y/38-bmw-cotton-trs-ben-martin-original-imafdnrpbaxpp6ya.jpeg?q=50\n",
      "https://rukminim1.flixcart.com/image/330/396/jrz8u4w0/trouser/e/g/c/36-bmw-cotton-trs-ben-martin-original-imafdnrptfmmxwqv.jpeg?q=50\n",
      "https://rukminim1.flixcart.com/image/330/396/kazor680/trouser/q/r/c/34-packof2-baleno-green-sgrey-aa-ad-av-original-imafsgynkdvkfga4.jpeg?q=50\n",
      "https://rukminim1.flixcart.com/image/330/396/jxqfonk0/trouser/3/t/q/38-bmw-cotton-trs-ben-martin-original-imafg4vhtcgztehc.jpeg?q=50\n",
      "https://rukminim1.flixcart.com/image/330/396/jt4olu80/trouser/e/t/5/36-jogger-green-plus91-original-imafek22njetaexx.jpeg?q=50\n",
      "https://rukminim1.flixcart.com/image/330/396/jvwpfgw0/trouser/e/w/k/30-t-130-trouser-baleno-black-aa-ad-av-original-imafgm8ytr4c7yez.jpeg?q=50\n",
      "https://rukminim1.flixcart.com/image/330/396/kazor680/trouser/n/w/y/34-combo-baleno-ad-av-original-imafsfvxh5fgxruy.jpeg?q=50\n",
      "https://rukminim1.flixcart.com/image/330/396/jst930w0/trouser/g/s/v/30-sktr-610-crm-fubar-original-imafebf24hyeu2ev.jpeg?q=50\n",
      "https://rukminim1.flixcart.com/image/330/396/k70spzk0/trouser/h/k/u/30-hltr003959-highlander-original-imafpchqmyqyxf8h.jpeg?q=50\n",
      "https://rukminim1.flixcart.com/image/330/396/jxf05u80/trouser/n/j/e/36-combo-trouser-baleno-blackand-green-aa-ad-av-original-imafhuqs5xrfhfzq.jpeg?q=50\n",
      "https://rukminim1.flixcart.com/image/330/396/k70spzk0/trouser/3/q/j/30-hltr003871-highlander-original-imafpchrggg5szzh.jpeg?q=50\n",
      "https://rukminim1.flixcart.com/image/330/396/k5msb680/trouser/b/b/f/l-pant4016-olive-crease-clips-original-imafz27h3vzpx88g.jpeg?q=50\n",
      "https://rukminim1.flixcart.com/image/330/396/k70spzk0/trouser/w/a/h/30-hltr003966-highlander-original-imafpchqendfwsse.jpeg?q=50\n",
      "https://rukminim1.flixcart.com/image/330/396/k70spzk0/trouser/a/n/t/30-hltr004082-highlander-original-imafpchr9cvjh4ta.jpeg?q=50\n",
      "https://rukminim1.flixcart.com/image/330/396/k687wy80/trouser/w/x/z/28-pctfcsspi07520-peter-england-original-imafzpzwvhgcyzek.jpeg?q=50\n",
      "https://rukminim1.flixcart.com/image/330/396/jwaztzk0/trouser/t/w/c/40-t-127-trouser-baleno-cream-aa-ad-av-original-imafhyt5ane2grs5.jpeg?q=50\n",
      "https://rukminim1.flixcart.com/image/330/396/k70spzk0/trouser/e/r/p/30-hltr003917-highlander-original-imafpchqzbuvcgay.jpeg?q=50\n",
      "https://rukminim1.flixcart.com/image/330/396/jmmce4w0/trouser/y/r/v/30-formalblue-brown-classio-original-imaf8uwyxtwa6g4c.jpeg?q=50\n",
      "https://rukminim1.flixcart.com/image/330/396/k3ahbww0/trouser/k/x/v/32-rctl00428-k8-raymond-original-imafmdfhwshttkyq.jpeg?q=50\n",
      "https://rukminim1.flixcart.com/image/330/396/jrz8u4w0/trouser/6/y/b/34-bmw-cotton-trs-ben-martin-original-imafdnrp8cxmkhty.jpeg?q=50\n",
      "https://rukminim1.flixcart.com/image/330/396/trouser/r/6/a/40-blackbelano-aa-ad-av-original-imaeqbhmgqwphbqb.jpeg?q=50\n",
      "https://rukminim1.flixcart.com/image/330/396/k70spzk0/trouser/9/2/q/30-hltr003863-highlander-original-imafpchtbd7yzysx.jpeg?q=50\n",
      "https://rukminim1.flixcart.com/image/330/396/k70spzk0/trouser/c/5/b/30-hltr003910-highlander-original-imafpchtkag5jjvx.jpeg?q=50\n",
      "https://rukminim1.flixcart.com/image/330/396/k33c4nk0/trouser/f/h/a/30-green-jogger-sarona-original-imafg8gfzdap2tnn.jpeg?q=50\n",
      "https://rukminim1.flixcart.com/image/330/396/k34rki80/trouser/k/j/h/32-lytfcctfs36958-louis-philippe-sport-original-imafmc5jhjes9c4p.jpeg?q=50\n",
      "https://rukminim1.flixcart.com/image/330/396/k70spzk0/trouser/a/2/g/30-hltr003909-highlander-original-imafpchtbrkknm56.jpeg?q=50\n",
      "https://rukminim1.flixcart.com/image/330/396/jxf05u80/trouser/3/k/w/40-combo-trouser-baleno-blackand-coffi-aa-ad-av-original-imafhuqytz4bfyzf.jpeg?q=50\n",
      "https://rukminim1.flixcart.com/image/330/396/k70spzk0/trouser/q/t/h/30-hltr003939-highlander-original-imafpchqfhaz6yeh.jpeg?q=50\n",
      "https://rukminim1.flixcart.com/image/330/396/k3ncakw0/trouser/7/u/w/32-pcty00369-n7-park-avenue-original-imafmncm24sazaeh.jpeg?q=50\n",
      "https://rukminim1.flixcart.com/image/330/396/kb2jmvk0/trouser/g/u/k/44-t353-trouser-baleno-sgrey-aa36-ad-av-original-imafsgerqwzmehgs.jpeg?q=50\n",
      "https://rukminim1.flixcart.com/image/330/396/kb2jmvk0/trouser/g/u/k/44-t353-trouser-baleno-sgrey-aa36-ad-av-original-imafsgerqwzmehgs.jpeg?q=50\n",
      "https://rukminim1.flixcart.com/image/330/396/k70spzk0/trouser/v/g/z/30-hltr003942-highlander-original-imafpchtkggqrndp.jpeg?q=50\n",
      "https://rukminim1.flixcart.com/image/330/396/k1nw9zk0/trouser/d/a/9/30-kctr-5555-grey-fubar-original-imafh6jhqy2pdhxr.jpeg?q=50\n",
      "https://rukminim1.flixcart.com/image/330/396/jrz8u4w0/trouser/b/m/n/28-bmw-cotton-trs-ben-martin-original-imafdnrpqwafvth6.jpeg?q=50\n",
      "https://rukminim1.flixcart.com/image/330/396/k70spzk0/trouser/r/m/y/30-hltr004220-highlander-original-imafpchrdwh8eyhy.jpeg?q=50\n"
     ]
    }
   ],
   "source": [
    "urls = []\n",
    "for image in images:\n",
    "    source= image.get_attribute('src')\n",
    "    urls.append(source)\n",
    "    print(source)"
   ]
  },
  {
   "cell_type": "code",
   "execution_count": 10,
   "metadata": {},
   "outputs": [
    {
     "data": {
      "text/plain": [
       "40"
      ]
     },
     "execution_count": 10,
     "metadata": {},
     "output_type": "execute_result"
    }
   ],
   "source": [
    "len(urls)"
   ]
  },
  {
   "cell_type": "markdown",
   "metadata": {},
   "source": [
    "# Using the URLs to download images"
   ]
  },
  {
   "cell_type": "code",
   "execution_count": 11,
   "metadata": {},
   "outputs": [],
   "source": [
    "import shutil\n",
    "import requests\n"
   ]
  },
  {
   "cell_type": "code",
   "execution_count": 12,
   "metadata": {},
   "outputs": [
    {
     "name": "stdout",
     "output_type": "stream",
     "text": [
      "Downloading 1 of 40 images\n",
      "Downloading 2 of 40 images\n",
      "Downloading 3 of 40 images\n",
      "Downloading 4 of 40 images\n",
      "Downloading 5 of 40 images\n",
      "Downloading 6 of 40 images\n",
      "Downloading 7 of 40 images\n",
      "Downloading 8 of 40 images\n",
      "Downloading 9 of 40 images\n",
      "Downloading 10 of 40 images\n",
      "Downloading 11 of 40 images\n",
      "Downloading 12 of 40 images\n",
      "Downloading 13 of 40 images\n",
      "Downloading 14 of 40 images\n",
      "Downloading 15 of 40 images\n",
      "Downloading 16 of 40 images\n",
      "Downloading 17 of 40 images\n",
      "Downloading 18 of 40 images\n",
      "Downloading 19 of 40 images\n",
      "Downloading 20 of 40 images\n",
      "Downloading 21 of 40 images\n",
      "Downloading 22 of 40 images\n",
      "Downloading 23 of 40 images\n",
      "Downloading 24 of 40 images\n",
      "Downloading 25 of 40 images\n",
      "Downloading 26 of 40 images\n",
      "Downloading 27 of 40 images\n",
      "Downloading 28 of 40 images\n",
      "Downloading 29 of 40 images\n",
      "Downloading 30 of 40 images\n",
      "Downloading 31 of 40 images\n",
      "Downloading 32 of 40 images\n",
      "Downloading 33 of 40 images\n",
      "Downloading 34 of 40 images\n",
      "Downloading 35 of 40 images\n",
      "Downloading 36 of 40 images\n",
      "Downloading 37 of 40 images\n",
      "Downloading 38 of 40 images\n",
      "Downloading 39 of 40 images\n",
      "Downloading 40 of 40 images\n"
     ]
    }
   ],
   "source": [
    "for index , link in enumerate(urls):\n",
    "    print(\"Downloading {0} of {1} images\".format(index+1 , len(urls)))\n",
    "    response = requests.get(link)\n",
    "    with open('flipkart_trousers/img_{0}.jpeg'.format(index), \"wb\") as file:\n",
    "        file.write(response.content)"
   ]
  },
  {
   "cell_type": "code",
   "execution_count": null,
   "metadata": {},
   "outputs": [],
   "source": []
  }
 ],
 "metadata": {
  "kernelspec": {
   "display_name": "Python 3",
   "language": "python",
   "name": "python3"
  },
  "language_info": {
   "codemirror_mode": {
    "name": "ipython",
    "version": 3
   },
   "file_extension": ".py",
   "mimetype": "text/x-python",
   "name": "python",
   "nbconvert_exporter": "python",
   "pygments_lexer": "ipython3",
   "version": "3.6.10"
  }
 },
 "nbformat": 4,
 "nbformat_minor": 4
}
